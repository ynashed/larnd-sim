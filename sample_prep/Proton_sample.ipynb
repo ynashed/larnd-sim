{
 "cells": [
  {
   "cell_type": "code",
   "execution_count": 13,
   "id": "21791cd5",
   "metadata": {},
   "outputs": [],
   "source": [
    "import h5py\n",
    "import numpy as np\n",
    "import numpy.lib.recfunctions as rfn\n",
    "import plotly.graph_objects as go\n",
    "import matplotlib.pyplot as plt\n",
    "import os\n",
    "import yaml\n",
    "from scipy.interpolate import CubicSpline"
   ]
  },
  {
   "cell_type": "code",
   "execution_count": 9,
   "id": "c68f5379",
   "metadata": {},
   "outputs": [],
   "source": [
    "import pandas as pd\n",
    "df = pd.read_csv('NIST_proton_read.txt', header=None, sep=' ')"
   ]
  },
  {
   "cell_type": "code",
   "execution_count": 10,
   "id": "b052d2e8",
   "metadata": {},
   "outputs": [],
   "source": [
    "rho=1.38\n",
    "dEdx_NIST = df[1][1:].to_numpy(dtype=float) * rho\n",
    "Range_NIST = df[2][1:].to_numpy(dtype=float) / rho"
   ]
  },
  {
   "cell_type": "code",
   "execution_count": 11,
   "id": "e768d257",
   "metadata": {},
   "outputs": [],
   "source": [
    "def alpha(dEdx, Ab=0.8, kb=0.0486, E=0.5, rho=1.38):\n",
    "    alpha = Ab / (1 + kb/(E*rho)*dEdx)\n",
    "    return alpha"
   ]
  },
  {
   "cell_type": "code",
   "execution_count": 4,
   "id": "9ef80932",
   "metadata": {},
   "outputs": [],
   "source": [
    "Ab_true = 0.8\n",
    "kb_true = 0.0486\n",
    "E=0.5\n",
    "rho=1.38\n",
    "def Ab(kb, dEdx, E=0.5, rho=1.38):\n",
    "    alpha = Ab_true / (1 + kb_true/(E*rho)*dEdx)\n",
    "    Ab = alpha * (1+kb/(E*rho)*dEdx)\n",
    "    return Ab"
   ]
  },
  {
   "cell_type": "code",
   "execution_count": 78,
   "id": "f184ea0e",
   "metadata": {},
   "outputs": [],
   "source": [
    "f=h5py.File(\"edepsim_p_5000.h5\")\n",
    "# f=h5py.File(\"/sdf/group/neutrino/cyifan/muon-sim/fake_data_S1/edepsim_p_5000.h5\")\n",
    "segs = f['segments']\n",
    "traj = f['trajectories']\n",
    "vtx = f['vertices']"
   ]
  },
  {
   "cell_type": "markdown",
   "id": "7a9dd29a-5dee-4f2f-8bb8-a773297b9e63",
   "metadata": {},
   "source": [
    "## Raw"
   ]
  },
  {
   "cell_type": "code",
   "execution_count": 3,
   "id": "0c9395fd",
   "metadata": {},
   "outputs": [
    {
     "data": {
      "image/png": "[encoded data removed]",
      "text/plain": [
       "<Figure size 640x480 with 1 Axes>"
      ]
     },
     "metadata": {},
     "output_type": "display_data"
    }
   ],
   "source": [
    "plt.hist(segs[segs['pdgId']==2212]['dEdx'],range=[0,100],bins=100)\n",
    "plt.yscale(\"log\")\n",
    "plt.show()"
   ]
  },
  {
   "cell_type": "code",
   "execution_count": 4,
   "id": "3fd0312a",
   "metadata": {
    "scrolled": true
   },
   "outputs": [
    {
     "data": {
      "text/plain": [
       "(array([       -11,         11,         22,       2112,       2212,\n",
       "        1000020040, 1000150330, 1000160320, 1000160330, 1000160340,\n",
       "        1000160350, 1000160360, 1000170350, 1000170360, 1000170370,\n",
       "        1000170380, 1000170390, 1000180360, 1000180370, 1000180380,\n",
       "        1000180390, 1000180400, 1000180410, 1000190380, 1000190390,\n",
       "        1000190400], dtype=int32),\n",
       " array([  593,  8059,  8071, 17109,    73,    31,     2,     1,     1,\n",
       "            4,     4,     6,     2,     2,    11,     5,     1,     7,\n",
       "           19,    67,    32,    50,     4,     1,    29,    10]))"
      ]
     },
     "execution_count": 4,
     "metadata": {},
     "output_type": "execute_result"
    }
   ],
   "source": [
    "np.unique(segs[segs['dEdx']<5]['pdgId'],return_counts=True)"
   ]
  },
  {
   "cell_type": "markdown",
   "id": "061ffa72-00be-489e-b6ee-e30e62ef90b2",
   "metadata": {},
   "source": [
    "## Segments in contained proton trajectories"
   ]
  },
  {
   "cell_type": "code",
   "execution_count": 5,
   "id": "a7b15290",
   "metadata": {},
   "outputs": [],
   "source": [
    "# active volume (doesn't need to be accurate here)\n",
    "active_range = [[-30,30],[-80,40],[-30,30]]\n",
    "\n",
    "def x_in_range(x_list):\n",
    "    x_mask = x_list > active_range[0][0]\n",
    "    x_mask = x_mask & (x_list < active_range[0][1])\n",
    "    return x_mask\n",
    "\n",
    "def y_in_range(y_list):\n",
    "    y_mask = y_list > active_range[1][0]\n",
    "    y_mask = y_mask & (y_list < active_range[1][1])\n",
    "    return y_mask\n",
    "\n",
    "def z_in_range(z_list):\n",
    "    z_mask = z_list > active_range[2][0]\n",
    "    z_mask = z_mask & (z_list < active_range[2][1])\n",
    "    return z_mask\n",
    "\n",
    "def points_in_active(p):\n",
    "    x_mask = x_in_range(p[:,0])\n",
    "    y_mask = y_in_range(p[:,1])\n",
    "    z_mask = z_in_range(p[:,2])\n",
    "    return x_mask & y_mask & z_mask\n",
    "    \n",
    "def traj_in_active(traj):\n",
    "    start_mask = points_in_active(traj['xyz_start'])\n",
    "    end_mask = points_in_active(traj['xyz_end'])\n",
    "    return start_mask & end_mask"
   ]
  },
  {
   "cell_type": "code",
   "execution_count": 7,
   "id": "31c8e92e",
   "metadata": {},
   "outputs": [],
   "source": [
    "traj_active_mask = traj_in_active(traj)\n",
    "active_vol_traj = traj[traj_active_mask]\n",
    "active_vol_p = active_vol_traj[active_vol_traj['pdgId']==2212]"
   ]
  },
  {
   "cell_type": "code",
   "execution_count": 8,
   "id": "e84c4113-7924-4e83-9d8a-a48915ea1e3b",
   "metadata": {},
   "outputs": [],
   "source": [
    "mask = np.in1d(segs['file_trackID'], active_vol_p['file_trackID'])\n",
    "active_vol_segs = segs[mask]"
   ]
  },
  {
   "cell_type": "code",
   "execution_count": 9,
   "id": "a425b816-44a4-4fb8-8f66-1bea4abc37e1",
   "metadata": {},
   "outputs": [],
   "source": [
    "with h5py.File(\"edepsim_p_only_active_vol_5000.h5\", \"w\") as f_out:\n",
    "    f_out.create_dataset('segments', data=active_vol_segs)\n",
    "    f_out.create_dataset('trajectories', data=active_vol_p)\n",
    "    f_out.create_dataset('vertices', data=vtx)"
   ]
  },
  {
   "cell_type": "code",
   "execution_count": 10,
   "id": "581b9619-8545-4eca-a352-cfda80e2fbac",
   "metadata": {},
   "outputs": [
    {
     "data": {
      "image/png": "[encoded data removed]",
      "text/plain": [
       "<Figure size 640x480 with 1 Axes>"
      ]
     },
     "metadata": {},
     "output_type": "display_data"
    }
   ],
   "source": [
    "plt.hist(active_vol_segs['dEdx'],range=[0,100],bins=100)\n",
    "plt.yscale(\"log\")\n",
    "plt.show()"
   ]
  },
  {
   "cell_type": "markdown",
   "id": "a8480ce4-3b08-4e03-b2a1-8f07a16c32bd",
   "metadata": {},
   "source": [
    "find the range for each segment"
   ]
  },
  {
   "cell_type": "code",
   "execution_count": null,
   "id": "8eca7f74-0114-4c04-9b9d-4a40754b1b1c",
   "metadata": {},
   "outputs": [],
   "source": [
    "traj_end = active_vol_p[active_vol_p['trackID']==seg['trackID']]['xyz_end']"
   ]
  },
  {
   "cell_type": "code",
   "execution_count": 61,
   "id": "af86511b-6bc5-4a89-9964-74a8cbb3a4e0",
   "metadata": {
    "scrolled": true
   },
   "outputs": [
    {
     "name": "stdout",
     "output_type": "stream",
     "text": [
      "this_traj:  0\n",
      "this_traj:  1143\n",
      "this_traj:  2335\n",
      "this_traj:  3734\n",
      "this_traj:  4995\n",
      "this_traj:  5964\n",
      "this_traj:  7004\n",
      "this_traj:  8226\n",
      "this_traj:  9350\n",
      "this_traj:  10528\n",
      "this_traj:  11902\n",
      "this_traj:  13282\n",
      "this_traj:  14535\n",
      "this_traj:  16004\n",
      "this_traj:  17216\n",
      "this_traj:  18436\n",
      "this_traj:  19880\n",
      "this_traj:  21290\n",
      "this_traj:  22614\n",
      "this_traj:  23982\n",
      "this_traj:  25404\n",
      "this_traj:  26859\n",
      "this_traj:  28192\n",
      "this_traj:  29553\n",
      "this_traj:  31066\n",
      "this_traj:  32280\n",
      "this_traj:  33770\n",
      "this_traj:  34668\n",
      "this_traj:  36032\n",
      "this_traj:  37310\n",
      "this_traj:  38697\n",
      "this_traj:  40395\n",
      "this_traj:  41639\n",
      "this_traj:  42935\n",
      "this_traj:  44359\n",
      "this_traj:  45393\n",
      "this_traj:  46620\n",
      "this_traj:  47790\n",
      "this_traj:  49078\n",
      "this_traj:  50463\n",
      "this_traj:  51903\n",
      "this_traj:  53338\n",
      "this_traj:  54519\n",
      "this_traj:  55934\n",
      "this_traj:  57110\n",
      "this_traj:  58330\n",
      "this_traj:  59518\n",
      "this_traj:  60638\n",
      "this_traj:  61851\n",
      "this_traj:  63323\n",
      "this_traj:  65004\n",
      "this_traj:  66229\n",
      "this_traj:  67516\n",
      "this_traj:  68807\n",
      "this_traj:  70145\n",
      "this_traj:  71726\n",
      "this_traj:  72839\n",
      "this_traj:  74359\n",
      "this_traj:  75579\n",
      "this_traj:  76930\n",
      "this_traj:  78435\n",
      "this_traj:  79977\n",
      "this_traj:  81132\n",
      "this_traj:  82491\n",
      "this_traj:  83709\n",
      "this_traj:  85245\n",
      "this_traj:  86213\n",
      "this_traj:  87426\n",
      "this_traj:  89016\n",
      "this_traj:  90400\n",
      "this_traj:  91692\n",
      "this_traj:  93240\n",
      "this_traj:  94485\n",
      "this_traj:  95560\n",
      "this_traj:  96757\n",
      "this_traj:  97964\n",
      "this_traj:  99093\n",
      "this_traj:  100530\n",
      "this_traj:  101849\n",
      "this_traj:  103089\n",
      "this_traj:  104137\n",
      "this_traj:  105643\n",
      "this_traj:  106805\n",
      "this_traj:  108156\n",
      "this_traj:  109371\n",
      "this_traj:  110445\n",
      "this_traj:  111813\n",
      "this_traj:  113007\n",
      "this_traj:  114397\n",
      "this_traj:  115805\n",
      "this_traj:  117163\n",
      "this_traj:  118605\n",
      "this_traj:  119915\n",
      "this_traj:  121584\n",
      "this_traj:  122925\n",
      "this_traj:  123997\n",
      "this_traj:  125212\n",
      "this_traj:  126647\n",
      "this_traj:  128086\n",
      "this_traj:  129488\n",
      "this_traj:  130616\n"
     ]
    }
   ],
   "source": [
    "unique_file_traj_id = np.unique(active_vol_p['file_trackID'])\n",
    "\n",
    "for i_traj, this_traj in enumerate(unique_file_traj_id):\n",
    "    if i_traj%500 == 0:\n",
    "        print(\"this_traj: \", this_traj)\n",
    "    traj_mask = active_vol_segs['file_trackID'] == this_traj\n",
    "    traj_end = active_vol_p[active_vol_p['file_trackID'] == this_traj]['xyz_end'][0]\n",
    "    # print(\"-------------\")\n",
    "    # print(\"traj_end: \", traj_end)\n",
    "    # the segments are already sorted by segment time\n",
    "    traj_segs =  active_vol_segs[traj_mask]\n",
    "    # print(\"traj_segs['t0']: \", traj_segs['t0'])\n",
    "    \n",
    "    idx = np.argsort(traj_segs['t0'])\n",
    "    traj_segs = np.take_along_axis(traj_segs, idx, axis=0)\n",
    "    # print(\"idx: \", idx)\n",
    "    # print(\"traj_segs['t0']: \", traj_segs['t0'])\n",
    "    if 'range' not in traj_segs.dtype.names:\n",
    "        range = np.zeros(traj_segs.shape[0], dtype=[('range', 'f4')])\n",
    "        traj_segs = rfn.merge_arrays((traj_segs, range), flatten=True)\n",
    "\n",
    "    acc_len = 0\n",
    "    for seg in reversed(traj_segs):\n",
    "        seg['range'] = acc_len + seg['dx'] * 0.5\n",
    "        acc_len += seg['dx']\n",
    "\n",
    "    if i_traj == 0:\n",
    "        active_vol_segs_w_range = traj_segs\n",
    "    else:\n",
    "        active_vol_segs_w_range = np.append(active_vol_segs_w_range, traj_segs)\n",
    "\n",
    "    if i_traj % 500 == 0:\n",
    "        with h5py.File(\"edepsim_p_only_active_vol_5000.h5\", \"w\") as f_out:\n",
    "            f_out.create_dataset('segments', data=active_vol_segs_w_range)\n",
    "            f_out.create_dataset('trajectories', data=active_vol_p)\n",
    "            f_out.create_dataset('vertices', data=vtx)\n",
    " "
   ]
  },
  {
   "cell_type": "code",
   "execution_count": null,
   "id": "86d2b845-bd51-4182-9247-ed2e2060ab50",
   "metadata": {},
   "outputs": [],
   "source": [
    "with h5py.File(\"edepsim_p_only_active_vol_5000.h5\", \"w\") as f_out:\n",
    "    f_out.create_dataset('segments', data=active_vol_segs_w_range)\n",
    "    f_out.create_dataset('trajectories', data=active_vol_p)\n",
    "    f_out.create_dataset('vertices', data=vtx)"
   ]
  },
  {
   "cell_type": "markdown",
   "id": "8543f0fa-3fbb-4246-beb5-5fc3aab89a1e",
   "metadata": {},
   "source": [
    "## Fill the estimated dE/dx in \"segments\" dataset"
   ]
  },
  {
   "cell_type": "markdown",
   "id": "8c9dacc9-f53e-4fc0-8baa-056df8faafa4",
   "metadata": {},
   "source": [
    "#### dE/dx with NIST cubic interpolation"
   ]
  },
  {
   "cell_type": "code",
   "execution_count": 14,
   "id": "f8a2aac1",
   "metadata": {},
   "outputs": [
    {
     "name": "stdout",
     "output_type": "stream",
     "text": [
      "f_in['segments']['dEdx']:  [  8.747436   9.206473  10.449196 ...  37.23355   64.82753  564.44147 ]\n",
      "f_out['segments']['dEdx']:  [  8.680512   9.550185  10.527563 ...  34.78936   50.760994 363.99854 ]\n"
     ]
    }
   ],
   "source": [
    "with h5py.File(\"/sdf/group/neutrino/cyifan/muon-sim/fake_data_S1/edepsim_p_only_active_vol_5000.h5\", \"r\") as f_in:\n",
    "    with h5py.File(\"/sdf/group/neutrino/cyifan/muon-sim/fake_data_S1/edepsim_p_only_active_vol_5000_NIST_dEdx_cubic.h5\", \"w\") as f_out:\n",
    "\n",
    "        seg = f_in['segments']\n",
    "        traj = f_in['trajectories']\n",
    "        vtx = f_in['vertices']\n",
    "\n",
    "        f_out.create_dataset('segments', data=seg)\n",
    "        f_out.create_dataset('trajectories', data=traj)\n",
    "        f_out.create_dataset('vertices', data=vtx)\n",
    "        \n",
    "        seg_new = f_out['segments']\n",
    "        cs = CubicSpline(Range_NIST, dEdx_NIST)\n",
    "        seg_new['dEdx'] = cs(seg_new['range'])\n",
    "        seg_new['dE'] = seg_new['dEdx'] * seg_new['dx']\n",
    "\n",
    "        print(\"f_in['segments']['dEdx']: \", f_in['segments']['dEdx'])\n",
    "        print(\"f_out['segments']['dEdx']: \", f_out['segments']['dEdx'])"
   ]
  },
  {
   "cell_type": "markdown",
   "id": "520c2602-5302-450b-a1cb-dbad1cc8b719",
   "metadata": {},
   "source": [
    "#### dE/dx with NIST linear interpolation"
   ]
  },
  {
   "cell_type": "code",
   "execution_count": 18,
   "id": "4946bd20",
   "metadata": {},
   "outputs": [
    {
     "name": "stdout",
     "output_type": "stream",
     "text": [
      "f_in['segments']['dEdx']:  [  8.747436   9.206473  10.449196 ...  37.23355   64.82753  564.44147 ]\n",
      "f_out['segments']['dEdx']:  [  8.689144    9.56203    10.5285425 ...  34.93174    50.800705\n",
      " 363.9659   ]\n"
     ]
    }
   ],
   "source": [
    "with h5py.File(\"/sdf/group/neutrino/cyifan/muon-sim/fake_data_S1/edepsim_p_only_active_vol_5000.h5\", \"r\") as f_in:\n",
    "    with h5py.File(\"/sdf/group/neutrino/cyifan/muon-sim/fake_data_S1/edepsim_p_only_active_vol_5000_NIST_dEdx.h5\", \"w\") as f_out:\n",
    "\n",
    "        seg = f_in['segments']\n",
    "        traj = f_in['trajectories']\n",
    "        vtx = f_in['vertices']\n",
    "\n",
    "        f_out.create_dataset('segments', data=seg)\n",
    "        f_out.create_dataset('trajectories', data=traj)\n",
    "        f_out.create_dataset('vertices', data=vtx)\n",
    "        \n",
    "        seg_new = f_out['segments']\n",
    "        seg_new['dEdx'] = np.interp(seg_new['range'], Range_NIST, dEdx_NIST)\n",
    "        seg_new['dE'] = seg_new['dEdx'] * seg_new['dx']\n",
    "\n",
    "        print(\"f_in['segments']['dEdx']: \", f_in['segments']['dEdx'])\n",
    "        print(\"f_out['segments']['dEdx']: \", f_out['segments']['dEdx'])"
   ]
  },
  {
   "cell_type": "markdown",
   "id": "2f8b0d4b-be76-40ec-90b8-c61edb464577",
   "metadata": {},
   "source": [
    "#### dE/dx with NIST linear interpolation and shift -1MeV/cm (negative?)"
   ]
  },
  {
   "cell_type": "code",
   "execution_count": 7,
   "id": "e5b751b7",
   "metadata": {},
   "outputs": [
    {
     "name": "stdout",
     "output_type": "stream",
     "text": [
      "f_in['segments']['dEdx']:  [  8.747436   9.206473  10.449196 ...  37.23355   64.82753  564.44147 ]\n",
      "f_out['segments']['dEdx']:  [  7.689144    8.56203     9.5285425 ...  33.93174    49.800705\n",
      " 362.9659   ]\n"
     ]
    }
   ],
   "source": [
    "with h5py.File(\"/sdf/group/neutrino/cyifan/muon-sim/fake_data_S1/edepsim_p_only_active_vol_5000.h5\", \"r\") as f_in:\n",
    "    with h5py.File(\"/sdf/group/neutrino/cyifan/muon-sim/fake_data_S1/edepsim_p_only_active_vol_5000_NIST_dEdx-1.h5\", \"w\") as f_out:\n",
    "\n",
    "        seg = f_in['segments']\n",
    "        traj = f_in['trajectories']\n",
    "        vtx = f_in['vertices']\n",
    "\n",
    "        f_out.create_dataset('segments', data=seg)\n",
    "        f_out.create_dataset('trajectories', data=traj)\n",
    "        f_out.create_dataset('vertices', data=vtx)\n",
    "        \n",
    "        seg_new = f_out['segments']\n",
    "        seg_new['dEdx'] = np.interp(seg_new['range'], Range_NIST, dEdx_NIST)-1\n",
    "        seg_new['dE'] = seg_new['dEdx'] * seg_new['dx']\n",
    "\n",
    "        print(\"f_in['segments']['dEdx']: \", f_in['segments']['dEdx'])\n",
    "        print(\"f_out['segments']['dEdx']: \", f_out['segments']['dEdx'])"
   ]
  },
  {
   "cell_type": "markdown",
   "id": "b44bd4f2-bb1a-4c08-9687-939d5704769b",
   "metadata": {},
   "source": [
    "#### dE/dx with NIST linear interpolation and shift +1MeV/cm"
   ]
  },
  {
   "cell_type": "code",
   "execution_count": 6,
   "id": "b90571b8",
   "metadata": {},
   "outputs": [
    {
     "name": "stdout",
     "output_type": "stream",
     "text": [
      "f_in['segments']['dEdx']:  [  8.747436   9.206473  10.449196 ...  37.23355   64.82753  564.44147 ]\n",
      "f_out['segments']['dEdx']:  [  9.689144   10.56203    11.5285425 ...  35.93174    51.800705\n",
      " 364.9659   ]\n"
     ]
    }
   ],
   "source": [
    "with h5py.File(\"/sdf/group/neutrino/cyifan/muon-sim/fake_data_S1/edepsim_p_only_active_vol_5000.h5\", \"r\") as f_in:\n",
    "    with h5py.File(\"/sdf/group/neutrino/cyifan/muon-sim/fake_data_S1/edepsim_p_only_active_vol_5000_NIST_dEdx+1.h5\", \"w\") as f_out:\n",
    "\n",
    "        seg = f_in['segments']\n",
    "        traj = f_in['trajectories']\n",
    "        vtx = f_in['vertices']\n",
    "\n",
    "        f_out.create_dataset('segments', data=seg)\n",
    "        f_out.create_dataset('trajectories', data=traj)\n",
    "        f_out.create_dataset('vertices', data=vtx)\n",
    "        \n",
    "        seg_new = f_out['segments']\n",
    "        seg_new['dEdx'] = np.interp(seg_new['range'], Range_NIST, dEdx_NIST)+1\n",
    "        seg_new['dE'] = seg_new['dEdx'] * seg_new['dx']\n",
    "\n",
    "        print(\"f_in['segments']['dEdx']: \", f_in['segments']['dEdx'])\n",
    "        print(\"f_out['segments']['dEdx']: \", f_out['segments']['dEdx'])"
   ]
  },
  {
   "cell_type": "markdown",
   "id": "3c302872-a985-4e57-bf1d-b8c902d09c8a",
   "metadata": {},
   "source": [
    "#### dE/dx with ArgoNEUT PIDA modelling"
   ]
  },
  {
   "cell_type": "code",
   "execution_count": 6,
   "id": "a1bd1170",
   "metadata": {
    "scrolled": true
   },
   "outputs": [
    {
     "name": "stdout",
     "output_type": "stream",
     "text": [
      "f_in['segments']['dEdx']:  [  8.747436   9.206473  10.449196 ...  37.23355   64.82753  564.44147 ]\n",
      "f_out['segments']['dEdx']:  [   8.606147    9.458366   10.403481 ...   32.578403   46.72347\n",
      " 1132.3861  ]\n"
     ]
    },
    {
     "name": "stderr",
     "output_type": "stream",
     "text": [
      "/lscratch/cyifan/tmp/ipykernel_1263388/362508394.py:15: RuntimeWarning: divide by zero encountered in power\n",
      "  seg_new['dEdx'] = PIDA_A*(seg_new['range']**PIDA_b)\n",
      "/lscratch/cyifan/tmp/ipykernel_1263388/362508394.py:16: RuntimeWarning: invalid value encountered in multiply\n",
      "  seg_new['dE'] = seg_new['dEdx'] * seg_new['dx']\n"
     ]
    }
   ],
   "source": [
    "PIDA_A=17\n",
    "PIDA_b=-0.42\n",
    "with h5py.File(\"/sdf/group/neutrino/cyifan/muon-sim/fake_data_S1/edepsim_p_only_active_vol_5000.h5\", \"r\") as f_in:\n",
    "    with h5py.File(\"/sdf/group/neutrino/cyifan/muon-sim/fake_data_S1/edepsim_p_only_active_vol_5000_PIDA_dEdx.h5\", \"w\") as f_out:\n",
    "\n",
    "        seg = f_in['segments']\n",
    "        traj = f_in['trajectories']\n",
    "        vtx = f_in['vertices']\n",
    "\n",
    "        f_out.create_dataset('segments', data=seg)\n",
    "        f_out.create_dataset('trajectories', data=traj)\n",
    "        f_out.create_dataset('vertices', data=vtx)\n",
    "        \n",
    "        seg_new = f_out['segments']\n",
    "        seg_new['dEdx'] = PIDA_A*(seg_new['range']**PIDA_b)\n",
    "        seg_new['dE'] = seg_new['dEdx'] * seg_new['dx']\n",
    "\n",
    "        print(\"f_in['segments']['dEdx']: \", f_in['segments']['dEdx'])\n",
    "        print(\"f_out['segments']['dEdx']: \", f_out['segments']['dEdx'])"
   ]
  },
  {
   "cell_type": "markdown",
   "id": "8e352b48-821b-4fd9-8551-35fcdc6d86c3",
   "metadata": {},
   "source": [
    "## Break segments into pieces with dx = 0.1 cm"
   ]
  },
  {
   "cell_type": "code",
   "execution_count": 5,
   "id": "6940739b",
   "metadata": {
    "scrolled": true
   },
   "outputs": [
    {
     "name": "stdout",
     "output_type": "stream",
     "text": [
      "progress: 0 / 50102\n",
      "progress: 1000 / 50102\n",
      "progress: 2000 / 50102\n",
      "progress: 3000 / 50102\n",
      "progress: 4000 / 50102\n",
      "progress: 5000 / 50102\n",
      "progress: 6000 / 50102\n",
      "progress: 7000 / 50102\n",
      "progress: 8000 / 50102\n",
      "progress: 9000 / 50102\n",
      "progress: 10000 / 50102\n",
      "progress: 11000 / 50102\n",
      "progress: 12000 / 50102\n",
      "progress: 13000 / 50102\n",
      "progress: 14000 / 50102\n",
      "progress: 15000 / 50102\n",
      "progress: 16000 / 50102\n",
      "progress: 17000 / 50102\n",
      "progress: 18000 / 50102\n",
      "progress: 19000 / 50102\n",
      "progress: 20000 / 50102\n",
      "progress: 21000 / 50102\n",
      "progress: 22000 / 50102\n",
      "progress: 23000 / 50102\n",
      "progress: 24000 / 50102\n",
      "progress: 25000 / 50102\n",
      "progress: 26000 / 50102\n",
      "progress: 27000 / 50102\n",
      "progress: 28000 / 50102\n",
      "progress: 29000 / 50102\n",
      "progress: 30000 / 50102\n",
      "progress: 31000 / 50102\n",
      "progress: 32000 / 50102\n",
      "progress: 33000 / 50102\n",
      "progress: 34000 / 50102\n",
      "progress: 35000 / 50102\n",
      "progress: 36000 / 50102\n",
      "progress: 37000 / 50102\n",
      "progress: 38000 / 50102\n",
      "progress: 39000 / 50102\n",
      "progress: 40000 / 50102\n",
      "progress: 41000 / 50102\n",
      "progress: 42000 / 50102\n",
      "progress: 43000 / 50102\n",
      "progress: 44000 / 50102\n",
      "progress: 45000 / 50102\n",
      "progress: 46000 / 50102\n",
      "progress: 47000 / 50102\n",
      "progress: 48000 / 50102\n",
      "progress: 49000 / 50102\n",
      "progress: 50000 / 50102\n",
      "f_in['segments']['dEdx']:  [  8.747436   9.206473  10.449196 ...  37.23355   64.82753  564.44147 ]\n",
      "f_out['segments']['dEdx']:  [ 8.444419  8.485783  8.533355 ... 41.185276 47.321    79.33695 ]\n"
     ]
    }
   ],
   "source": [
    "step = 0.1\n",
    "with h5py.File(\"/sdf/group/neutrino/cyifan/muon-sim/fake_data_S1/edepsim_p_only_active_vol_5000.h5\", \"r\") as f_in:\n",
    "    with h5py.File(\"/sdf/group/neutrino/cyifan/muon-sim/fake_data_S1/edepsim_p_only_active_vol_5000_NIST_dEdx_dx_0.1cm.h5\", \"w\") as f_out:\n",
    "\n",
    "        seg = f_in['segments']\n",
    "        traj = f_in['trajectories']\n",
    "        vtx = f_in['vertices']\n",
    "        \n",
    "        new_seg = []\n",
    "        i_seg = 0\n",
    "        for this_seg in seg:\n",
    "            \n",
    "            #remove edep-sim segments that are smaller than 0.1cm\n",
    "            if this_seg['range'] < 0.1:\n",
    "                continue\n",
    "            \n",
    "            n_seg = int(this_seg['dx'] // step + 1)\n",
    "                        \n",
    "            x_start = this_seg['x_start']\n",
    "            y_start = this_seg['y_start']\n",
    "            z_start = this_seg['z_start']\n",
    "            \n",
    "            norm_delta_x = (this_seg['x_end'] - this_seg['x_start']) / this_seg['dx']\n",
    "            norm_delta_y = (this_seg['y_end'] - this_seg['y_start']) / this_seg['dx']\n",
    "            norm_delta_z = (this_seg['z_end'] - this_seg['z_start']) / this_seg['dx']\n",
    "\n",
    "            for i_subseg in range(n_seg):\n",
    "                this_new_seg = this_seg.copy()\n",
    "                this_new_seg['x_start'] = x_start\n",
    "                this_new_seg['y_start'] = y_start\n",
    "                this_new_seg['z_start'] = z_start\n",
    "                \n",
    "                if i_subseg != n_seg - 1:\n",
    "                    \n",
    "                    this_new_seg['x_end'] = x_start + norm_delta_x * step\n",
    "                    this_new_seg['y_end'] = y_start + norm_delta_y * step\n",
    "                    this_new_seg['z_end'] = z_start + norm_delta_z * step\n",
    "                    \n",
    "                    this_new_seg['dx'] = step\n",
    "                    this_new_seg['dE'] = this_new_seg['dEdx'] * step\n",
    "                else:\n",
    "                    last_step = np.linalg.norm(np.array([this_seg['x_end']-x_start, this_seg['y_end']-y_start, this_seg['z_end']-z_start]))\n",
    "\n",
    "                    this_new_seg['x_end'] = x_start + norm_delta_x * last_step\n",
    "                    this_new_seg['y_end'] = y_start + norm_delta_y * last_step\n",
    "                    this_new_seg['z_end'] = z_start + norm_delta_z * last_step\n",
    "                    \n",
    "                    this_new_seg['dx'] = last_step\n",
    "                    this_new_seg['dE'] = this_new_seg['dEdx'] * last_step\n",
    "                                       \n",
    "                this_new_seg['x'] = (this_new_seg['x_start'] + this_new_seg['x_end']) * 0.5\n",
    "                this_new_seg['y'] = (this_new_seg['y_start'] + this_new_seg['y_end']) * 0.5\n",
    "                this_new_seg['z'] = (this_new_seg['z_start'] + this_new_seg['z_end']) * 0.5\n",
    "                \n",
    "                this_new_seg['segment_id'] = i_seg\n",
    "\n",
    "                new_seg.append(this_new_seg)\n",
    "                \n",
    "                i_seg= i_seg+1\n",
    "                \n",
    "                x_start = this_new_seg['x_end']\n",
    "                y_start = this_new_seg['y_end']\n",
    "                z_start = this_new_seg['z_end']\n",
    "\n",
    "        \n",
    "        new_seg = np.array(new_seg)\n",
    "           \n",
    "        f_out.create_dataset('segments', data=new_seg)\n",
    "        f_out.create_dataset('trajectories', data=traj)\n",
    "        f_out.create_dataset('vertices', data=vtx)\n",
    "        \n",
    "        unique_file_traj_id = np.unique(traj['file_trackID'])\n",
    "        n_total = len(np.unique(traj['file_trackID']))\n",
    "\n",
    "        for i_traj, this_traj in enumerate(unique_file_traj_id):\n",
    "            if i_traj%1000 == 0:\n",
    "                print(f\"progress: {i_traj} / {n_total}\")\n",
    "            traj_mask = new_seg['file_trackID'] == this_traj\n",
    "            traj_end = traj[traj['file_trackID'] == this_traj]['xyz_end'][0]\n",
    "            # print(\"-------------\")\n",
    "            # print(\"traj_end: \", traj_end)\n",
    "            # the segments are already sorted by segment time\n",
    "            traj_segs =  new_seg[traj_mask]\n",
    "            # print(\"traj_segs['t0']: \", traj_segs['t0'])\n",
    "\n",
    "            idx = np.argsort(traj_segs['t0'])\n",
    "            traj_segs = np.take_along_axis(traj_segs, idx, axis=0)\n",
    "            # print(\"idx: \", idx)\n",
    "            # print(\"traj_segs['t0']: \", traj_segs['t0'])\n",
    "            if 'range' not in traj_segs.dtype.names:\n",
    "                range = np.zeros(traj_segs.shape[0], dtype=[('range', 'f4')])\n",
    "                traj_segs = rfn.merge_arrays((traj_segs, range), flatten=True)\n",
    "\n",
    "            acc_len = 0\n",
    "            for seg in reversed(traj_segs):\n",
    "                seg['range'] = acc_len + seg['dx'] * 0.5\n",
    "                acc_len += seg['dx']\n",
    "      \n",
    "#             if i_traj == 0:\n",
    "#                 active_vol_segs_w_range = traj_segs\n",
    "#             else:\n",
    "#                 active_vol_segs_w_range = np.append(active_vol_segs_w_range, traj_segs)\n",
    "                \n",
    "            if i_traj % 500 == 0:\n",
    "                f_out['segments'][traj_mask] = traj_segs\n",
    "        \n",
    "        seg_new = f_out['segments']\n",
    "        seg_new['dEdx'] = np.interp(seg_new['range'], Range_NIST, dEdx_NIST)\n",
    "        seg_new['dE'] = seg_new['dEdx'] * seg_new['dx']\n",
    "\n",
    "        print(\"f_in['segments']['dEdx']: \", f_in['segments']['dEdx'])\n",
    "        print(\"f_out['segments']['dEdx']: \", f_out['segments']['dEdx'])\n"
   ]
  },
  {
   "cell_type": "code",
   "execution_count": 5,
   "id": "0c660906",
   "metadata": {
    "scrolled": true
   },
   "outputs": [
    {
     "name": "stdout",
     "output_type": "stream",
     "text": [
      "progress: 0 / 50102\n",
      "progress: 1000 / 50102\n",
      "progress: 2000 / 50102\n",
      "progress: 3000 / 50102\n",
      "progress: 4000 / 50102\n",
      "progress: 5000 / 50102\n",
      "progress: 6000 / 50102\n",
      "progress: 7000 / 50102\n",
      "progress: 8000 / 50102\n",
      "progress: 9000 / 50102\n",
      "progress: 10000 / 50102\n",
      "progress: 11000 / 50102\n",
      "progress: 12000 / 50102\n",
      "progress: 13000 / 50102\n",
      "progress: 14000 / 50102\n",
      "progress: 15000 / 50102\n",
      "progress: 16000 / 50102\n",
      "progress: 17000 / 50102\n",
      "progress: 18000 / 50102\n",
      "progress: 19000 / 50102\n",
      "progress: 20000 / 50102\n",
      "progress: 21000 / 50102\n",
      "progress: 22000 / 50102\n",
      "progress: 23000 / 50102\n",
      "progress: 24000 / 50102\n",
      "progress: 25000 / 50102\n",
      "progress: 26000 / 50102\n",
      "progress: 27000 / 50102\n",
      "progress: 28000 / 50102\n",
      "progress: 29000 / 50102\n",
      "progress: 30000 / 50102\n",
      "progress: 31000 / 50102\n",
      "progress: 32000 / 50102\n",
      "progress: 33000 / 50102\n",
      "progress: 34000 / 50102\n",
      "progress: 35000 / 50102\n",
      "progress: 36000 / 50102\n",
      "progress: 37000 / 50102\n",
      "progress: 38000 / 50102\n",
      "progress: 39000 / 50102\n",
      "progress: 40000 / 50102\n",
      "progress: 41000 / 50102\n",
      "progress: 42000 / 50102\n",
      "progress: 43000 / 50102\n",
      "progress: 44000 / 50102\n",
      "progress: 45000 / 50102\n",
      "progress: 46000 / 50102\n",
      "progress: 47000 / 50102\n",
      "progress: 48000 / 50102\n",
      "progress: 49000 / 50102\n",
      "progress: 50000 / 50102\n"
     ]
    }
   ],
   "source": [
    "step = 0.1\n",
    "with h5py.File(\"/sdf/group/neutrino/cyifan/muon-sim/fake_data_S1/edepsim_p_only_active_vol_5000.h5\", \"r\") as f_in:\n",
    "    with h5py.File(\"/sdf/group/neutrino/cyifan/muon-sim/fake_data_S1/edepsim_p_only_active_vol_5000_dx_0.1cm.h5\", \"w\") as f_out:\n",
    "\n",
    "        seg = f_in['segments']\n",
    "        traj = f_in['trajectories']\n",
    "        vtx = f_in['vertices']\n",
    "        \n",
    "        new_seg = []\n",
    "        i_seg = 0\n",
    "        for this_seg in seg:\n",
    "#             if i_seg>200:\n",
    "#                 break\n",
    "                \n",
    "            #remove edep-sim segments that are smaller than 0.1cm\n",
    "            if this_seg['range'] < 0.1:\n",
    "                continue\n",
    "            \n",
    "            n_seg = int(this_seg['dx'] // step + 1)\n",
    "                        \n",
    "            x_start = this_seg['x_start']\n",
    "            y_start = this_seg['y_start']\n",
    "            z_start = this_seg['z_start']\n",
    "            \n",
    "            norm_delta_x = (this_seg['x_end'] - this_seg['x_start']) / this_seg['dx']\n",
    "            norm_delta_y = (this_seg['y_end'] - this_seg['y_start']) / this_seg['dx']\n",
    "            norm_delta_z = (this_seg['z_end'] - this_seg['z_start']) / this_seg['dx']\n",
    "\n",
    "            for i_subseg in range(n_seg):\n",
    "                this_new_seg = this_seg.copy()\n",
    "                this_new_seg['x_start'] = x_start\n",
    "                this_new_seg['y_start'] = y_start\n",
    "                this_new_seg['z_start'] = z_start\n",
    "                \n",
    "                if i_subseg != n_seg - 1:\n",
    "                    \n",
    "                    this_new_seg['x_end'] = x_start + norm_delta_x * step\n",
    "                    this_new_seg['y_end'] = y_start + norm_delta_y * step\n",
    "                    this_new_seg['z_end'] = z_start + norm_delta_z * step\n",
    "                    \n",
    "                    this_new_seg['dx'] = step\n",
    "                    this_new_seg['dE'] = this_new_seg['dEdx'] * step\n",
    "                else:\n",
    "                    last_step = np.linalg.norm(np.array([this_seg['x_end']-x_start, this_seg['y_end']-y_start, this_seg['z_end']-z_start]))\n",
    "\n",
    "                    this_new_seg['x_end'] = x_start + norm_delta_x * last_step\n",
    "                    this_new_seg['y_end'] = y_start + norm_delta_y * last_step\n",
    "                    this_new_seg['z_end'] = z_start + norm_delta_z * last_step\n",
    "                    \n",
    "                    this_new_seg['dx'] = last_step\n",
    "                    this_new_seg['dE'] = this_new_seg['dEdx'] * last_step\n",
    "                                       \n",
    "                this_new_seg['x'] = (this_new_seg['x_start'] + this_new_seg['x_end']) * 0.5\n",
    "                this_new_seg['y'] = (this_new_seg['y_start'] + this_new_seg['y_end']) * 0.5\n",
    "                this_new_seg['z'] = (this_new_seg['z_start'] + this_new_seg['z_end']) * 0.5\n",
    "                \n",
    "                this_new_seg['segment_id'] = i_seg\n",
    "\n",
    "                new_seg.append(this_new_seg)\n",
    "                \n",
    "                i_seg= i_seg+1\n",
    "                \n",
    "                x_start = this_new_seg['x_end']\n",
    "                y_start = this_new_seg['y_end']\n",
    "                z_start = this_new_seg['z_end']\n",
    "\n",
    "        \n",
    "        new_seg = np.array(new_seg)\n",
    "           \n",
    "        f_out.create_dataset('segments', data=new_seg)\n",
    "        f_out.create_dataset('trajectories', data=traj)\n",
    "        f_out.create_dataset('vertices', data=vtx)\n",
    "        \n",
    "        unique_file_traj_id = np.unique(traj['file_trackID'])\n",
    "        n_total = len(np.unique(traj['file_trackID']))\n",
    "\n",
    "        for i_traj, this_traj in enumerate(unique_file_traj_id):\n",
    "            if i_traj%1000 == 0:\n",
    "                print(f\"progress: {i_traj} / {n_total}\")\n",
    "            traj_mask = new_seg['file_trackID'] == this_traj\n",
    "            traj_end = traj[traj['file_trackID'] == this_traj]['xyz_end'][0]\n",
    "            # print(\"-------------\")\n",
    "            # print(\"traj_end: \", traj_end)\n",
    "            # the segments are already sorted by segment time\n",
    "            traj_segs =  new_seg[traj_mask]\n",
    "            # print(\"traj_segs['t0']: \", traj_segs['t0'])\n",
    "\n",
    "            idx = np.argsort(traj_segs['t0'])\n",
    "            traj_segs = np.take_along_axis(traj_segs, idx, axis=0)\n",
    "            # print(\"idx: \", idx)\n",
    "            # print(\"traj_segs['t0']: \", traj_segs['t0'])\n",
    "            if 'range' not in traj_segs.dtype.names:\n",
    "                range = np.zeros(traj_segs.shape[0], dtype=[('range', 'f4')])\n",
    "                traj_segs = rfn.merge_arrays((traj_segs, range), flatten=True)\n",
    "                \n",
    "#             print(\"traj_segs['range']: \", traj_segs['range'])\n",
    "#             print(\"traj_segs['dx']: \", traj_segs['dx'])\n",
    "#             print(\"traj_segs['dEdx']: \", traj_segs['dEdx'])\n",
    "#             print(\"traj_segs['segment_id']: \", traj_segs['segment_id'])\n",
    "            \n",
    "            acc_len = 0\n",
    "            for seg in reversed(traj_segs):\n",
    "                seg['range'] = acc_len + seg['dx'] * 0.5\n",
    "                acc_len += seg['dx']\n",
    "            # print(\"traj_segs: \", traj_segs)\n",
    "#             print(\"traj_segs['range']: \", traj_segs['range'])\n",
    "      \n",
    "#             if i_traj == 0:\n",
    "#                 active_vol_segs_w_range = traj_segs\n",
    "#             else:\n",
    "#                 active_vol_segs_w_range = np.append(active_vol_segs_w_range, traj_segs)\n",
    "                \n",
    "            if i_traj % 500 == 0:\n",
    "                f_out['segments'][traj_mask] = traj_segs\n",
    "        \n",
    "#         seg_new = f_out['segments']\n",
    "#         seg_new['dEdx'] = np.interp(seg_new['range'], Range_NIST, dEdx_NIST)\n",
    "#         seg_new['dE'] = seg_new['dEdx'] * seg_new['dx']\n",
    "\n",
    "#         print(\"f_in['segments']['dEdx']: \", f_in['segments']['dEdx'])\n",
    "#         print(\"f_out['segments']['dEdx']: \", f_out['segments']['dEdx'])\n"
   ]
  },
  {
   "cell_type": "markdown",
   "id": "e69e4c99-e3fc-441b-9c9e-8f4424ea4cfc",
   "metadata": {},
   "source": [
    "## Range and dE/dx"
   ]
  },
  {
   "cell_type": "code",
   "execution_count": 26,
   "id": "b39e8b4d",
   "metadata": {},
   "outputs": [
    {
     "data": {
      "image/png": "[encoded data removed]",
      "text/plain": [
       "<Figure size 640x480 with 1 Axes>"
      ]
     },
     "metadata": {},
     "output_type": "display_data"
    }
   ],
   "source": [
    "f1=h5py.File(\"/sdf/group/neutrino/cyifan/muon-sim/fake_data_S1/edepsim_p_only_active_vol_5000.h5\", \"r\")\n",
    "f2=h5py.File(\"/sdf/group/neutrino/cyifan/muon-sim/fake_data_S1/edepsim_p_only_active_vol_5000_NIST_dEdx.h5\", \"r\")\n",
    "\n",
    "seg1=f1['segments']\n",
    "seg2=f2['segments']\n",
    "\n",
    "plt.hist(seg1[(seg1['range']>0.15)&(seg1['dx']>1E-2)]['dx'], range=[0,4], bins=100, histtype='step', linewidth=2, label = \"default\")\n",
    "plt.hist(seg2[(seg2['range']>0.15)&(seg2['dx']>1E-2)]['dx'], range=[0,4], bins=100, histtype='step', linewidth=2, label = \"NIST\")\n",
    "\n",
    "plt.legend()\n",
    "plt.show()"
   ]
  },
  {
   "cell_type": "code",
   "execution_count": 8,
   "id": "0e3aef04",
   "metadata": {},
   "outputs": [
    {
     "data": {
      "image/png": "[encoded data removed]",
      "text/plain": [
       "<Figure size 640x480 with 1 Axes>"
      ]
     },
     "metadata": {},
     "output_type": "display_data"
    }
   ],
   "source": [
    "f1=h5py.File(\"/sdf/group/neutrino/cyifan/muon-sim/fake_data_S1/edepsim_p_only_active_vol_5000_dx_0.1cm.h5\", \"r\")\n",
    "f2=h5py.File(\"/sdf/group/neutrino/cyifan/muon-sim/fake_data_S1/edepsim_p_only_active_vol_5000_NIST_dEdx_dx_0.1cm.h5\", \"r\")\n",
    "\n",
    "seg1=f1['segments']\n",
    "seg2=f2['segments']\n",
    "\n",
    "plt.hist(seg1[(seg1['range']>0.15)&(seg1['dx']>1E-2)]['dEdx'], range=[0,50], bins=100, histtype='step', linewidth=2, label = \"default, dx=0.1cm\")\n",
    "plt.hist(seg2[(seg2['range']>0.15)&(seg2['dx']>1E-2)]['dEdx'], range=[0,50], bins=100, histtype='step', linewidth=2, label = \"NIST, dx=0.1cm\")\n",
    "\n",
    "plt.xlabel(\"dEdx[MeV/cm]\", fontsize=12)\n",
    "plt.ylabel(\"entries\", fontsize=12)\n",
    "plt.legend()\n",
    "plt.grid()\n",
    "plt.savefig(\"dEdx_comparison_seg_dx0.1cm.pdf\")\n",
    "plt.show()"
   ]
  },
  {
   "cell_type": "code",
   "execution_count": 14,
   "id": "50df5b9b",
   "metadata": {},
   "outputs": [
    {
     "data": {
      "image/png": "[encoded data removed]",
      "text/plain": [
       "<Figure size 640x480 with 1 Axes>"
      ]
     },
     "metadata": {},
     "output_type": "display_data"
    }
   ],
   "source": [
    "f1=h5py.File(\"/sdf/group/neutrino/cyifan/muon-sim/fake_data_S1/edepsim_p_only_active_vol_5000.h5\", \"r\")\n",
    "f2=h5py.File(\"/sdf/group/neutrino/cyifan/muon-sim/fake_data_S1/edepsim_p_only_active_vol_5000_NIST_dEdx.h5\", \"r\")\n",
    "f3=h5py.File(\"/sdf/group/neutrino/cyifan/muon-sim/fake_data_S1/edepsim_p_only_active_vol_5000_NIST_dEdx_mid_seg.h5\", \"r\")\n",
    "plt.hist(f1['segments']['dEdx'], range=[0,100], bins=100, histtype='step', linewidth=2, label = \"default\")\n",
    "plt.hist(f2['segments']['dEdx'], range=[0,100], bins=100, histtype='step', linewidth=2, label = \"NIST\")\n",
    "plt.hist(f3['segments']['dEdx'], range=[0,100], bins=100, histtype='step', linewidth=2, label = \"NIST mid point\")\n",
    "plt.legend()\n",
    "plt.show()"
   ]
  },
  {
   "cell_type": "code",
   "execution_count": 16,
   "id": "df3173e3",
   "metadata": {},
   "outputs": [
    {
     "data": {
      "image/png": "[encoded data removed]",
      "text/plain": [
       "<Figure size 640x480 with 1 Axes>"
      ]
     },
     "metadata": {},
     "output_type": "display_data"
    }
   ],
   "source": [
    "f1=h5py.File(\"/sdf/group/neutrino/cyifan/muon-sim/fake_data_S1/edepsim_p_only_active_vol_5000.h5\", \"r\")\n",
    "f2=h5py.File(\"/sdf/group/neutrino/cyifan/muon-sim/fake_data_S1/edepsim_p_only_active_vol_5000_NIST_dEdx.h5\", \"r\")\n",
    "f3=h5py.File(\"/sdf/group/neutrino/cyifan/muon-sim/fake_data_S1/edepsim_p_only_active_vol_5000_NIST_dEdx_cubic.h5\", \"r\")\n",
    "# f3=h5py.File(\"/sdf/group/neutrino/cyifan/muon-sim/fake_data_S1/edepsim_p_only_active_vol_5000_NIST_dEdx_dx_0.1cm.h5\", \"r\")\n",
    "\n",
    "seg1=f1['segments']\n",
    "seg2=f2['segments']\n",
    "seg3=f3['segments']\n",
    "\n",
    "plt.hist(seg1[(seg1['range']>0.15)&(seg1['dx']>1E-2)]['dEdx'], range=[0,50], bins=100, histtype='step', linewidth=2, label = \"default\")\n",
    "plt.hist(seg2[(seg2['range']>0.15)&(seg2['dx']>1E-2)]['dEdx'], range=[0,50], bins=100, histtype='step', linewidth=2, label = \"NIST linear interp\")\n",
    "plt.hist(seg3[(seg3['range']>0.15)&(seg3['dx']>1E-2)]['dEdx'], range=[0,50], bins=100, histtype='step', linewidth=2, label = \"NIST cubic interp\")\n",
    "\n",
    "plt.xlabel(\"dEdx[MeV/cm]\", fontsize=12)\n",
    "plt.ylabel(\"entries\", fontsize=12)\n",
    "plt.legend()\n",
    "plt.grid()\n",
    "plt.savefig(\"dEdx_comparison_edep_seg_three.pdf\")\n",
    "plt.show()"
   ]
  },
  {
   "cell_type": "code",
   "execution_count": 12,
   "id": "bb37badf",
   "metadata": {},
   "outputs": [
    {
     "name": "stderr",
     "output_type": "stream",
     "text": [
      "/lscratch/cyifan/tmp/ipykernel_1560496/2672550347.py:7: RuntimeWarning: divide by zero encountered in power\n",
      "  dEdx_PIDA=A*(range**b)\n"
     ]
    },
    {
     "data": {
      "image/png": "[encoded data removed]",
      "text/plain": [
       "<Figure size 640x480 with 1 Axes>"
      ]
     },
     "metadata": {},
     "output_type": "display_data"
    }
   ],
   "source": [
    "f=h5py.File(\"/sdf/group/neutrino/cyifan/muon-sim/fake_data_S1/edepsim_p_only_active_vol_5000.h5\")\n",
    "seg = f['segments']\n",
    "plt.hist2d(seg[(seg['range']>0.1)&(seg['dx']>1E-2)]['range'], seg[(seg['range']>0.1)&(seg['dx']>1E-2)]['dEdx'],bins=[80,160],range=[[0,4],[0,50]], cmap=\"YlGnBu\")\n",
    "range=np.linspace(0,10,100)\n",
    "A=17\n",
    "b=-0.42\n",
    "dEdx_PIDA=A*(range**b)\n",
    "# plt.plot(range, dEdx_PIDA, color=\"red\", label=\"ArgoNeuT PIDA\")\n",
    "plt.plot(Range_NIST[Range_NIST < 8], dEdx_NIST[Range_NIST < 8], color=\"red\", label=\"NIST PSTAR\")\n",
    "plt.xlabel(\"Residual range [cm]\",fontsize=12)\n",
    "plt.ylabel(\"dEdx [MeV/cm]\",fontsize=12)\n",
    "lg= plt.legend(title=\"Proton in LAr\",fontsize=12)\n",
    "plt.setp(lg.get_title(),fontsize=12)\n",
    "plt.grid()\n",
    "plt.savefig(\"p_only_contained_dEdx_range_NIST_no_end.pdf\")\n",
    "# plt.colorbar()\n",
    "\n",
    "plt.show()\n",
    "# f.close()"
   ]
  },
  {
   "cell_type": "code",
   "execution_count": 10,
   "id": "5c7706be",
   "metadata": {},
   "outputs": [
    {
     "name": "stderr",
     "output_type": "stream",
     "text": [
      "/lscratch/cyifan/tmp/ipykernel_1560496/610466414.py:7: RuntimeWarning: divide by zero encountered in power\n",
      "  dEdx_PIDA=A*(range**b)\n"
     ]
    },
    {
     "data": {
      "image/png": "[encoded data removed]",
      "text/plain": [
       "<Figure size 640x480 with 1 Axes>"
      ]
     },
     "metadata": {},
     "output_type": "display_data"
    }
   ],
   "source": [
    "f=h5py.File(\"/sdf/group/neutrino/cyifan/muon-sim/fake_data_S1/edepsim_p_only_active_vol_5000.h5\")\n",
    "seg = f['segments']\n",
    "plt.hist2d(seg[(seg['range']>0.1)&(seg['dx']>1E-2)]['range'], seg[(seg['range']>0.1)&(seg['dx']>1E-2)]['dEdx'],bins=[80,160],range=[[0,4],[0,50]], cmap=\"YlGnBu\")\n",
    "range=np.linspace(0,10,100)\n",
    "A=17\n",
    "b=-0.42\n",
    "dEdx_PIDA=A*(range**b)\n",
    "plt.plot(range, dEdx_PIDA, color=\"red\", label=\"ArgoNeuT PIDA\")\n",
    "plt.plot(Range_NIST[Range_NIST < 8], dEdx_NIST[Range_NIST < 8], color=\"pink\", label=\"NIST PSTAR\")\n",
    "plt.xlabel(\"Residual range [cm]\",fontsize=12)\n",
    "plt.ylabel(\"dEdx [MeV/cm]\",fontsize=12)\n",
    "lg= plt.legend(title=\"Proton in LAr\",fontsize=12)\n",
    "plt.setp(lg.get_title(),fontsize=12)\n",
    "plt.grid()\n",
    "plt.savefig(\"p_only_contained_dEdx_range_PIDA_NIST_no_end.pdf\")\n",
    "# plt.colorbar()\n",
    "\n",
    "plt.show()\n",
    "# f.close()"
   ]
  },
  {
   "cell_type": "code",
   "execution_count": 36,
   "id": "106ba3fa",
   "metadata": {},
   "outputs": [
    {
     "name": "stderr",
     "output_type": "stream",
     "text": [
      "/lscratch/cyifan/tmp/ipykernel_1993972/1528238469.py:6: RuntimeWarning: divide by zero encountered in power\n",
      "  dEdx_PIDA=A*(range**b)\n"
     ]
    },
    {
     "data": {
      "image/png": "[encoded data removed]",
      "text/plain": [
       "<Figure size 640x480 with 1 Axes>"
      ]
     },
     "metadata": {},
     "output_type": "display_data"
    }
   ],
   "source": [
    "f=h5py.File(\"/sdf/group/neutrino/cyifan/muon-sim/fake_data_S1/edepsim_p_only_active_vol_5000.h5\")\n",
    "plt.hist2d(f['segments']['range'], f['segments']['dEdx'],bins=[80,160],range=[[0,4],[0,80]], cmap=\"YlGnBu\")\n",
    "range=np.linspace(0,10,100)\n",
    "A=17\n",
    "b=-0.42\n",
    "dEdx_PIDA=A*(range**b)\n",
    "plt.plot(range, dEdx_PIDA, color=\"red\", label=\"ArgoNeuT PIDA\")\n",
    "plt.plot(Range_NIST[Range_NIST < 8], dEdx_NIST[Range_NIST < 8], color=\"pink\", label=\"NIST PSTAR\")\n",
    "plt.xlabel(\"Residual range [cm]\",fontsize=12)\n",
    "plt.ylabel(\"dEdx [MeV/cm]\",fontsize=12)\n",
    "lg= plt.legend(title=\"Proton in LAr\",fontsize=12)\n",
    "plt.setp(lg.get_title(),fontsize=12)\n",
    "plt.grid()\n",
    "plt.savefig(\"p_only_contained_dEdx_range_PIDA_NIST.pdf\")\n",
    "# plt.colorbar()\n",
    "\n",
    "plt.show()\n",
    "# f.close()"
   ]
  },
  {
   "cell_type": "code",
   "execution_count": 21,
   "id": "3cf8784c",
   "metadata": {},
   "outputs": [
    {
     "data": {
      "image/png": "[encoded data removed]",
      "text/plain": [
       "<Figure size 640x480 with 1 Axes>"
      ]
     },
     "metadata": {},
     "output_type": "display_data"
    }
   ],
   "source": [
    "f=h5py.File(\"/sdf/group/neutrino/cyifan/muon-sim/fake_data_S1/edepsim_p_only_active_vol_5000_NIST_dEdx.h5\")\n",
    "plt.hist2d(f['segments']['range'], f['segments']['dEdx'],bins=[80,80],range=[[0,8],[0,80]])\n",
    "# range=np.linspace(0,10,100)\n",
    "# A=17\n",
    "# b=-0.42\n",
    "# dEdx_PIDA=A*(range**b)\n",
    "# plt.plot(range, dEdx_PIDA, color=\"yellow\", label=\"PIDA\")\n",
    "plt.plot(Range_NIST, dEdx_NIST, color=\"red\", label=\"NIST\")\n",
    "plt.xlabel(\"Range [cm]\")\n",
    "plt.ylabel(\"dEdx [MeV/cm]\")\n",
    "plt.legend(title=\"Proton in LAr\")\n",
    "# plt.savefig(\"p_only_contained_dEdx_range_not_selected_5000ev.pdf\")\n",
    "# plt.colorbar()\n",
    "plt.show()\n",
    "# f.close()"
   ]
  },
  {
   "cell_type": "code",
   "execution_count": 20,
   "id": "41420424",
   "metadata": {},
   "outputs": [
    {
     "name": "stderr",
     "output_type": "stream",
     "text": [
      "/lscratch/cyifan/tmp/ipykernel_2060172/3896179926.py:6: RuntimeWarning: divide by zero encountered in power\n",
      "  dEdx=A*(range**b)\n"
     ]
    },
    {
     "data": {
      "image/png": "[encoded data removed]",
      "text/plain": [
       "<Figure size 640x480 with 1 Axes>"
      ]
     },
     "metadata": {},
     "output_type": "display_data"
    }
   ],
   "source": [
    "f=h5py.File(\"/sdf/group/neutrino/cyifan/muon-sim/fake_data_S1/edepsim_p_only_active_vol_5000_PIDA_dEdx.h5\")\n",
    "plt.hist2d(f['segments']['range'], f['segments']['dEdx'],bins=[80,80],range=[[0,8],[0,80]])\n",
    "range=np.linspace(0,10,100)\n",
    "A=17\n",
    "b=-0.42\n",
    "dEdx=A*(range**b)\n",
    "plt.plot(range, dEdx, color=\"red\", label=\"PIDA\")\n",
    "plt.xlabel(\"Range [cm]\")\n",
    "plt.ylabel(\"dEdx [MeV/cm]\")\n",
    "plt.legend(title=\"Proton in LAr\")\n",
    "# plt.savefig(\"p_only_contained_dEdx_range_not_selected_5000ev.pdf\")\n",
    "# plt.colorbar()\n",
    "plt.show()\n",
    "# f.close()"
   ]
  },
  {
   "cell_type": "markdown",
   "id": "0fd62ea6-5c29-497a-9a3c-79d0c0789726",
   "metadata": {},
   "source": [
    "## Muon--Proton sample comparison"
   ]
  },
  {
   "cell_type": "code",
   "execution_count": 2,
   "id": "5ebfd94a",
   "metadata": {},
   "outputs": [],
   "source": [
    "f_p=h5py.File(\"/sdf/group/neutrino/cyifan/muon-sim/fake_data_S1/edepsim_p_only_active_vol_5000.h5\")\n",
    "f_mu=h5py.File(\"/sdf/group/neutrino/cyifan/muon-sim/larndsim_output/f_1000_mu_3GeV/f1000_mu_3GeV_edep_selected.h5\")\n",
    "seg_p=f_p['segments']\n",
    "seg_mu=f_mu['segments']"
   ]
  },
  {
   "cell_type": "code",
   "execution_count": 21,
   "id": "6be92d23",
   "metadata": {},
   "outputs": [
    {
     "data": {
      "image/png": "[encoded data removed]",
      "text/plain": [
       "<Figure size 640x480 with 1 Axes>"
      ]
     },
     "metadata": {},
     "output_type": "display_data"
    }
   ],
   "source": [
    "plt.hist(seg_p['dEdx'],density=True,range=[0,100], bins=100, histtype='step',label=\"Proton sample\", linewidth=2)\n",
    "plt.hist(seg_mu['dEdx'],density=True,range=[0,100], bins=100, histtype='step', label=\"muon sample\", linewidth=2)\n",
    "plt.legend(fontsize=12)\n",
    "plt.xlabel(\"dE/dx [MeV/cm]\", fontsize=12)\n",
    "plt.ylabel(\"frequency\", fontsize=12)\n",
    "plt.grid()\n",
    "plt.yscale(\"log\")\n",
    "plt.savefig(\"proton_muon_dEdx.pdf\")\n",
    "plt.show()"
   ]
  },
  {
   "cell_type": "code",
   "execution_count": 30,
   "id": "21ce9882",
   "metadata": {},
   "outputs": [
    {
     "data": {
      "image/png": "[encoded data removed]",
      "text/plain": [
       "<Figure size 640x480 with 1 Axes>"
      ]
     },
     "metadata": {},
     "output_type": "display_data"
    }
   ],
   "source": [
    "plt.hist(seg_p[(seg_p['dx']>1E-2)&(seg_p['range']>0.15)]['dEdx'],density=True,range=[0,50], bins=100, histtype='step',label=\"Proton sample\", linewidth=2)\n",
    "plt.hist(seg_mu['dEdx'],density=True,range=[0,50], bins=100, histtype='step', label=\"muon sample\", linewidth=2)\n",
    "plt.legend(fontsize=12)\n",
    "plt.xlabel(\"dE/dx [MeV/cm]\", fontsize=12)\n",
    "plt.ylabel(\"frequency\", fontsize=12)\n",
    "plt.grid()\n",
    "plt.yscale(\"log\")\n",
    "plt.savefig(\"proton_muon_dEdx_0_50.pdf\")\n",
    "plt.show()"
   ]
  },
  {
   "cell_type": "markdown",
   "id": "15f3b5ed-71a7-4a1a-a988-fad4c2480931",
   "metadata": {},
   "source": [
    "## Event display"
   ]
  },
  {
   "cell_type": "code",
   "execution_count": 48,
   "id": "7348cae2",
   "metadata": {},
   "outputs": [],
   "source": [
    "def plot_tracks(tracks, **kwargs):\n",
    "    '''\n",
    "    Plot tracks. Segments are jointed by straight line.\n",
    "    \n",
    "    Arguments\n",
    "    ---------\n",
    "    tracks : array_like\n",
    "        A list of track segements.\n",
    "        \n",
    "    **kwargs:\n",
    "        additional keyword arguments passed to `Scatter3d``\n",
    "        \n",
    "    Returns\n",
    "    -------\n",
    "    trace: Scatter3d\n",
    "        plolty trace object\n",
    "    '''\n",
    "    \n",
    "    def to_list(axis):\n",
    "        return np.column_stack([\n",
    "            tracks[f'{axis}_start'],\n",
    "            tracks[f'{axis}_end'],\n",
    "            np.full(len(tracks), None)\n",
    "        ]).flatten().tolist()\n",
    "        \n",
    "    x, y, z = (to_list(axis) for axis in 'xyz')\n",
    "    trace = go.Scatter3d(x=x, y=y, z=z, **kwargs)\n",
    "    \n",
    "    return trace\n",
    "\n",
    "def draw_anode_planes(geom, **kwargs):\n",
    "    '''\n",
    "    Draw two anode planes for module0.\n",
    "    \n",
    "    TODO(2021-11-09 kvt) for other detector geometry?\n",
    "    \n",
    "    Arguments\n",
    "    ---------\n",
    "    geom : dict\n",
    "        tile geometry from `load_tile_geometry()`\n",
    "    \n",
    "    **kwargs :\n",
    "        additional keyword arguments passed to `Surface`\n",
    "        \n",
    "    Returns\n",
    "    -------\n",
    "    traces: list(Scatter3d)\n",
    "        plolty Surface objects\n",
    "    '''\n",
    "\n",
    "    pos = np.array(list(geom.values())) / 10.\n",
    "    mask = pos[:,2] > 0\n",
    "    traces = []\n",
    "    \n",
    "    for m in (mask, ~mask):\n",
    "        x = np.array([pos[m,0].min(), pos[m,0].max()])\n",
    "        y = np.array([pos[m,1].min(), pos[m,1].max()])\n",
    "        z = np.full((2,2), pos[m,2].max())\n",
    "\n",
    "        traces.append(go.Surface(x=x, y=y, z=z, **kwargs))\n",
    "    \n",
    "    return traces\n",
    "\n",
    "def draw_cathode_planes(geom, **kwargs):\n",
    "    '''\n",
    "    Draw two anode planes for module0.\n",
    "    \n",
    "    TODO(2021-11-09 kvt) for other detector geometry?\n",
    "    \n",
    "    Arguments\n",
    "    ---------\n",
    "    geom : dict\n",
    "        tile geometry from `load_tile_geometry()`\n",
    "    \n",
    "    **kwargs :\n",
    "        additional keyword arguments passed to `Surface`\n",
    "        \n",
    "    Returns\n",
    "    -------\n",
    "    traces: list(Scatter3d)\n",
    "        plolty Surface objects\n",
    "    '''\n",
    "\n",
    "    pos = np.array(list(geom.values())) / 10.\n",
    "    mask = pos[:,2] > 0\n",
    "    traces = []\n",
    "    \n",
    "    for m in (mask, ~mask):\n",
    "        x = np.array([pos[m,0].min(), pos[m,0].max()])\n",
    "        y = np.array([pos[m,1].min(), pos[m,1].max()])\n",
    "        z = np.full((2,2), 0)\n",
    "\n",
    "        traces.append(go.Surface(x=x, y=y, z=z, **kwargs))\n",
    "    \n",
    "    return traces\n",
    "\n",
    "def _rotate_pixel(pixel_pos, tile_orientation):\n",
    "    return pixel_pos[0]*tile_orientation[2], pixel_pos[1]*tile_orientation[1]\n",
    "\n",
    "def load_tile_geometry(fpath):\n",
    "    '''\n",
    "    Build a dictionary for position lookup from tile layout.\n",
    "    \n",
    "    Mostly copid from `larnd-sim/examples` [2d402e5]\n",
    "    \n",
    "    Arguments\n",
    "    ---------\n",
    "    fpath : str\n",
    "        file path to the tile layout\n",
    "    \n",
    "    Returns\n",
    "    -------\n",
    "    geometry : dict\n",
    "        dictionary of tile position in mm\n",
    "        `geometry[(io_group, io_channel, chip, channel)] -> (x,y,z)`   \n",
    "    '''\n",
    "    with open(fpath, 'r') as f:\n",
    "        geometry_yaml = yaml.load(f, Loader=yaml.FullLoader)\n",
    "        \n",
    "    pixel_pitch = geometry_yaml['pixel_pitch']\n",
    "    is_multi_tile = True\n",
    "    chip_channel_to_position = geometry_yaml['chip_channel_to_position']\n",
    "    tile_orientations = geometry_yaml['tile_orientations']\n",
    "    tile_positions = geometry_yaml['tile_positions']\n",
    "    tpc_centers = geometry_yaml['tpc_centers']\n",
    "    tile_indeces = geometry_yaml['tile_indeces']\n",
    "    xs = np.array(list(chip_channel_to_position.values()))[:, 0] * pixel_pitch\n",
    "    ys = np.array(list(chip_channel_to_position.values()))[:, 1] * pixel_pitch\n",
    "    x_size = max(xs)-min(xs)+pixel_pitch\n",
    "    y_size = max(ys)-min(ys)+pixel_pitch\n",
    "    tile_geometry = defaultdict(int)\n",
    "    geometry = defaultdict(lambda: (0,0))\n",
    "    io_group_io_channel_to_tile = {}\n",
    "    \n",
    "    for tile in geometry_yaml['tile_chip_to_io']:\n",
    "        tile_orientation = tile_orientations[tile]\n",
    "        tile_geometry[tile] = tile_positions[tile], tile_orientations[tile]\n",
    "\n",
    "        for chip in geometry_yaml['tile_chip_to_io'][tile]:\n",
    "            io_group_io_channel = geometry_yaml['tile_chip_to_io'][tile][chip]\n",
    "            io_group = io_group_io_channel//1000\n",
    "            io_channel = io_group_io_channel % 1000\n",
    "            io_group_io_channel_to_tile[(\n",
    "                io_group, io_channel)] = tile\n",
    "        for chip_channel in geometry_yaml['chip_channel_to_position']:\n",
    "            chip = chip_channel // 1000\n",
    "            channel = chip_channel % 1000\n",
    "            try:\n",
    "                io_group_io_channel = geometry_yaml['tile_chip_to_io'][tile][chip]\n",
    "            except KeyError:\n",
    "                #print(\"Chip %i on tile %i not present in network\" % (chip,tile))\n",
    "                continue\n",
    "\n",
    "            io_group = io_group_io_channel // 1000\n",
    "            io_channel = io_group_io_channel % 1000\n",
    "            x = chip_channel_to_position[chip_channel][0] * \\\n",
    "                pixel_pitch - x_size / 2 + pixel_pitch / 2\n",
    "            y = chip_channel_to_position[chip_channel][1] * \\\n",
    "                pixel_pitch - y_size / 2 + pixel_pitch / 2 \n",
    "\n",
    "            x, y = _rotate_pixel((x, y), tile_orientation)\n",
    "            x += tile_positions[tile][2] + \\\n",
    "                tpc_centers[tile_indeces[tile][1]][0]\n",
    "            y += tile_positions[tile][1] + \\\n",
    "                tpc_centers[tile_indeces[tile][1]][1]\n",
    "\n",
    "            z = tile_positions[tile][0] + \\\n",
    "                tpc_centers[tile_indeces[tile][1]][2]\n",
    "\n",
    "            # FIXME(2021-11-09 kvt) y-offset between edep-sim and larnd-sim\n",
    "            y -= 21.8236 * 10\n",
    "            \n",
    "            geometry[(io_group, io_channel, chip, channel)] = x, y, z\n",
    "            \n",
    "    return dict(geometry)\n"
   ]
  },
  {
   "cell_type": "code",
   "execution_count": 49,
   "id": "24e2d3c0",
   "metadata": {},
   "outputs": [],
   "source": [
    "import os\n",
    "from collections import defaultdict\n",
    "larnd_sim_dir='/sdf/group/neutrino/cyifan/dunend_train_prod_mpvmpr_git/modules/larnd-sim/'\n",
    "layout_file = os.path.join(larnd_sim_dir, 'larndsim/pixel_layouts/multi_tile_layout-2.2.16.yaml')\n",
    "geom = load_tile_geometry(layout_file)\n",
    "\n"
   ]
  },
  {
   "cell_type": "code",
   "execution_count": 43,
   "id": "aad5901b",
   "metadata": {},
   "outputs": [],
   "source": [
    "tracks = f_p['segments']\n",
    "event_ids = np.unique(tracks['eventID'])"
   ]
  },
  {
   "cell_type": "code",
   "execution_count": 56,
   "id": "83b3064e",
   "metadata": {},
   "outputs": [
    {
     "data": {
      "application/vnd.plotly.v1+json": {
       "config": {
        "plotlyServerURL": "https://plot.ly"
       },
       "data": [
        {
         "colorscale": [
          [
           0,
           "rgb(3, 5, 18)"
          ],
          [
           0.09090909090909091,
           "rgb(25, 25, 51)"
          ],
          [
           0.18181818181818182,
           "rgb(44, 42, 87)"
          ],
          [
           0.2727272727272727,
           "rgb(58, 60, 125)"
          ],
          [
           0.36363636363636365,
           "rgb(62, 83, 160)"
          ],
          [
           0.45454545454545453,
           "rgb(62, 109, 178)"
          ],
          [
           0.5454545454545454,
           "rgb(72, 134, 187)"
          ],
          [
           0.6363636363636364,
           "rgb(89, 159, 196)"
          ],
          [
           0.7272727272727273,
           "rgb(114, 184, 205)"
          ],
          [
           0.8181818181818182,
           "rgb(149, 207, 216)"
          ],
          [
           0.9090909090909091,
           "rgb(192, 229, 232)"
          ],
          [
           1,
           "rgb(234, 252, 253)"
          ]
         ],
         "opacity": 0.3,
         "showscale": false,
         "type": "surface",
         "x": [
          -30.8173,
          30.8173
         ],
         "y": [
          -83.6409,
          39.993700000000004
         ],
         "z": [
          [
           30.431,
           30.431
          ],
          [
           30.431,
           30.431
          ]
         ]
        },
        {
         "colorscale": [
          [
           0,
           "rgb(3, 5, 18)"
          ],
          [
           0.09090909090909091,
           "rgb(25, 25, 51)"
          ],
          [
           0.18181818181818182,
           "rgb(44, 42, 87)"
          ],
          [
           0.2727272727272727,
           "rgb(58, 60, 125)"
          ],
          [
           0.36363636363636365,
           "rgb(62, 83, 160)"
          ],
          [
           0.45454545454545453,
           "rgb(62, 109, 178)"
          ],
          [
           0.5454545454545454,
           "rgb(72, 134, 187)"
          ],
          [
           0.6363636363636364,
           "rgb(89, 159, 196)"
          ],
          [
           0.7272727272727273,
           "rgb(114, 184, 205)"
          ],
          [
           0.8181818181818182,
           "rgb(149, 207, 216)"
          ],
          [
           0.9090909090909091,
           "rgb(192, 229, 232)"
          ],
          [
           1,
           "rgb(234, 252, 253)"
          ]
         ],
         "opacity": 0.3,
         "showscale": false,
         "type": "surface",
         "x": [
          -30.8173,
          30.8173
         ],
         "y": [
          -83.6409,
          39.993700000000004
         ],
         "z": [
          [
           -30.431,
           -30.431
          ],
          [
           -30.431,
           -30.431
          ]
         ]
        },
        {
         "colorscale": [
          [
           0,
           "rgb(255,255,255)"
          ],
          [
           0.125,
           "rgb(240,240,240)"
          ],
          [
           0.25,
           "rgb(217,217,217)"
          ],
          [
           0.375,
           "rgb(189,189,189)"
          ],
          [
           0.5,
           "rgb(150,150,150)"
          ],
          [
           0.625,
           "rgb(115,115,115)"
          ],
          [
           0.75,
           "rgb(82,82,82)"
          ],
          [
           0.875,
           "rgb(37,37,37)"
          ],
          [
           1,
           "rgb(0,0,0)"
          ]
         ],
         "opacity": 0.3,
         "showscale": false,
         "type": "surface",
         "x": [
          -30.8173,
          30.8173
         ],
         "y": [
          -83.6409,
          39.993700000000004
         ],
         "z": [
          [
           0,
           0
          ],
          [
           0,
           0
          ]
         ]
        },
        {
         "colorscale": [
          [
           0,
           "rgb(255,255,255)"
          ],
          [
           0.125,
           "rgb(240,240,240)"
          ],
          [
           0.25,
           "rgb(217,217,217)"
          ],
          [
           0.375,
           "rgb(189,189,189)"
          ],
          [
           0.5,
           "rgb(150,150,150)"
          ],
          [
           0.625,
           "rgb(115,115,115)"
          ],
          [
           0.75,
           "rgb(82,82,82)"
          ],
          [
           0.875,
           "rgb(37,37,37)"
          ],
          [
           1,
           "rgb(0,0,0)"
          ]
         ],
         "opacity": 0.3,
         "showscale": false,
         "type": "surface",
         "x": [
          -30.8173,
          30.8173
         ],
         "y": [
          -83.6409,
          39.993700000000004
         ],
         "z": [
          [
           0,
           0
          ],
          [
           0,
           0
          ]
         ]
        },
        {
         "legendgroup": "tracks",
         "line": {
          "color": [
           14.538564682006836,
           12.865239143371582,
           11.198973655700684,
           9.470287322998047,
           1.0058436393737793,
           8.232690811157227,
           7.462339401245117,
           6.6511993408203125,
           5.758919715881348,
           5.1435699462890625,
           4.384694576263428,
           3.8900060653686523,
           3.4522225856781006,
           3.19297456741333,
           2.8142733573913574,
           2.520474433898926,
           2.236250162124634,
           2.1761727333068848,
           10.80558967590332,
           0.449282169342041,
           8.593505859375,
           7.23844051361084,
           6.678711891174316,
           5.704838752746582,
           5.3243560791015625,
           4.924747467041016,
           4.389580249786377,
           3.8941564559936523,
           3.2409682273864746,
           3.1437315940856934,
           2.642730951309204,
           2.55370831489563,
           2.3362386226654053,
           11.612643241882324,
           4.40893030166626,
           3.769089937210083,
           3.597679376602173,
           3.196788787841797,
           2.825495719909668,
           3.944734573364258,
           2.2407753467559814,
           10.650455474853516,
           6.202386856079102,
           5.16019868850708,
           4.524813175201416,
           4.598265171051025,
           3.86551570892334,
           3.3941571712493896,
           3.087459087371826,
           2.796621561050415,
           2.373331069946289,
           2.3077874183654785,
           11.228076934814453,
           9.218955039978027,
           7.886922359466553,
           6.693357467651367,
           6.254034042358398,
           5.640835285186768,
           4.821649551391602,
           4.172302722930908,
           3.9328088760375977,
           3.1581788063049316,
           3.1360843181610107,
           2.7508544921875,
           2.327561140060425,
           2.1751115322113037,
           11.483338356018066,
           13.807636260986328,
           12.480304718017578,
           9.817368507385254,
           9.33401107788086,
           8.266525268554688,
           7.368371486663818,
           6.7287278175354,
           7.08982515335083,
           5.655076026916504,
           5.155342102050781,
           4.7264933586120605,
           4.072672367095947,
           3.4257705211639404,
           3.6091840267181396,
           2.7724804878234863,
           2.6569182872772217,
           2.4372313022613525,
           2.0869877338409424,
           10.381464958190918,
           5.997458457946777,
           5.382392406463623,
           4.375976085662842,
           4.34226655960083,
           4.077354907989502,
           3.3652026653289795,
           2.998507261276245,
           2.7969906330108643,
           2.6166343688964844,
           2.3353500366210938,
           11.509054183959961,
           6.185419082641602,
           4.916300296783447,
           5.135400295257568,
           4.0620880126953125,
           3.4821794033050537,
           3.3450522422790527,
           2.9948976039886475,
           2.689274311065674,
           2.298616886138916,
           2.262791872024536,
           11.631922721862793,
           8.708002090454102,
           7.61063814163208,
           6.526315212249756,
           5.51495885848999,
           5.069218158721924,
           4.412710189819336,
           4.121406078338623,
           3.5097169876098633,
           3.1616525650024414,
           2.7902467250823975,
           2.6638948917388916,
           2.366330623626709,
           12.17713451385498
          ],
          "width": 5
         },
         "marker": {
          "size": 3
         },
         "mode": "lines",
         "name": "Tracks",
         "showlegend": true,
         "type": "scatter3d",
         "x": [
          -6.5673136711120605,
          -4.439640045166016,
          null,
          -4.439640045166016,
          -2.742502450942993,
          null,
          -2.742502450942993,
          -1.3813532590866089,
          null,
          -1.3813532590866089,
          -0.28445568680763245,
          null,
          -0.28445568680763245,
          -0.1587499976158142,
          null,
          0.1587499976158142,
          0.932015061378479,
          null,
          0.932015061378479,
          1.546675443649292,
          null,
          1.546675443649292,
          2.041721820831299,
          null,
          2.041721820831299,
          2.435636043548584,
          null,
          2.435636043548584,
          2.753789186477661,
          null,
          2.753789186477661,
          3.009124755859375,
          null,
          3.009124755859375,
          3.2156763076782227,
          null,
          3.2156763076782227,
          3.3805975914001465,
          null,
          3.3805975914001465,
          3.512953042984009,
          null,
          3.512953042984009,
          3.619385242462158,
          null,
          3.619385242462158,
          3.703951358795166,
          null,
          3.703951358795166,
          3.771681308746338,
          null,
          3.771681308746338,
          3.825812578201294,
          null,
          3.825812578201294,
          3.9686174392700195,
          null
         ],
         "y": [
          -76.08577728271484,
          -76.80924224853516,
          null,
          -76.80924224853516,
          -77.42060852050781,
          null,
          -77.42060852050781,
          -77.9101333618164,
          null,
          -77.9101333618164,
          -78.29627227783203,
          null,
          -78.29627227783203,
          -78.3394775390625,
          null,
          -78.45137786865234,
          -78.71852111816406,
          null,
          -78.71852111816406,
          -78.9464340209961,
          null,
          -78.9464340209961,
          -79.11859130859375,
          null,
          -79.11859130859375,
          -79.25231170654297,
          null,
          -79.25231170654297,
          -79.34912109375,
          null,
          -79.34912109375,
          -79.42223358154297,
          null,
          -79.42223358154297,
          -79.47481536865234,
          null,
          -79.47481536865234,
          -79.52156829833984,
          null,
          -79.52156829833984,
          -79.56051635742188,
          null,
          -79.56051635742188,
          -79.59095764160156,
          null,
          -79.59095764160156,
          -79.61872100830078,
          null,
          -79.61872100830078,
          -79.64193725585938,
          null,
          -79.64193725585938,
          -79.66236877441406,
          null,
          -79.66236877441406,
          -79.71355438232422,
          null
         ],
         "z": [
          -15.163572311401367,
          -15.01952838897705,
          null,
          -15.01952838897705,
          -14.862873077392578,
          null,
          -14.862873077392578,
          -14.717458724975586,
          null,
          -14.717458724975586,
          -14.588111877441406,
          null,
          -14.588111877441406,
          -14.56977367401123,
          null,
          -14.52617073059082,
          -14.417818069458008,
          null,
          -14.417818069458008,
          -14.32555103302002,
          null,
          -14.32555103302002,
          -14.26350212097168,
          null,
          -14.26350212097168,
          -14.209747314453125,
          null,
          -14.209747314453125,
          -14.172321319580078,
          null,
          -14.172321319580078,
          -14.152459144592285,
          null,
          -14.152459144592285,
          -14.13473129272461,
          null,
          -14.13473129272461,
          -14.12081527709961,
          null,
          -14.12081527709961,
          -14.107542037963867,
          null,
          -14.107542037963867,
          -14.099956512451172,
          null,
          -14.099956512451172,
          -14.094236373901367,
          null,
          -14.094236373901367,
          -14.088656425476074,
          null,
          -14.088656425476074,
          -14.083148956298828,
          null,
          -14.083148956298828,
          -14.073925018310547,
          null
         ]
        },
        {
         "legendgroup": "tracks",
         "line": {
          "color": [
           14.538564682006836,
           12.865239143371582,
           11.198973655700684,
           9.470287322998047,
           1.0058436393737793,
           8.232690811157227,
           7.462339401245117,
           6.6511993408203125,
           5.758919715881348,
           5.1435699462890625,
           4.384694576263428,
           3.8900060653686523,
           3.4522225856781006,
           3.19297456741333,
           2.8142733573913574,
           2.520474433898926,
           2.236250162124634,
           2.1761727333068848,
           10.80558967590332,
           0.449282169342041,
           8.593505859375,
           7.23844051361084,
           6.678711891174316,
           5.704838752746582,
           5.3243560791015625,
           4.924747467041016,
           4.389580249786377,
           3.8941564559936523,
           3.2409682273864746,
           3.1437315940856934,
           2.642730951309204,
           2.55370831489563,
           2.3362386226654053,
           11.612643241882324,
           4.40893030166626,
           3.769089937210083,
           3.597679376602173,
           3.196788787841797,
           2.825495719909668,
           3.944734573364258,
           2.2407753467559814,
           10.650455474853516,
           6.202386856079102,
           5.16019868850708,
           4.524813175201416,
           4.598265171051025,
           3.86551570892334,
           3.3941571712493896,
           3.087459087371826,
           2.796621561050415,
           2.373331069946289,
           2.3077874183654785,
           11.228076934814453,
           9.218955039978027,
           7.886922359466553,
           6.693357467651367,
           6.254034042358398,
           5.640835285186768,
           4.821649551391602,
           4.172302722930908,
           3.9328088760375977,
           3.1581788063049316,
           3.1360843181610107,
           2.7508544921875,
           2.327561140060425,
           2.1751115322113037,
           11.483338356018066,
           13.807636260986328,
           12.480304718017578,
           9.817368507385254,
           9.33401107788086,
           8.266525268554688,
           7.368371486663818,
           6.7287278175354,
           7.08982515335083,
           5.655076026916504,
           5.155342102050781,
           4.7264933586120605,
           4.072672367095947,
           3.4257705211639404,
           3.6091840267181396,
           2.7724804878234863,
           2.6569182872772217,
           2.4372313022613525,
           2.0869877338409424,
           10.381464958190918,
           5.997458457946777,
           5.382392406463623,
           4.375976085662842,
           4.34226655960083,
           4.077354907989502,
           3.3652026653289795,
           2.998507261276245,
           2.7969906330108643,
           2.6166343688964844,
           2.3353500366210938,
           11.509054183959961,
           6.185419082641602,
           4.916300296783447,
           5.135400295257568,
           4.0620880126953125,
           3.4821794033050537,
           3.3450522422790527,
           2.9948976039886475,
           2.689274311065674,
           2.298616886138916,
           2.262791872024536,
           11.631922721862793,
           8.708002090454102,
           7.61063814163208,
           6.526315212249756,
           5.51495885848999,
           5.069218158721924,
           4.412710189819336,
           4.121406078338623,
           3.5097169876098633,
           3.1616525650024414,
           2.7902467250823975,
           2.6638948917388916,
           2.366330623626709,
           12.17713451385498
          ],
          "width": 5
         },
         "marker": {
          "size": 3
         },
         "mode": "lines",
         "showlegend": false,
         "type": "scatter3d",
         "x": [
          -25.6239013671875,
          -25.592144012451172,
          null,
          -25.592144012451172,
          -24.790483474731445,
          null,
          -24.790483474731445,
          -24.153812408447266,
          null,
          -24.153812408447266,
          -23.65221405029297,
          null,
          -23.65221405029297,
          -23.26782989501953,
          null,
          -23.26782989501953,
          -22.950334548950195,
          null,
          -22.950334548950195,
          -22.695331573486328,
          null,
          -22.695331573486328,
          -22.4919376373291,
          null,
          -22.4919376373291,
          -22.32737159729004,
          null,
          -22.32737159729004,
          -22.196998596191406,
          null,
          -22.196998596191406,
          -22.09147071838379,
          null,
          -22.09147071838379,
          -22.00822639465332,
          null,
          -22.00822639465332,
          -21.939403533935547,
          null,
          -21.939403533935547,
          -21.88532066345215,
          null,
          -21.88532066345215,
          -21.734966278076172,
          null
         ],
         "y": [
          -55.738555908203125,
          -55.70120620727539,
          null,
          -55.70120620727539,
          -55.297054290771484,
          null,
          -55.297054290771484,
          -54.95707321166992,
          null,
          -54.95707321166992,
          -54.65314865112305,
          null,
          -54.65314865112305,
          -54.37974548339844,
          null,
          -54.37974548339844,
          -54.163818359375,
          null,
          -54.163818359375,
          -53.98988723754883,
          null,
          -53.98988723754883,
          -53.852684020996094,
          null,
          -53.852684020996094,
          -53.74787521362305,
          null,
          -53.74787521362305,
          -53.6635627746582,
          null,
          -53.6635627746582,
          -53.5954475402832,
          null,
          -53.5954475402832,
          -53.54057312011719,
          null,
          -53.54057312011719,
          -53.49916076660156,
          null,
          -53.49916076660156,
          -53.465702056884766,
          null,
          -53.465702056884766,
          -53.38482666015625,
          null
         ],
         "z": [
          -8.09123420715332,
          -8.09075927734375,
          null,
          -8.09075927734375,
          -8.019392967224121,
          null,
          -8.019392967224121,
          -7.968907356262207,
          null,
          -7.968907356262207,
          -7.931743144989014,
          null,
          -7.931743144989014,
          -7.928794860839844,
          null,
          -7.928794860839844,
          -7.946613311767578,
          null,
          -7.946613311767578,
          -7.9581708908081055,
          null,
          -7.9581708908081055,
          -7.9739789962768555,
          null,
          -7.9739789962768555,
          -7.984908580780029,
          null,
          -7.984908580780029,
          -7.991612434387207,
          null,
          -7.991612434387207,
          -7.992615699768066,
          null,
          -7.992615699768066,
          -7.996157169342041,
          null,
          -7.996157169342041,
          -8.000102043151855,
          null,
          -8.000102043151855,
          -8.005659103393555,
          null,
          -8.005659103393555,
          -8.057847023010254,
          null
         ]
        },
        {
         "legendgroup": "tracks",
         "line": {
          "color": [
           14.538564682006836,
           12.865239143371582,
           11.198973655700684,
           9.470287322998047,
           1.0058436393737793,
           8.232690811157227,
           7.462339401245117,
           6.6511993408203125,
           5.758919715881348,
           5.1435699462890625,
           4.384694576263428,
           3.8900060653686523,
           3.4522225856781006,
           3.19297456741333,
           2.8142733573913574,
           2.520474433898926,
           2.236250162124634,
           2.1761727333068848,
           10.80558967590332,
           0.449282169342041,
           8.593505859375,
           7.23844051361084,
           6.678711891174316,
           5.704838752746582,
           5.3243560791015625,
           4.924747467041016,
           4.389580249786377,
           3.8941564559936523,
           3.2409682273864746,
           3.1437315940856934,
           2.642730951309204,
           2.55370831489563,
           2.3362386226654053,
           11.612643241882324,
           4.40893030166626,
           3.769089937210083,
           3.597679376602173,
           3.196788787841797,
           2.825495719909668,
           3.944734573364258,
           2.2407753467559814,
           10.650455474853516,
           6.202386856079102,
           5.16019868850708,
           4.524813175201416,
           4.598265171051025,
           3.86551570892334,
           3.3941571712493896,
           3.087459087371826,
           2.796621561050415,
           2.373331069946289,
           2.3077874183654785,
           11.228076934814453,
           9.218955039978027,
           7.886922359466553,
           6.693357467651367,
           6.254034042358398,
           5.640835285186768,
           4.821649551391602,
           4.172302722930908,
           3.9328088760375977,
           3.1581788063049316,
           3.1360843181610107,
           2.7508544921875,
           2.327561140060425,
           2.1751115322113037,
           11.483338356018066,
           13.807636260986328,
           12.480304718017578,
           9.817368507385254,
           9.33401107788086,
           8.266525268554688,
           7.368371486663818,
           6.7287278175354,
           7.08982515335083,
           5.655076026916504,
           5.155342102050781,
           4.7264933586120605,
           4.072672367095947,
           3.4257705211639404,
           3.6091840267181396,
           2.7724804878234863,
           2.6569182872772217,
           2.4372313022613525,
           2.0869877338409424,
           10.381464958190918,
           5.997458457946777,
           5.382392406463623,
           4.375976085662842,
           4.34226655960083,
           4.077354907989502,
           3.3652026653289795,
           2.998507261276245,
           2.7969906330108643,
           2.6166343688964844,
           2.3353500366210938,
           11.509054183959961,
           6.185419082641602,
           4.916300296783447,
           5.135400295257568,
           4.0620880126953125,
           3.4821794033050537,
           3.3450522422790527,
           2.9948976039886475,
           2.689274311065674,
           2.298616886138916,
           2.262791872024536,
           11.631922721862793,
           8.708002090454102,
           7.61063814163208,
           6.526315212249756,
           5.51495885848999,
           5.069218158721924,
           4.412710189819336,
           4.121406078338623,
           3.5097169876098633,
           3.1616525650024414,
           2.7902467250823975,
           2.6638948917388916,
           2.366330623626709,
           12.17713451385498
          ],
          "width": 5
         },
         "marker": {
          "size": 3
         },
         "mode": "lines",
         "showlegend": false,
         "type": "scatter3d",
         "x": [
          9.507686614990234,
          9.61343765258789,
          null,
          9.61343765258789,
          9.699430465698242,
          null,
          9.699430465698242,
          9.772477149963379,
          null,
          9.772477149963379,
          9.836809158325195,
          null,
          9.836809158325195,
          9.88986873626709,
          null,
          9.88986873626709,
          9.953125953674316,
          null,
          9.953125953674316,
          9.957572937011719,
          null,
          9.957572937011719,
          9.968588829040527,
          null
         ],
         "y": [
          28.58099365234375,
          28.813993453979492,
          null,
          28.813993453979492,
          28.999164581298828,
          null,
          28.999164581298828,
          29.14636993408203,
          null,
          29.14636993408203,
          29.259923934936523,
          null,
          29.259923934936523,
          29.349136352539062,
          null,
          29.349136352539062,
          29.460783004760742,
          null,
          29.460783004760742,
          29.51697540283203,
          null,
          29.51697540283203,
          29.661849975585938,
          null
         ],
         "z": [
          -3.9291746616363525,
          -3.926583766937256,
          null,
          -3.926583766937256,
          -3.930488348007202,
          null,
          -3.930488348007202,
          -3.9370994567871094,
          null,
          -3.9370994567871094,
          -3.9421534538269043,
          null,
          -3.9421534538269043,
          -3.9429259300231934,
          null,
          -3.9429259300231934,
          -3.9405369758605957,
          null,
          -3.9405369758605957,
          -3.928683042526245,
          null,
          -3.928683042526245,
          -3.898164987564087,
          null
         ]
        },
        {
         "legendgroup": "tracks",
         "line": {
          "color": [
           14.538564682006836,
           12.865239143371582,
           11.198973655700684,
           9.470287322998047,
           1.0058436393737793,
           8.232690811157227,
           7.462339401245117,
           6.6511993408203125,
           5.758919715881348,
           5.1435699462890625,
           4.384694576263428,
           3.8900060653686523,
           3.4522225856781006,
           3.19297456741333,
           2.8142733573913574,
           2.520474433898926,
           2.236250162124634,
           2.1761727333068848,
           10.80558967590332,
           0.449282169342041,
           8.593505859375,
           7.23844051361084,
           6.678711891174316,
           5.704838752746582,
           5.3243560791015625,
           4.924747467041016,
           4.389580249786377,
           3.8941564559936523,
           3.2409682273864746,
           3.1437315940856934,
           2.642730951309204,
           2.55370831489563,
           2.3362386226654053,
           11.612643241882324,
           4.40893030166626,
           3.769089937210083,
           3.597679376602173,
           3.196788787841797,
           2.825495719909668,
           3.944734573364258,
           2.2407753467559814,
           10.650455474853516,
           6.202386856079102,
           5.16019868850708,
           4.524813175201416,
           4.598265171051025,
           3.86551570892334,
           3.3941571712493896,
           3.087459087371826,
           2.796621561050415,
           2.373331069946289,
           2.3077874183654785,
           11.228076934814453,
           9.218955039978027,
           7.886922359466553,
           6.693357467651367,
           6.254034042358398,
           5.640835285186768,
           4.821649551391602,
           4.172302722930908,
           3.9328088760375977,
           3.1581788063049316,
           3.1360843181610107,
           2.7508544921875,
           2.327561140060425,
           2.1751115322113037,
           11.483338356018066,
           13.807636260986328,
           12.480304718017578,
           9.817368507385254,
           9.33401107788086,
           8.266525268554688,
           7.368371486663818,
           6.7287278175354,
           7.08982515335083,
           5.655076026916504,
           5.155342102050781,
           4.7264933586120605,
           4.072672367095947,
           3.4257705211639404,
           3.6091840267181396,
           2.7724804878234863,
           2.6569182872772217,
           2.4372313022613525,
           2.0869877338409424,
           10.381464958190918,
           5.997458457946777,
           5.382392406463623,
           4.375976085662842,
           4.34226655960083,
           4.077354907989502,
           3.3652026653289795,
           2.998507261276245,
           2.7969906330108643,
           2.6166343688964844,
           2.3353500366210938,
           11.509054183959961,
           6.185419082641602,
           4.916300296783447,
           5.135400295257568,
           4.0620880126953125,
           3.4821794033050537,
           3.3450522422790527,
           2.9948976039886475,
           2.689274311065674,
           2.298616886138916,
           2.262791872024536,
           11.631922721862793,
           8.708002090454102,
           7.61063814163208,
           6.526315212249756,
           5.51495885848999,
           5.069218158721924,
           4.412710189819336,
           4.121406078338623,
           3.5097169876098633,
           3.1616525650024414,
           2.7902467250823975,
           2.6638948917388916,
           2.366330623626709,
           12.17713451385498
          ],
          "width": 5
         },
         "marker": {
          "size": 3
         },
         "mode": "lines",
         "showlegend": false,
         "type": "scatter3d",
         "x": [
          9.356057167053223,
          9.65518569946289,
          null,
          9.65518569946289,
          9.900154113769531,
          null,
          9.900154113769531,
          10.093217849731445,
          null,
          10.093217849731445,
          10.256214141845703,
          null,
          10.256214141845703,
          10.384847640991211,
          null,
          10.384847640991211,
          10.487946510314941,
          null,
          10.487946510314941,
          10.570145606994629,
          null,
          10.570145606994629,
          10.630982398986816,
          null,
          10.630982398986816,
          10.678635597229004,
          null,
          10.678635597229004,
          10.718111038208008,
          null,
          10.718111038208008,
          10.82594108581543,
          null
         ],
         "y": [
          -56.99673080444336,
          -56.731590270996094,
          null,
          -56.731590270996094,
          -56.5217170715332,
          null,
          -56.5217170715332,
          -56.347618103027344,
          null,
          -56.347618103027344,
          -56.20939254760742,
          null,
          -56.20939254760742,
          -56.098854064941406,
          null,
          -56.098854064941406,
          -56.010093688964844,
          null,
          -56.010093688964844,
          -55.938812255859375,
          null,
          -55.938812255859375,
          -55.881126403808594,
          null,
          -55.881126403808594,
          -55.83609390258789,
          null,
          -55.83609390258789,
          -55.80104446411133,
          null,
          -55.80104446411133,
          -55.696598052978516,
          null
         ],
         "z": [
          -7.366832256317139,
          -7.120306968688965,
          null,
          -7.120306968688965,
          -6.931759357452393,
          null,
          -6.931759357452393,
          -6.779343128204346,
          null,
          -6.779343128204346,
          -6.6618428230285645,
          null,
          -6.6618428230285645,
          -6.573123931884766,
          null,
          -6.573123931884766,
          -6.505094528198242,
          null,
          -6.505094528198242,
          -6.4514007568359375,
          null,
          -6.4514007568359375,
          -6.40382194519043,
          null,
          -6.40382194519043,
          -6.3646440505981445,
          null,
          -6.3646440505981445,
          -6.333367824554443,
          null,
          -6.333367824554443,
          -6.261720180511475,
          null
         ]
        },
        {
         "legendgroup": "tracks",
         "line": {
          "color": [
           14.538564682006836,
           12.865239143371582,
           11.198973655700684,
           9.470287322998047,
           1.0058436393737793,
           8.232690811157227,
           7.462339401245117,
           6.6511993408203125,
           5.758919715881348,
           5.1435699462890625,
           4.384694576263428,
           3.8900060653686523,
           3.4522225856781006,
           3.19297456741333,
           2.8142733573913574,
           2.520474433898926,
           2.236250162124634,
           2.1761727333068848,
           10.80558967590332,
           0.449282169342041,
           8.593505859375,
           7.23844051361084,
           6.678711891174316,
           5.704838752746582,
           5.3243560791015625,
           4.924747467041016,
           4.389580249786377,
           3.8941564559936523,
           3.2409682273864746,
           3.1437315940856934,
           2.642730951309204,
           2.55370831489563,
           2.3362386226654053,
           11.612643241882324,
           4.40893030166626,
           3.769089937210083,
           3.597679376602173,
           3.196788787841797,
           2.825495719909668,
           3.944734573364258,
           2.2407753467559814,
           10.650455474853516,
           6.202386856079102,
           5.16019868850708,
           4.524813175201416,
           4.598265171051025,
           3.86551570892334,
           3.3941571712493896,
           3.087459087371826,
           2.796621561050415,
           2.373331069946289,
           2.3077874183654785,
           11.228076934814453,
           9.218955039978027,
           7.886922359466553,
           6.693357467651367,
           6.254034042358398,
           5.640835285186768,
           4.821649551391602,
           4.172302722930908,
           3.9328088760375977,
           3.1581788063049316,
           3.1360843181610107,
           2.7508544921875,
           2.327561140060425,
           2.1751115322113037,
           11.483338356018066,
           13.807636260986328,
           12.480304718017578,
           9.817368507385254,
           9.33401107788086,
           8.266525268554688,
           7.368371486663818,
           6.7287278175354,
           7.08982515335083,
           5.655076026916504,
           5.155342102050781,
           4.7264933586120605,
           4.072672367095947,
           3.4257705211639404,
           3.6091840267181396,
           2.7724804878234863,
           2.6569182872772217,
           2.4372313022613525,
           2.0869877338409424,
           10.381464958190918,
           5.997458457946777,
           5.382392406463623,
           4.375976085662842,
           4.34226655960083,
           4.077354907989502,
           3.3652026653289795,
           2.998507261276245,
           2.7969906330108643,
           2.6166343688964844,
           2.3353500366210938,
           11.509054183959961,
           6.185419082641602,
           4.916300296783447,
           5.135400295257568,
           4.0620880126953125,
           3.4821794033050537,
           3.3450522422790527,
           2.9948976039886475,
           2.689274311065674,
           2.298616886138916,
           2.262791872024536,
           11.631922721862793,
           8.708002090454102,
           7.61063814163208,
           6.526315212249756,
           5.51495885848999,
           5.069218158721924,
           4.412710189819336,
           4.121406078338623,
           3.5097169876098633,
           3.1616525650024414,
           2.7902467250823975,
           2.6638948917388916,
           2.366330623626709,
           12.17713451385498
          ],
          "width": 5
         },
         "marker": {
          "size": 3
         },
         "mode": "lines",
         "showlegend": false,
         "type": "scatter3d",
         "x": [
          18.66889190673828,
          18.634984970092773,
          null,
          18.634984970092773,
          18.583154678344727,
          null,
          18.583154678344727,
          18.537336349487305,
          null,
          18.537336349487305,
          18.49956703186035,
          null,
          18.49956703186035,
          18.485563278198242,
          null,
          18.485563278198242,
          18.472806930541992,
          null,
          18.472806930541992,
          18.454498291015625,
          null,
          18.454498291015625,
          18.437122344970703,
          null,
          18.437122344970703,
          18.428909301757812,
          null,
          18.428909301757812,
          18.41802406311035,
          null,
          18.41802406311035,
          18.414409637451172,
          null,
          18.414409637451172,
          18.412931442260742,
          null,
          18.412931442260742,
          18.411800384521484,
          null,
          18.411800384521484,
          18.400920867919922,
          null
         ],
         "y": [
          -76.62470245361328,
          -76.53650665283203,
          null,
          -76.53650665283203,
          -76.46308898925781,
          null,
          -76.46308898925781,
          -76.42215728759766,
          null,
          -76.42215728759766,
          -76.38934326171875,
          null,
          -76.38934326171875,
          -76.35248565673828,
          null,
          -76.35248565673828,
          -76.31998443603516,
          null,
          -76.31998443603516,
          -76.2955093383789,
          null,
          -76.2955093383789,
          -76.27255249023438,
          null,
          -76.27255249023438,
          -76.24592590332031,
          null,
          -76.24592590332031,
          -76.22052764892578,
          null,
          -76.22052764892578,
          -76.20097351074219,
          null,
          -76.20097351074219,
          -76.18798828125,
          null,
          -76.18798828125,
          -76.1776123046875,
          null,
          -76.1776123046875,
          -76.15312957763672,
          null
         ],
         "z": [
          18.74880599975586,
          17.82309913635254,
          null,
          17.82309913635254,
          17.090288162231445,
          null,
          17.090288162231445,
          16.5040225982666,
          null,
          16.5040225982666,
          16.031906127929688,
          null,
          16.031906127929688,
          15.65645694732666,
          null,
          15.65645694732666,
          15.3600435256958,
          null,
          15.3600435256958,
          15.124305725097656,
          null,
          15.124305725097656,
          14.936040878295898,
          null,
          14.936040878295898,
          14.788026809692383,
          null,
          14.788026809692383,
          14.669182777404785,
          null,
          14.669182777404785,
          14.574617385864258,
          null,
          14.574617385864258,
          14.498842239379883,
          null,
          14.498842239379883,
          14.437634468078613,
          null,
          14.437634468078613,
          14.273299217224121,
          null
         ]
        },
        {
         "legendgroup": "tracks",
         "line": {
          "color": [
           14.538564682006836,
           12.865239143371582,
           11.198973655700684,
           9.470287322998047,
           1.0058436393737793,
           8.232690811157227,
           7.462339401245117,
           6.6511993408203125,
           5.758919715881348,
           5.1435699462890625,
           4.384694576263428,
           3.8900060653686523,
           3.4522225856781006,
           3.19297456741333,
           2.8142733573913574,
           2.520474433898926,
           2.236250162124634,
           2.1761727333068848,
           10.80558967590332,
           0.449282169342041,
           8.593505859375,
           7.23844051361084,
           6.678711891174316,
           5.704838752746582,
           5.3243560791015625,
           4.924747467041016,
           4.389580249786377,
           3.8941564559936523,
           3.2409682273864746,
           3.1437315940856934,
           2.642730951309204,
           2.55370831489563,
           2.3362386226654053,
           11.612643241882324,
           4.40893030166626,
           3.769089937210083,
           3.597679376602173,
           3.196788787841797,
           2.825495719909668,
           3.944734573364258,
           2.2407753467559814,
           10.650455474853516,
           6.202386856079102,
           5.16019868850708,
           4.524813175201416,
           4.598265171051025,
           3.86551570892334,
           3.3941571712493896,
           3.087459087371826,
           2.796621561050415,
           2.373331069946289,
           2.3077874183654785,
           11.228076934814453,
           9.218955039978027,
           7.886922359466553,
           6.693357467651367,
           6.254034042358398,
           5.640835285186768,
           4.821649551391602,
           4.172302722930908,
           3.9328088760375977,
           3.1581788063049316,
           3.1360843181610107,
           2.7508544921875,
           2.327561140060425,
           2.1751115322113037,
           11.483338356018066,
           13.807636260986328,
           12.480304718017578,
           9.817368507385254,
           9.33401107788086,
           8.266525268554688,
           7.368371486663818,
           6.7287278175354,
           7.08982515335083,
           5.655076026916504,
           5.155342102050781,
           4.7264933586120605,
           4.072672367095947,
           3.4257705211639404,
           3.6091840267181396,
           2.7724804878234863,
           2.6569182872772217,
           2.4372313022613525,
           2.0869877338409424,
           10.381464958190918,
           5.997458457946777,
           5.382392406463623,
           4.375976085662842,
           4.34226655960083,
           4.077354907989502,
           3.3652026653289795,
           2.998507261276245,
           2.7969906330108643,
           2.6166343688964844,
           2.3353500366210938,
           11.509054183959961,
           6.185419082641602,
           4.916300296783447,
           5.135400295257568,
           4.0620880126953125,
           3.4821794033050537,
           3.3450522422790527,
           2.9948976039886475,
           2.689274311065674,
           2.298616886138916,
           2.262791872024536,
           11.631922721862793,
           8.708002090454102,
           7.61063814163208,
           6.526315212249756,
           5.51495885848999,
           5.069218158721924,
           4.412710189819336,
           4.121406078338623,
           3.5097169876098633,
           3.1616525650024414,
           2.7902467250823975,
           2.6638948917388916,
           2.366330623626709,
           12.17713451385498
          ],
          "width": 5
         },
         "marker": {
          "size": 3
         },
         "mode": "lines",
         "showlegend": false,
         "type": "scatter3d",
         "x": [
          -14.629572868347168,
          -12.86405086517334,
          null,
          -12.86405086517334,
          -11.471772193908691,
          null,
          -11.471772193908691,
          -10.370132446289062,
          null,
          -10.370132446289062,
          -9.46187973022461,
          null,
          -9.46187973022461,
          -8.728508949279785,
          null,
          -8.728508949279785,
          -8.151542663574219,
          null,
          -8.151542663574219,
          -7.70777702331543,
          null
         ],
         "y": [
          -70.84723663330078,
          -71.81580352783203,
          null,
          -71.81580352783203,
          -72.6151351928711,
          null,
          -72.6151351928711,
          -73.24452209472656,
          null,
          -73.24452209472656,
          -73.75042724609375,
          null,
          -73.75042724609375,
          -74.1725845336914,
          null,
          -74.1725845336914,
          -74.54290008544922,
          null,
          -74.54290008544922,
          -74.8306884765625,
          null
         ],
         "z": [
          11.020041465759277,
          11.564021110534668,
          null,
          11.564021110534668,
          12.05811882019043,
          null,
          12.05811882019043,
          12.502354621887207,
          null,
          12.502354621887207,
          12.869916915893555,
          null,
          12.869916915893555,
          13.153091430664062,
          null,
          13.153091430664062,
          13.38074779510498,
          null,
          13.38074779510498,
          13.57155704498291,
          null
         ]
        },
        {
         "legendgroup": "tracks",
         "line": {
          "color": [
           14.538564682006836,
           12.865239143371582,
           11.198973655700684,
           9.470287322998047,
           1.0058436393737793,
           8.232690811157227,
           7.462339401245117,
           6.6511993408203125,
           5.758919715881348,
           5.1435699462890625,
           4.384694576263428,
           3.8900060653686523,
           3.4522225856781006,
           3.19297456741333,
           2.8142733573913574,
           2.520474433898926,
           2.236250162124634,
           2.1761727333068848,
           10.80558967590332,
           0.449282169342041,
           8.593505859375,
           7.23844051361084,
           6.678711891174316,
           5.704838752746582,
           5.3243560791015625,
           4.924747467041016,
           4.389580249786377,
           3.8941564559936523,
           3.2409682273864746,
           3.1437315940856934,
           2.642730951309204,
           2.55370831489563,
           2.3362386226654053,
           11.612643241882324,
           4.40893030166626,
           3.769089937210083,
           3.597679376602173,
           3.196788787841797,
           2.825495719909668,
           3.944734573364258,
           2.2407753467559814,
           10.650455474853516,
           6.202386856079102,
           5.16019868850708,
           4.524813175201416,
           4.598265171051025,
           3.86551570892334,
           3.3941571712493896,
           3.087459087371826,
           2.796621561050415,
           2.373331069946289,
           2.3077874183654785,
           11.228076934814453,
           9.218955039978027,
           7.886922359466553,
           6.693357467651367,
           6.254034042358398,
           5.640835285186768,
           4.821649551391602,
           4.172302722930908,
           3.9328088760375977,
           3.1581788063049316,
           3.1360843181610107,
           2.7508544921875,
           2.327561140060425,
           2.1751115322113037,
           11.483338356018066,
           13.807636260986328,
           12.480304718017578,
           9.817368507385254,
           9.33401107788086,
           8.266525268554688,
           7.368371486663818,
           6.7287278175354,
           7.08982515335083,
           5.655076026916504,
           5.155342102050781,
           4.7264933586120605,
           4.072672367095947,
           3.4257705211639404,
           3.6091840267181396,
           2.7724804878234863,
           2.6569182872772217,
           2.4372313022613525,
           2.0869877338409424,
           10.381464958190918,
           5.997458457946777,
           5.382392406463623,
           4.375976085662842,
           4.34226655960083,
           4.077354907989502,
           3.3652026653289795,
           2.998507261276245,
           2.7969906330108643,
           2.6166343688964844,
           2.3353500366210938,
           11.509054183959961,
           6.185419082641602,
           4.916300296783447,
           5.135400295257568,
           4.0620880126953125,
           3.4821794033050537,
           3.3450522422790527,
           2.9948976039886475,
           2.689274311065674,
           2.298616886138916,
           2.262791872024536,
           11.631922721862793,
           8.708002090454102,
           7.61063814163208,
           6.526315212249756,
           5.51495885848999,
           5.069218158721924,
           4.412710189819336,
           4.121406078338623,
           3.5097169876098633,
           3.1616525650024414,
           2.7902467250823975,
           2.6638948917388916,
           2.366330623626709,
           12.17713451385498
          ],
          "width": 5
         },
         "marker": {
          "size": 3
         },
         "mode": "lines",
         "showlegend": false,
         "type": "scatter3d",
         "x": [
          -21.912263870239258,
          -22.325363159179688,
          null,
          -22.325363159179688,
          -22.648454666137695,
          null,
          -22.648454666137695,
          -22.908607482910156,
          null,
          -22.908607482910156,
          -23.116199493408203,
          null,
          -23.116199493408203,
          -23.279611587524414,
          null,
          -23.279611587524414,
          -23.40629005432129,
          null,
          -23.40629005432129,
          -23.523235321044922,
          null,
          -23.523235321044922,
          -23.602354049682617,
          null,
          -23.602354049682617,
          -23.664640426635742,
          null,
          -23.664640426635742,
          -23.716585159301758,
          null,
          -23.716585159301758,
          -23.758012771606445,
          null,
          -23.758012771606445,
          -23.865325927734375,
          null
         ],
         "y": [
          31.28948974609375,
          31.26974868774414,
          null,
          31.26974868774414,
          31.25666618347168,
          null,
          31.25666618347168,
          31.257373809814453,
          null,
          31.257373809814453,
          31.249267578125,
          null,
          31.249267578125,
          31.2441349029541,
          null,
          31.2441349029541,
          31.2297420501709,
          null,
          31.2297420501709,
          31.218393325805664,
          null,
          31.218393325805664,
          31.215158462524414,
          null,
          31.215158462524414,
          31.2104434967041,
          null,
          31.2104434967041,
          31.205400466918945,
          null,
          31.205400466918945,
          31.20356559753418,
          null,
          31.20356559753418,
          31.1994571685791,
          null
         ],
         "z": [
          13.064964294433594,
          12.709078788757324,
          null,
          12.709078788757324,
          12.427347183227539,
          null,
          12.427347183227539,
          12.201301574707031,
          null,
          12.201301574707031,
          12.020843505859375,
          null,
          12.020843505859375,
          11.876753807067871,
          null,
          11.876753807067871,
          11.758709907531738,
          null,
          11.758709907531738,
          11.650182723999023,
          null,
          11.650182723999023,
          11.574999809265137,
          null,
          11.574999809265137,
          11.513134002685547,
          null,
          11.513134002685547,
          11.466774940490723,
          null,
          11.466774940490723,
          11.430328369140625,
          null,
          11.430328369140625,
          11.328152656555176,
          null
         ]
        },
        {
         "legendgroup": "tracks",
         "line": {
          "color": [
           14.538564682006836,
           12.865239143371582,
           11.198973655700684,
           9.470287322998047,
           1.0058436393737793,
           8.232690811157227,
           7.462339401245117,
           6.6511993408203125,
           5.758919715881348,
           5.1435699462890625,
           4.384694576263428,
           3.8900060653686523,
           3.4522225856781006,
           3.19297456741333,
           2.8142733573913574,
           2.520474433898926,
           2.236250162124634,
           2.1761727333068848,
           10.80558967590332,
           0.449282169342041,
           8.593505859375,
           7.23844051361084,
           6.678711891174316,
           5.704838752746582,
           5.3243560791015625,
           4.924747467041016,
           4.389580249786377,
           3.8941564559936523,
           3.2409682273864746,
           3.1437315940856934,
           2.642730951309204,
           2.55370831489563,
           2.3362386226654053,
           11.612643241882324,
           4.40893030166626,
           3.769089937210083,
           3.597679376602173,
           3.196788787841797,
           2.825495719909668,
           3.944734573364258,
           2.2407753467559814,
           10.650455474853516,
           6.202386856079102,
           5.16019868850708,
           4.524813175201416,
           4.598265171051025,
           3.86551570892334,
           3.3941571712493896,
           3.087459087371826,
           2.796621561050415,
           2.373331069946289,
           2.3077874183654785,
           11.228076934814453,
           9.218955039978027,
           7.886922359466553,
           6.693357467651367,
           6.254034042358398,
           5.640835285186768,
           4.821649551391602,
           4.172302722930908,
           3.9328088760375977,
           3.1581788063049316,
           3.1360843181610107,
           2.7508544921875,
           2.327561140060425,
           2.1751115322113037,
           11.483338356018066,
           13.807636260986328,
           12.480304718017578,
           9.817368507385254,
           9.33401107788086,
           8.266525268554688,
           7.368371486663818,
           6.7287278175354,
           7.08982515335083,
           5.655076026916504,
           5.155342102050781,
           4.7264933586120605,
           4.072672367095947,
           3.4257705211639404,
           3.6091840267181396,
           2.7724804878234863,
           2.6569182872772217,
           2.4372313022613525,
           2.0869877338409424,
           10.381464958190918,
           5.997458457946777,
           5.382392406463623,
           4.375976085662842,
           4.34226655960083,
           4.077354907989502,
           3.3652026653289795,
           2.998507261276245,
           2.7969906330108643,
           2.6166343688964844,
           2.3353500366210938,
           11.509054183959961,
           6.185419082641602,
           4.916300296783447,
           5.135400295257568,
           4.0620880126953125,
           3.4821794033050537,
           3.3450522422790527,
           2.9948976039886475,
           2.689274311065674,
           2.298616886138916,
           2.262791872024536,
           11.631922721862793,
           8.708002090454102,
           7.61063814163208,
           6.526315212249756,
           5.51495885848999,
           5.069218158721924,
           4.412710189819336,
           4.121406078338623,
           3.5097169876098633,
           3.1616525650024414,
           2.7902467250823975,
           2.6638948917388916,
           2.366330623626709,
           12.17713451385498
          ],
          "width": 5
         },
         "marker": {
          "size": 3
         },
         "mode": "lines",
         "showlegend": false,
         "type": "scatter3d",
         "x": [
          -23.03569793701172,
          -23.033174514770508,
          null,
          -23.033174514770508,
          -23.034313201904297,
          null,
          -23.034313201904297,
          -23.03862190246582,
          null,
          -23.03862190246582,
          -23.048789978027344,
          null,
          -23.048789978027344,
          -23.048490524291992,
          null,
          -23.048490524291992,
          -23.059621810913086,
          null,
          -23.059621810913086,
          -23.072458267211914,
          null,
          -23.072458267211914,
          -23.079994201660156,
          null,
          -23.079994201660156,
          -23.085010528564453,
          null,
          -23.085010528564453,
          -23.08744239807129,
          null,
          -23.08744239807129,
          -23.110185623168945,
          null
         ],
         "y": [
          -0.8668046593666077,
          -0.7261176705360413,
          null,
          -0.7261176705360413,
          -0.6115469336509705,
          null,
          -0.6115469336509705,
          -0.5196423530578613,
          null,
          -0.5196423530578613,
          -0.4505491554737091,
          null,
          -0.4505491554737091,
          -0.3938699960708618,
          null,
          -0.3938699960708618,
          -0.3505208194255829,
          null,
          -0.3505208194255829,
          -0.31000369787216187,
          null,
          -0.31000369787216187,
          -0.2779683768749237,
          null,
          -0.2779683768749237,
          -0.254934698343277,
          null,
          -0.254934698343277,
          -0.23772960901260376,
          null,
          -0.23772960901260376,
          -0.19302330911159515,
          null
         ],
         "z": [
          -5.057319164276123,
          -4.604841232299805,
          null,
          -4.604841232299805,
          -4.242018222808838,
          null,
          -4.242018222808838,
          -3.951662063598633,
          null,
          -3.951662063598633,
          -3.71304988861084,
          null,
          -3.71304988861084,
          -3.5229291915893555,
          null,
          -3.5229291915893555,
          -3.3731744289398193,
          null,
          -3.3731744289398193,
          -3.255277395248413,
          null,
          -3.255277395248413,
          -3.160168170928955,
          null,
          -3.160168170928955,
          -3.0835821628570557,
          null,
          -3.0835821628570557,
          -3.022808790206909,
          null,
          -3.022808790206909,
          -2.8587613105773926,
          null
         ]
        },
        {
         "legendgroup": "tracks",
         "line": {
          "color": [
           14.538564682006836,
           12.865239143371582,
           11.198973655700684,
           9.470287322998047,
           1.0058436393737793,
           8.232690811157227,
           7.462339401245117,
           6.6511993408203125,
           5.758919715881348,
           5.1435699462890625,
           4.384694576263428,
           3.8900060653686523,
           3.4522225856781006,
           3.19297456741333,
           2.8142733573913574,
           2.520474433898926,
           2.236250162124634,
           2.1761727333068848,
           10.80558967590332,
           0.449282169342041,
           8.593505859375,
           7.23844051361084,
           6.678711891174316,
           5.704838752746582,
           5.3243560791015625,
           4.924747467041016,
           4.389580249786377,
           3.8941564559936523,
           3.2409682273864746,
           3.1437315940856934,
           2.642730951309204,
           2.55370831489563,
           2.3362386226654053,
           11.612643241882324,
           4.40893030166626,
           3.769089937210083,
           3.597679376602173,
           3.196788787841797,
           2.825495719909668,
           3.944734573364258,
           2.2407753467559814,
           10.650455474853516,
           6.202386856079102,
           5.16019868850708,
           4.524813175201416,
           4.598265171051025,
           3.86551570892334,
           3.3941571712493896,
           3.087459087371826,
           2.796621561050415,
           2.373331069946289,
           2.3077874183654785,
           11.228076934814453,
           9.218955039978027,
           7.886922359466553,
           6.693357467651367,
           6.254034042358398,
           5.640835285186768,
           4.821649551391602,
           4.172302722930908,
           3.9328088760375977,
           3.1581788063049316,
           3.1360843181610107,
           2.7508544921875,
           2.327561140060425,
           2.1751115322113037,
           11.483338356018066,
           13.807636260986328,
           12.480304718017578,
           9.817368507385254,
           9.33401107788086,
           8.266525268554688,
           7.368371486663818,
           6.7287278175354,
           7.08982515335083,
           5.655076026916504,
           5.155342102050781,
           4.7264933586120605,
           4.072672367095947,
           3.4257705211639404,
           3.6091840267181396,
           2.7724804878234863,
           2.6569182872772217,
           2.4372313022613525,
           2.0869877338409424,
           10.381464958190918,
           5.997458457946777,
           5.382392406463623,
           4.375976085662842,
           4.34226655960083,
           4.077354907989502,
           3.3652026653289795,
           2.998507261276245,
           2.7969906330108643,
           2.6166343688964844,
           2.3353500366210938,
           11.509054183959961,
           6.185419082641602,
           4.916300296783447,
           5.135400295257568,
           4.0620880126953125,
           3.4821794033050537,
           3.3450522422790527,
           2.9948976039886475,
           2.689274311065674,
           2.298616886138916,
           2.262791872024536,
           11.631922721862793,
           8.708002090454102,
           7.61063814163208,
           6.526315212249756,
           5.51495885848999,
           5.069218158721924,
           4.412710189819336,
           4.121406078338623,
           3.5097169876098633,
           3.1616525650024414,
           2.7902467250823975,
           2.6638948917388916,
           2.366330623626709,
           12.17713451385498
          ],
          "width": 5
         },
         "marker": {
          "size": 3
         },
         "mode": "lines",
         "showlegend": false,
         "type": "scatter3d",
         "x": [
          -22.165048599243164,
          -21.858247756958008,
          null,
          -21.858247756958008,
          -21.616546630859375,
          null,
          -21.616546630859375,
          -21.421524047851562,
          null,
          -21.421524047851562,
          -21.27216148376465,
          null,
          -21.27216148376465,
          -21.15081214904785,
          null,
          -21.15081214904785,
          -21.0529727935791,
          null,
          -21.0529727935791,
          -20.977947235107422,
          null,
          -20.977947235107422,
          -20.919862747192383,
          null,
          -20.919862747192383,
          -20.87555503845215,
          null,
          -20.87555503845215,
          -20.84031867980957,
          null,
          -20.84031867980957,
          -20.746694564819336,
          null
         ],
         "y": [
          2.535414934158325,
          2.478858232498169,
          null,
          2.478858232498169,
          2.433405876159668,
          null,
          2.433405876159668,
          2.3876101970672607,
          null,
          2.3876101970672607,
          2.350813627243042,
          null,
          2.350813627243042,
          2.3194940090179443,
          null,
          2.3194940090179443,
          2.299513816833496,
          null,
          2.299513816833496,
          2.288479804992676,
          null,
          2.288479804992676,
          2.2772200107574463,
          null,
          2.2772200107574463,
          2.268087148666382,
          null,
          2.268087148666382,
          2.262336254119873,
          null,
          2.262336254119873,
          2.240888833999634,
          null
         ],
         "z": [
          15.269403457641602,
          14.930034637451172,
          null,
          14.930034637451172,
          14.658883094787598,
          null,
          14.658883094787598,
          14.438642501831055,
          null,
          14.438642501831055,
          14.263213157653809,
          null,
          14.263213157653809,
          14.123506546020508,
          null,
          14.123506546020508,
          14.00832462310791,
          null,
          14.00832462310791,
          13.912690162658691,
          null,
          13.912690162658691,
          13.834884643554688,
          null,
          13.834884643554688,
          13.770978927612305,
          null,
          13.770978927612305,
          13.718451499938965,
          null,
          13.718451499938965,
          13.570026397705078,
          null
         ]
        },
        {
         "legendgroup": "tracks",
         "line": {
          "color": [
           14.538564682006836,
           12.865239143371582,
           11.198973655700684,
           9.470287322998047,
           1.0058436393737793,
           8.232690811157227,
           7.462339401245117,
           6.6511993408203125,
           5.758919715881348,
           5.1435699462890625,
           4.384694576263428,
           3.8900060653686523,
           3.4522225856781006,
           3.19297456741333,
           2.8142733573913574,
           2.520474433898926,
           2.236250162124634,
           2.1761727333068848,
           10.80558967590332,
           0.449282169342041,
           8.593505859375,
           7.23844051361084,
           6.678711891174316,
           5.704838752746582,
           5.3243560791015625,
           4.924747467041016,
           4.389580249786377,
           3.8941564559936523,
           3.2409682273864746,
           3.1437315940856934,
           2.642730951309204,
           2.55370831489563,
           2.3362386226654053,
           11.612643241882324,
           4.40893030166626,
           3.769089937210083,
           3.597679376602173,
           3.196788787841797,
           2.825495719909668,
           3.944734573364258,
           2.2407753467559814,
           10.650455474853516,
           6.202386856079102,
           5.16019868850708,
           4.524813175201416,
           4.598265171051025,
           3.86551570892334,
           3.3941571712493896,
           3.087459087371826,
           2.796621561050415,
           2.373331069946289,
           2.3077874183654785,
           11.228076934814453,
           9.218955039978027,
           7.886922359466553,
           6.693357467651367,
           6.254034042358398,
           5.640835285186768,
           4.821649551391602,
           4.172302722930908,
           3.9328088760375977,
           3.1581788063049316,
           3.1360843181610107,
           2.7508544921875,
           2.327561140060425,
           2.1751115322113037,
           11.483338356018066,
           13.807636260986328,
           12.480304718017578,
           9.817368507385254,
           9.33401107788086,
           8.266525268554688,
           7.368371486663818,
           6.7287278175354,
           7.08982515335083,
           5.655076026916504,
           5.155342102050781,
           4.7264933586120605,
           4.072672367095947,
           3.4257705211639404,
           3.6091840267181396,
           2.7724804878234863,
           2.6569182872772217,
           2.4372313022613525,
           2.0869877338409424,
           10.381464958190918,
           5.997458457946777,
           5.382392406463623,
           4.375976085662842,
           4.34226655960083,
           4.077354907989502,
           3.3652026653289795,
           2.998507261276245,
           2.7969906330108643,
           2.6166343688964844,
           2.3353500366210938,
           11.509054183959961,
           6.185419082641602,
           4.916300296783447,
           5.135400295257568,
           4.0620880126953125,
           3.4821794033050537,
           3.3450522422790527,
           2.9948976039886475,
           2.689274311065674,
           2.298616886138916,
           2.262791872024536,
           11.631922721862793,
           8.708002090454102,
           7.61063814163208,
           6.526315212249756,
           5.51495885848999,
           5.069218158721924,
           4.412710189819336,
           4.121406078338623,
           3.5097169876098633,
           3.1616525650024414,
           2.7902467250823975,
           2.6638948917388916,
           2.366330623626709,
           12.17713451385498
          ],
          "width": 5
         },
         "marker": {
          "size": 3
         },
         "mode": "lines",
         "showlegend": false,
         "type": "scatter3d",
         "x": [
          -11.582633972167969,
          -11.435096740722656,
          null,
          -11.435096740722656,
          -11.324981689453125,
          null,
          -11.324981689453125,
          -11.235208511352539,
          null,
          -11.235208511352539,
          -11.168339729309082,
          null,
          -11.168339729309082,
          -11.127032279968262,
          null,
          -11.127032279968262,
          -11.078924179077148,
          null,
          -11.078924179077148,
          -11.038726806640625,
          null,
          -11.038726806640625,
          -11.009895324707031,
          null,
          -11.009895324707031,
          -10.989290237426758,
          null,
          -10.989290237426758,
          -10.977493286132812,
          null,
          -10.977493286132812,
          -10.970648765563965,
          null,
          -10.970648765563965,
          -10.96535873413086,
          null,
          -10.96535873413086,
          -10.948652267456055,
          null
         ],
         "y": [
          -9.7548189163208,
          -10.258281707763672,
          null,
          -10.258281707763672,
          -10.657756805419922,
          null,
          -10.657756805419922,
          -10.962431907653809,
          null,
          -10.962431907653809,
          -11.217029571533203,
          null,
          -11.217029571533203,
          -11.412540435791016,
          null,
          -11.412540435791016,
          -11.562323570251465,
          null,
          -11.562323570251465,
          -11.68301773071289,
          null,
          -11.68301773071289,
          -11.778046607971191,
          null,
          -11.778046607971191,
          -11.859123229980469,
          null,
          -11.859123229980469,
          -11.922825813293457,
          null,
          -11.922825813293457,
          -11.97385311126709,
          null,
          -11.97385311126709,
          -12.01240062713623,
          null,
          -12.01240062713623,
          -12.111559867858887,
          null
         ],
         "z": [
          5.053807735443115,
          4.419139385223389,
          null,
          4.419139385223389,
          3.9164977073669434,
          null,
          3.9164977073669434,
          3.510249614715576,
          null,
          3.510249614715576,
          3.1953675746917725,
          null,
          3.1953675746917725,
          2.9329042434692383,
          null,
          2.9329042434692383,
          2.722191572189331,
          null,
          2.722191572189331,
          2.5544564723968506,
          null,
          2.5544564723968506,
          2.4206395149230957,
          null,
          2.4206395149230957,
          2.316863775253296,
          null,
          2.316863775253296,
          2.2323696613311768,
          null,
          2.2323696613311768,
          2.1642794609069824,
          null,
          2.1642794609069824,
          2.1091082096099854,
          null,
          2.1091082096099854,
          1.9520775079727173,
          null
         ]
        }
       ],
       "layout": {
        "height": 768,
        "legend": {
         "orientation": "h"
        },
        "template": {
         "data": {
          "bar": [
           {
            "error_x": {
             "color": "#2a3f5f"
            },
            "error_y": {
             "color": "#2a3f5f"
            },
            "marker": {
             "line": {
              "color": "#E5ECF6",
              "width": 0.5
             },
             "pattern": {
              "fillmode": "overlay",
              "size": 10,
              "solidity": 0.2
             }
            },
            "type": "bar"
           }
          ],
          "barpolar": [
           {
            "marker": {
             "line": {
              "color": "#E5ECF6",
              "width": 0.5
             },
             "pattern": {
              "fillmode": "overlay",
              "size": 10,
              "solidity": 0.2
             }
            },
            "type": "barpolar"
           }
          ],
          "carpet": [
           {
            "aaxis": {
             "endlinecolor": "#2a3f5f",
             "gridcolor": "white",
             "linecolor": "white",
             "minorgridcolor": "white",
             "startlinecolor": "#2a3f5f"
            },
            "baxis": {
             "endlinecolor": "#2a3f5f",
             "gridcolor": "white",
             "linecolor": "white",
             "minorgridcolor": "white",
             "startlinecolor": "#2a3f5f"
            },
            "type": "carpet"
           }
          ],
          "choropleth": [
           {
            "colorbar": {
             "outlinewidth": 0,
             "ticks": ""
            },
            "type": "choropleth"
           }
          ],
          "contour": [
           {
            "colorbar": {
             "outlinewidth": 0,
             "ticks": ""
            },
            "colorscale": [
             [
              0,
              "#0d0887"
             ],
             [
              0.1111111111111111,
              "#46039f"
             ],
             [
              0.2222222222222222,
              "#7201a8"
             ],
             [
              0.3333333333333333,
              "#9c179e"
             ],
             [
              0.4444444444444444,
              "#bd3786"
             ],
             [
              0.5555555555555556,
              "#d8576b"
             ],
             [
              0.6666666666666666,
              "#ed7953"
             ],
             [
              0.7777777777777778,
              "#fb9f3a"
             ],
             [
              0.8888888888888888,
              "#fdca26"
             ],
             [
              1,
              "#f0f921"
             ]
            ],
            "type": "contour"
           }
          ],
          "contourcarpet": [
           {
            "colorbar": {
             "outlinewidth": 0,
             "ticks": ""
            },
            "type": "contourcarpet"
           }
          ],
          "heatmap": [
           {
            "colorbar": {
             "outlinewidth": 0,
             "ticks": ""
            },
            "colorscale": [
             [
              0,
              "#0d0887"
             ],
             [
              0.1111111111111111,
              "#46039f"
             ],
             [
              0.2222222222222222,
              "#7201a8"
             ],
             [
              0.3333333333333333,
              "#9c179e"
             ],
             [
              0.4444444444444444,
              "#bd3786"
             ],
             [
              0.5555555555555556,
              "#d8576b"
             ],
             [
              0.6666666666666666,
              "#ed7953"
             ],
             [
              0.7777777777777778,
              "#fb9f3a"
             ],
             [
              0.8888888888888888,
              "#fdca26"
             ],
             [
              1,
              "#f0f921"
             ]
            ],
            "type": "heatmap"
           }
          ],
          "heatmapgl": [
           {
            "colorbar": {
             "outlinewidth": 0,
             "ticks": ""
            },
            "colorscale": [
             [
              0,
              "#0d0887"
             ],
             [
              0.1111111111111111,
              "#46039f"
             ],
             [
              0.2222222222222222,
              "#7201a8"
             ],
             [
              0.3333333333333333,
              "#9c179e"
             ],
             [
              0.4444444444444444,
              "#bd3786"
             ],
             [
              0.5555555555555556,
              "#d8576b"
             ],
             [
              0.6666666666666666,
              "#ed7953"
             ],
             [
              0.7777777777777778,
              "#fb9f3a"
             ],
             [
              0.8888888888888888,
              "#fdca26"
             ],
             [
              1,
              "#f0f921"
             ]
            ],
            "type": "heatmapgl"
           }
          ],
          "histogram": [
           {
            "marker": {
             "pattern": {
              "fillmode": "overlay",
              "size": 10,
              "solidity": 0.2
             }
            },
            "type": "histogram"
           }
          ],
          "histogram2d": [
           {
            "colorbar": {
             "outlinewidth": 0,
             "ticks": ""
            },
            "colorscale": [
             [
              0,
              "#0d0887"
             ],
             [
              0.1111111111111111,
              "#46039f"
             ],
             [
              0.2222222222222222,
              "#7201a8"
             ],
             [
              0.3333333333333333,
              "#9c179e"
             ],
             [
              0.4444444444444444,
              "#bd3786"
             ],
             [
              0.5555555555555556,
              "#d8576b"
             ],
             [
              0.6666666666666666,
              "#ed7953"
             ],
             [
              0.7777777777777778,
              "#fb9f3a"
             ],
             [
              0.8888888888888888,
              "#fdca26"
             ],
             [
              1,
              "#f0f921"
             ]
            ],
            "type": "histogram2d"
           }
          ],
          "histogram2dcontour": [
           {
            "colorbar": {
             "outlinewidth": 0,
             "ticks": ""
            },
            "colorscale": [
             [
              0,
              "#0d0887"
             ],
             [
              0.1111111111111111,
              "#46039f"
             ],
             [
              0.2222222222222222,
              "#7201a8"
             ],
             [
              0.3333333333333333,
              "#9c179e"
             ],
             [
              0.4444444444444444,
              "#bd3786"
             ],
             [
              0.5555555555555556,
              "#d8576b"
             ],
             [
              0.6666666666666666,
              "#ed7953"
             ],
             [
              0.7777777777777778,
              "#fb9f3a"
             ],
             [
              0.8888888888888888,
              "#fdca26"
             ],
             [
              1,
              "#f0f921"
             ]
            ],
            "type": "histogram2dcontour"
           }
          ],
          "mesh3d": [
           {
            "colorbar": {
             "outlinewidth": 0,
             "ticks": ""
            },
            "type": "mesh3d"
           }
          ],
          "parcoords": [
           {
            "line": {
             "colorbar": {
              "outlinewidth": 0,
              "ticks": ""
             }
            },
            "type": "parcoords"
           }
          ],
          "pie": [
           {
            "automargin": true,
            "type": "pie"
           }
          ],
          "scatter": [
           {
            "fillpattern": {
             "fillmode": "overlay",
             "size": 10,
             "solidity": 0.2
            },
            "type": "scatter"
           }
          ],
          "scatter3d": [
           {
            "line": {
             "colorbar": {
              "outlinewidth": 0,
              "ticks": ""
             }
            },
            "marker": {
             "colorbar": {
              "outlinewidth": 0,
              "ticks": ""
             }
            },
            "type": "scatter3d"
           }
          ],
          "scattercarpet": [
           {
            "marker": {
             "colorbar": {
              "outlinewidth": 0,
              "ticks": ""
             }
            },
            "type": "scattercarpet"
           }
          ],
          "scattergeo": [
           {
            "marker": {
             "colorbar": {
              "outlinewidth": 0,
              "ticks": ""
             }
            },
            "type": "scattergeo"
           }
          ],
          "scattergl": [
           {
            "marker": {
             "colorbar": {
              "outlinewidth": 0,
              "ticks": ""
             }
            },
            "type": "scattergl"
           }
          ],
          "scattermapbox": [
           {
            "marker": {
             "colorbar": {
              "outlinewidth": 0,
              "ticks": ""
             }
            },
            "type": "scattermapbox"
           }
          ],
          "scatterpolar": [
           {
            "marker": {
             "colorbar": {
              "outlinewidth": 0,
              "ticks": ""
             }
            },
            "type": "scatterpolar"
           }
          ],
          "scatterpolargl": [
           {
            "marker": {
             "colorbar": {
              "outlinewidth": 0,
              "ticks": ""
             }
            },
            "type": "scatterpolargl"
           }
          ],
          "scatterternary": [
           {
            "marker": {
             "colorbar": {
              "outlinewidth": 0,
              "ticks": ""
             }
            },
            "type": "scatterternary"
           }
          ],
          "surface": [
           {
            "colorbar": {
             "outlinewidth": 0,
             "ticks": ""
            },
            "colorscale": [
             [
              0,
              "#0d0887"
             ],
             [
              0.1111111111111111,
              "#46039f"
             ],
             [
              0.2222222222222222,
              "#7201a8"
             ],
             [
              0.3333333333333333,
              "#9c179e"
             ],
             [
              0.4444444444444444,
              "#bd3786"
             ],
             [
              0.5555555555555556,
              "#d8576b"
             ],
             [
              0.6666666666666666,
              "#ed7953"
             ],
             [
              0.7777777777777778,
              "#fb9f3a"
             ],
             [
              0.8888888888888888,
              "#fdca26"
             ],
             [
              1,
              "#f0f921"
             ]
            ],
            "type": "surface"
           }
          ],
          "table": [
           {
            "cells": {
             "fill": {
              "color": "#EBF0F8"
             },
             "line": {
              "color": "white"
             }
            },
            "header": {
             "fill": {
              "color": "#C8D4E3"
             },
             "line": {
              "color": "white"
             }
            },
            "type": "table"
           }
          ]
         },
         "layout": {
          "annotationdefaults": {
           "arrowcolor": "#2a3f5f",
           "arrowhead": 0,
           "arrowwidth": 1
          },
          "autotypenumbers": "strict",
          "coloraxis": {
           "colorbar": {
            "outlinewidth": 0,
            "ticks": ""
           }
          },
          "colorscale": {
           "diverging": [
            [
             0,
             "#8e0152"
            ],
            [
             0.1,
             "#c51b7d"
            ],
            [
             0.2,
             "#de77ae"
            ],
            [
             0.3,
             "#f1b6da"
            ],
            [
             0.4,
             "#fde0ef"
            ],
            [
             0.5,
             "#f7f7f7"
            ],
            [
             0.6,
             "#e6f5d0"
            ],
            [
             0.7,
             "#b8e186"
            ],
            [
             0.8,
             "#7fbc41"
            ],
            [
             0.9,
             "#4d9221"
            ],
            [
             1,
             "#276419"
            ]
           ],
           "sequential": [
            [
             0,
             "#0d0887"
            ],
            [
             0.1111111111111111,
             "#46039f"
            ],
            [
             0.2222222222222222,
             "#7201a8"
            ],
            [
             0.3333333333333333,
             "#9c179e"
            ],
            [
             0.4444444444444444,
             "#bd3786"
            ],
            [
             0.5555555555555556,
             "#d8576b"
            ],
            [
             0.6666666666666666,
             "#ed7953"
            ],
            [
             0.7777777777777778,
             "#fb9f3a"
            ],
            [
             0.8888888888888888,
             "#fdca26"
            ],
            [
             1,
             "#f0f921"
            ]
           ],
           "sequentialminus": [
            [
             0,
             "#0d0887"
            ],
            [
             0.1111111111111111,
             "#46039f"
            ],
            [
             0.2222222222222222,
             "#7201a8"
            ],
            [
             0.3333333333333333,
             "#9c179e"
            ],
            [
             0.4444444444444444,
             "#bd3786"
            ],
            [
             0.5555555555555556,
             "#d8576b"
            ],
            [
             0.6666666666666666,
             "#ed7953"
            ],
            [
             0.7777777777777778,
             "#fb9f3a"
            ],
            [
             0.8888888888888888,
             "#fdca26"
            ],
            [
             1,
             "#f0f921"
            ]
           ]
          },
          "colorway": [
           "#636efa",
           "#EF553B",
           "#00cc96",
           "#ab63fa",
           "#FFA15A",
           "#19d3f3",
           "#FF6692",
           "#B6E880",
           "#FF97FF",
           "#FECB52"
          ],
          "font": {
           "color": "#2a3f5f"
          },
          "geo": {
           "bgcolor": "white",
           "lakecolor": "white",
           "landcolor": "#E5ECF6",
           "showlakes": true,
           "showland": true,
           "subunitcolor": "white"
          },
          "hoverlabel": {
           "align": "left"
          },
          "hovermode": "closest",
          "mapbox": {
           "style": "light"
          },
          "paper_bgcolor": "white",
          "plot_bgcolor": "#E5ECF6",
          "polar": {
           "angularaxis": {
            "gridcolor": "white",
            "linecolor": "white",
            "ticks": ""
           },
           "bgcolor": "#E5ECF6",
           "radialaxis": {
            "gridcolor": "white",
            "linecolor": "white",
            "ticks": ""
           }
          },
          "scene": {
           "xaxis": {
            "backgroundcolor": "#E5ECF6",
            "gridcolor": "white",
            "gridwidth": 2,
            "linecolor": "white",
            "showbackground": true,
            "ticks": "",
            "zerolinecolor": "white"
           },
           "yaxis": {
            "backgroundcolor": "#E5ECF6",
            "gridcolor": "white",
            "gridwidth": 2,
            "linecolor": "white",
            "showbackground": true,
            "ticks": "",
            "zerolinecolor": "white"
           },
           "zaxis": {
            "backgroundcolor": "#E5ECF6",
            "gridcolor": "white",
            "gridwidth": 2,
            "linecolor": "white",
            "showbackground": true,
            "ticks": "",
            "zerolinecolor": "white"
           }
          },
          "shapedefaults": {
           "line": {
            "color": "#2a3f5f"
           }
          },
          "ternary": {
           "aaxis": {
            "gridcolor": "white",
            "linecolor": "white",
            "ticks": ""
           },
           "baxis": {
            "gridcolor": "white",
            "linecolor": "white",
            "ticks": ""
           },
           "bgcolor": "#E5ECF6",
           "caxis": {
            "gridcolor": "white",
            "linecolor": "white",
            "ticks": ""
           }
          },
          "title": {
           "x": 0.05
          },
          "xaxis": {
           "automargin": true,
           "gridcolor": "white",
           "linecolor": "white",
           "ticks": "",
           "title": {
            "standoff": 15
           },
           "zerolinecolor": "white",
           "zerolinewidth": 2
          },
          "yaxis": {
           "automargin": true,
           "gridcolor": "white",
           "linecolor": "white",
           "ticks": "",
           "title": {
            "standoff": 15
           },
           "zerolinecolor": "white",
           "zerolinewidth": 2
          }
         }
        },
        "width": 1024
       }
      },
      "text/html": [
       "<div>                            <div id=\"f2f898cf-a5aa-4f5f-b59a-d9380276d6ae\" class=\"plotly-graph-div\" style=\"height:768px; width:1024px;\"></div>            <script type=\"text/javascript\">                require([\"plotly\"], function(Plotly) {                    window.PLOTLYENV=window.PLOTLYENV || {};                                    if (document.getElementById(\"f2f898cf-a5aa-4f5f-b59a-d9380276d6ae\")) {                    Plotly.newPlot(                        \"f2f898cf-a5aa-4f5f-b59a-d9380276d6ae\",                        [{\"colorscale\":[[0.0,\"rgb(3, 5, 18)\"],[0.09090909090909091,\"rgb(25, 25, 51)\"],[0.18181818181818182,\"rgb(44, 42, 87)\"],[0.2727272727272727,\"rgb(58, 60, 125)\"],[0.36363636363636365,\"rgb(62, 83, 160)\"],[0.45454545454545453,\"rgb(62, 109, 178)\"],[0.5454545454545454,\"rgb(72, 134, 187)\"],[0.6363636363636364,\"rgb(89, 159, 196)\"],[0.7272727272727273,\"rgb(114, 184, 205)\"],[0.8181818181818182,\"rgb(149, 207, 216)\"],[0.9090909090909091,\"rgb(192, 229, 232)\"],[1.0,\"rgb(234, 252, 253)\"]],\"opacity\":0.3,\"showscale\":false,\"x\":[-30.8173,30.8173],\"y\":[-83.6409,39.993700000000004],\"z\":[[30.431,30.431],[30.431,30.431]],\"type\":\"surface\"},{\"colorscale\":[[0.0,\"rgb(3, 5, 18)\"],[0.09090909090909091,\"rgb(25, 25, 51)\"],[0.18181818181818182,\"rgb(44, 42, 87)\"],[0.2727272727272727,\"rgb(58, 60, 125)\"],[0.36363636363636365,\"rgb(62, 83, 160)\"],[0.45454545454545453,\"rgb(62, 109, 178)\"],[0.5454545454545454,\"rgb(72, 134, 187)\"],[0.6363636363636364,\"rgb(89, 159, 196)\"],[0.7272727272727273,\"rgb(114, 184, 205)\"],[0.8181818181818182,\"rgb(149, 207, 216)\"],[0.9090909090909091,\"rgb(192, 229, 232)\"],[1.0,\"rgb(234, 252, 253)\"]],\"opacity\":0.3,\"showscale\":false,\"x\":[-30.8173,30.8173],\"y\":[-83.6409,39.993700000000004],\"z\":[[-30.431,-30.431],[-30.431,-30.431]],\"type\":\"surface\"},{\"colorscale\":[[0.0,\"rgb(255,255,255)\"],[0.125,\"rgb(240,240,240)\"],[0.25,\"rgb(217,217,217)\"],[0.375,\"rgb(189,189,189)\"],[0.5,\"rgb(150,150,150)\"],[0.625,\"rgb(115,115,115)\"],[0.75,\"rgb(82,82,82)\"],[0.875,\"rgb(37,37,37)\"],[1.0,\"rgb(0,0,0)\"]],\"opacity\":0.3,\"showscale\":false,\"x\":[-30.8173,30.8173],\"y\":[-83.6409,39.993700000000004],\"z\":[[0,0],[0,0]],\"type\":\"surface\"},{\"colorscale\":[[0.0,\"rgb(255,255,255)\"],[0.125,\"rgb(240,240,240)\"],[0.25,\"rgb(217,217,217)\"],[0.375,\"rgb(189,189,189)\"],[0.5,\"rgb(150,150,150)\"],[0.625,\"rgb(115,115,115)\"],[0.75,\"rgb(82,82,82)\"],[0.875,\"rgb(37,37,37)\"],[1.0,\"rgb(0,0,0)\"]],\"opacity\":0.3,\"showscale\":false,\"x\":[-30.8173,30.8173],\"y\":[-83.6409,39.993700000000004],\"z\":[[0,0],[0,0]],\"type\":\"surface\"},{\"legendgroup\":\"tracks\",\"line\":{\"color\":[14.538564682006836,12.865239143371582,11.198973655700684,9.470287322998047,1.0058436393737793,8.232690811157227,7.462339401245117,6.6511993408203125,5.758919715881348,5.1435699462890625,4.384694576263428,3.8900060653686523,3.4522225856781006,3.19297456741333,2.8142733573913574,2.520474433898926,2.236250162124634,2.1761727333068848,10.80558967590332,0.449282169342041,8.593505859375,7.23844051361084,6.678711891174316,5.704838752746582,5.3243560791015625,4.924747467041016,4.389580249786377,3.8941564559936523,3.2409682273864746,3.1437315940856934,2.642730951309204,2.55370831489563,2.3362386226654053,11.612643241882324,4.40893030166626,3.769089937210083,3.597679376602173,3.196788787841797,2.825495719909668,3.944734573364258,2.2407753467559814,10.650455474853516,6.202386856079102,5.16019868850708,4.524813175201416,4.598265171051025,3.86551570892334,3.3941571712493896,3.087459087371826,2.796621561050415,2.373331069946289,2.3077874183654785,11.228076934814453,9.218955039978027,7.886922359466553,6.693357467651367,6.254034042358398,5.640835285186768,4.821649551391602,4.172302722930908,3.9328088760375977,3.1581788063049316,3.1360843181610107,2.7508544921875,2.327561140060425,2.1751115322113037,11.483338356018066,13.807636260986328,12.480304718017578,9.817368507385254,9.33401107788086,8.266525268554688,7.368371486663818,6.7287278175354,7.08982515335083,5.655076026916504,5.155342102050781,4.7264933586120605,4.072672367095947,3.4257705211639404,3.6091840267181396,2.7724804878234863,2.6569182872772217,2.4372313022613525,2.0869877338409424,10.381464958190918,5.997458457946777,5.382392406463623,4.375976085662842,4.34226655960083,4.077354907989502,3.3652026653289795,2.998507261276245,2.7969906330108643,2.6166343688964844,2.3353500366210938,11.509054183959961,6.185419082641602,4.916300296783447,5.135400295257568,4.0620880126953125,3.4821794033050537,3.3450522422790527,2.9948976039886475,2.689274311065674,2.298616886138916,2.262791872024536,11.631922721862793,8.708002090454102,7.61063814163208,6.526315212249756,5.51495885848999,5.069218158721924,4.412710189819336,4.121406078338623,3.5097169876098633,3.1616525650024414,2.7902467250823975,2.6638948917388916,2.366330623626709,12.17713451385498],\"width\":5.0},\"marker\":{\"size\":3.0},\"mode\":\"lines\",\"name\":\"Tracks\",\"showlegend\":true,\"x\":[-6.5673136711120605,-4.439640045166016,null,-4.439640045166016,-2.742502450942993,null,-2.742502450942993,-1.3813532590866089,null,-1.3813532590866089,-0.28445568680763245,null,-0.28445568680763245,-0.1587499976158142,null,0.1587499976158142,0.932015061378479,null,0.932015061378479,1.546675443649292,null,1.546675443649292,2.041721820831299,null,2.041721820831299,2.435636043548584,null,2.435636043548584,2.753789186477661,null,2.753789186477661,3.009124755859375,null,3.009124755859375,3.2156763076782227,null,3.2156763076782227,3.3805975914001465,null,3.3805975914001465,3.512953042984009,null,3.512953042984009,3.619385242462158,null,3.619385242462158,3.703951358795166,null,3.703951358795166,3.771681308746338,null,3.771681308746338,3.825812578201294,null,3.825812578201294,3.9686174392700195,null],\"y\":[-76.08577728271484,-76.80924224853516,null,-76.80924224853516,-77.42060852050781,null,-77.42060852050781,-77.9101333618164,null,-77.9101333618164,-78.29627227783203,null,-78.29627227783203,-78.3394775390625,null,-78.45137786865234,-78.71852111816406,null,-78.71852111816406,-78.9464340209961,null,-78.9464340209961,-79.11859130859375,null,-79.11859130859375,-79.25231170654297,null,-79.25231170654297,-79.34912109375,null,-79.34912109375,-79.42223358154297,null,-79.42223358154297,-79.47481536865234,null,-79.47481536865234,-79.52156829833984,null,-79.52156829833984,-79.56051635742188,null,-79.56051635742188,-79.59095764160156,null,-79.59095764160156,-79.61872100830078,null,-79.61872100830078,-79.64193725585938,null,-79.64193725585938,-79.66236877441406,null,-79.66236877441406,-79.71355438232422,null],\"z\":[-15.163572311401367,-15.01952838897705,null,-15.01952838897705,-14.862873077392578,null,-14.862873077392578,-14.717458724975586,null,-14.717458724975586,-14.588111877441406,null,-14.588111877441406,-14.56977367401123,null,-14.52617073059082,-14.417818069458008,null,-14.417818069458008,-14.32555103302002,null,-14.32555103302002,-14.26350212097168,null,-14.26350212097168,-14.209747314453125,null,-14.209747314453125,-14.172321319580078,null,-14.172321319580078,-14.152459144592285,null,-14.152459144592285,-14.13473129272461,null,-14.13473129272461,-14.12081527709961,null,-14.12081527709961,-14.107542037963867,null,-14.107542037963867,-14.099956512451172,null,-14.099956512451172,-14.094236373901367,null,-14.094236373901367,-14.088656425476074,null,-14.088656425476074,-14.083148956298828,null,-14.083148956298828,-14.073925018310547,null],\"type\":\"scatter3d\"},{\"legendgroup\":\"tracks\",\"line\":{\"color\":[14.538564682006836,12.865239143371582,11.198973655700684,9.470287322998047,1.0058436393737793,8.232690811157227,7.462339401245117,6.6511993408203125,5.758919715881348,5.1435699462890625,4.384694576263428,3.8900060653686523,3.4522225856781006,3.19297456741333,2.8142733573913574,2.520474433898926,2.236250162124634,2.1761727333068848,10.80558967590332,0.449282169342041,8.593505859375,7.23844051361084,6.678711891174316,5.704838752746582,5.3243560791015625,4.924747467041016,4.389580249786377,3.8941564559936523,3.2409682273864746,3.1437315940856934,2.642730951309204,2.55370831489563,2.3362386226654053,11.612643241882324,4.40893030166626,3.769089937210083,3.597679376602173,3.196788787841797,2.825495719909668,3.944734573364258,2.2407753467559814,10.650455474853516,6.202386856079102,5.16019868850708,4.524813175201416,4.598265171051025,3.86551570892334,3.3941571712493896,3.087459087371826,2.796621561050415,2.373331069946289,2.3077874183654785,11.228076934814453,9.218955039978027,7.886922359466553,6.693357467651367,6.254034042358398,5.640835285186768,4.821649551391602,4.172302722930908,3.9328088760375977,3.1581788063049316,3.1360843181610107,2.7508544921875,2.327561140060425,2.1751115322113037,11.483338356018066,13.807636260986328,12.480304718017578,9.817368507385254,9.33401107788086,8.266525268554688,7.368371486663818,6.7287278175354,7.08982515335083,5.655076026916504,5.155342102050781,4.7264933586120605,4.072672367095947,3.4257705211639404,3.6091840267181396,2.7724804878234863,2.6569182872772217,2.4372313022613525,2.0869877338409424,10.381464958190918,5.997458457946777,5.382392406463623,4.375976085662842,4.34226655960083,4.077354907989502,3.3652026653289795,2.998507261276245,2.7969906330108643,2.6166343688964844,2.3353500366210938,11.509054183959961,6.185419082641602,4.916300296783447,5.135400295257568,4.0620880126953125,3.4821794033050537,3.3450522422790527,2.9948976039886475,2.689274311065674,2.298616886138916,2.262791872024536,11.631922721862793,8.708002090454102,7.61063814163208,6.526315212249756,5.51495885848999,5.069218158721924,4.412710189819336,4.121406078338623,3.5097169876098633,3.1616525650024414,2.7902467250823975,2.6638948917388916,2.366330623626709,12.17713451385498],\"width\":5.0},\"marker\":{\"size\":3.0},\"mode\":\"lines\",\"showlegend\":false,\"x\":[-25.6239013671875,-25.592144012451172,null,-25.592144012451172,-24.790483474731445,null,-24.790483474731445,-24.153812408447266,null,-24.153812408447266,-23.65221405029297,null,-23.65221405029297,-23.26782989501953,null,-23.26782989501953,-22.950334548950195,null,-22.950334548950195,-22.695331573486328,null,-22.695331573486328,-22.4919376373291,null,-22.4919376373291,-22.32737159729004,null,-22.32737159729004,-22.196998596191406,null,-22.196998596191406,-22.09147071838379,null,-22.09147071838379,-22.00822639465332,null,-22.00822639465332,-21.939403533935547,null,-21.939403533935547,-21.88532066345215,null,-21.88532066345215,-21.734966278076172,null],\"y\":[-55.738555908203125,-55.70120620727539,null,-55.70120620727539,-55.297054290771484,null,-55.297054290771484,-54.95707321166992,null,-54.95707321166992,-54.65314865112305,null,-54.65314865112305,-54.37974548339844,null,-54.37974548339844,-54.163818359375,null,-54.163818359375,-53.98988723754883,null,-53.98988723754883,-53.852684020996094,null,-53.852684020996094,-53.74787521362305,null,-53.74787521362305,-53.6635627746582,null,-53.6635627746582,-53.5954475402832,null,-53.5954475402832,-53.54057312011719,null,-53.54057312011719,-53.49916076660156,null,-53.49916076660156,-53.465702056884766,null,-53.465702056884766,-53.38482666015625,null],\"z\":[-8.09123420715332,-8.09075927734375,null,-8.09075927734375,-8.019392967224121,null,-8.019392967224121,-7.968907356262207,null,-7.968907356262207,-7.931743144989014,null,-7.931743144989014,-7.928794860839844,null,-7.928794860839844,-7.946613311767578,null,-7.946613311767578,-7.9581708908081055,null,-7.9581708908081055,-7.9739789962768555,null,-7.9739789962768555,-7.984908580780029,null,-7.984908580780029,-7.991612434387207,null,-7.991612434387207,-7.992615699768066,null,-7.992615699768066,-7.996157169342041,null,-7.996157169342041,-8.000102043151855,null,-8.000102043151855,-8.005659103393555,null,-8.005659103393555,-8.057847023010254,null],\"type\":\"scatter3d\"},{\"legendgroup\":\"tracks\",\"line\":{\"color\":[14.538564682006836,12.865239143371582,11.198973655700684,9.470287322998047,1.0058436393737793,8.232690811157227,7.462339401245117,6.6511993408203125,5.758919715881348,5.1435699462890625,4.384694576263428,3.8900060653686523,3.4522225856781006,3.19297456741333,2.8142733573913574,2.520474433898926,2.236250162124634,2.1761727333068848,10.80558967590332,0.449282169342041,8.593505859375,7.23844051361084,6.678711891174316,5.704838752746582,5.3243560791015625,4.924747467041016,4.389580249786377,3.8941564559936523,3.2409682273864746,3.1437315940856934,2.642730951309204,2.55370831489563,2.3362386226654053,11.612643241882324,4.40893030166626,3.769089937210083,3.597679376602173,3.196788787841797,2.825495719909668,3.944734573364258,2.2407753467559814,10.650455474853516,6.202386856079102,5.16019868850708,4.524813175201416,4.598265171051025,3.86551570892334,3.3941571712493896,3.087459087371826,2.796621561050415,2.373331069946289,2.3077874183654785,11.228076934814453,9.218955039978027,7.886922359466553,6.693357467651367,6.254034042358398,5.640835285186768,4.821649551391602,4.172302722930908,3.9328088760375977,3.1581788063049316,3.1360843181610107,2.7508544921875,2.327561140060425,2.1751115322113037,11.483338356018066,13.807636260986328,12.480304718017578,9.817368507385254,9.33401107788086,8.266525268554688,7.368371486663818,6.7287278175354,7.08982515335083,5.655076026916504,5.155342102050781,4.7264933586120605,4.072672367095947,3.4257705211639404,3.6091840267181396,2.7724804878234863,2.6569182872772217,2.4372313022613525,2.0869877338409424,10.381464958190918,5.997458457946777,5.382392406463623,4.375976085662842,4.34226655960083,4.077354907989502,3.3652026653289795,2.998507261276245,2.7969906330108643,2.6166343688964844,2.3353500366210938,11.509054183959961,6.185419082641602,4.916300296783447,5.135400295257568,4.0620880126953125,3.4821794033050537,3.3450522422790527,2.9948976039886475,2.689274311065674,2.298616886138916,2.262791872024536,11.631922721862793,8.708002090454102,7.61063814163208,6.526315212249756,5.51495885848999,5.069218158721924,4.412710189819336,4.121406078338623,3.5097169876098633,3.1616525650024414,2.7902467250823975,2.6638948917388916,2.366330623626709,12.17713451385498],\"width\":5.0},\"marker\":{\"size\":3.0},\"mode\":\"lines\",\"showlegend\":false,\"x\":[9.507686614990234,9.61343765258789,null,9.61343765258789,9.699430465698242,null,9.699430465698242,9.772477149963379,null,9.772477149963379,9.836809158325195,null,9.836809158325195,9.88986873626709,null,9.88986873626709,9.953125953674316,null,9.953125953674316,9.957572937011719,null,9.957572937011719,9.968588829040527,null],\"y\":[28.58099365234375,28.813993453979492,null,28.813993453979492,28.999164581298828,null,28.999164581298828,29.14636993408203,null,29.14636993408203,29.259923934936523,null,29.259923934936523,29.349136352539062,null,29.349136352539062,29.460783004760742,null,29.460783004760742,29.51697540283203,null,29.51697540283203,29.661849975585938,null],\"z\":[-3.9291746616363525,-3.926583766937256,null,-3.926583766937256,-3.930488348007202,null,-3.930488348007202,-3.9370994567871094,null,-3.9370994567871094,-3.9421534538269043,null,-3.9421534538269043,-3.9429259300231934,null,-3.9429259300231934,-3.9405369758605957,null,-3.9405369758605957,-3.928683042526245,null,-3.928683042526245,-3.898164987564087,null],\"type\":\"scatter3d\"},{\"legendgroup\":\"tracks\",\"line\":{\"color\":[14.538564682006836,12.865239143371582,11.198973655700684,9.470287322998047,1.0058436393737793,8.232690811157227,7.462339401245117,6.6511993408203125,5.758919715881348,5.1435699462890625,4.384694576263428,3.8900060653686523,3.4522225856781006,3.19297456741333,2.8142733573913574,2.520474433898926,2.236250162124634,2.1761727333068848,10.80558967590332,0.449282169342041,8.593505859375,7.23844051361084,6.678711891174316,5.704838752746582,5.3243560791015625,4.924747467041016,4.389580249786377,3.8941564559936523,3.2409682273864746,3.1437315940856934,2.642730951309204,2.55370831489563,2.3362386226654053,11.612643241882324,4.40893030166626,3.769089937210083,3.597679376602173,3.196788787841797,2.825495719909668,3.944734573364258,2.2407753467559814,10.650455474853516,6.202386856079102,5.16019868850708,4.524813175201416,4.598265171051025,3.86551570892334,3.3941571712493896,3.087459087371826,2.796621561050415,2.373331069946289,2.3077874183654785,11.228076934814453,9.218955039978027,7.886922359466553,6.693357467651367,6.254034042358398,5.640835285186768,4.821649551391602,4.172302722930908,3.9328088760375977,3.1581788063049316,3.1360843181610107,2.7508544921875,2.327561140060425,2.1751115322113037,11.483338356018066,13.807636260986328,12.480304718017578,9.817368507385254,9.33401107788086,8.266525268554688,7.368371486663818,6.7287278175354,7.08982515335083,5.655076026916504,5.155342102050781,4.7264933586120605,4.072672367095947,3.4257705211639404,3.6091840267181396,2.7724804878234863,2.6569182872772217,2.4372313022613525,2.0869877338409424,10.381464958190918,5.997458457946777,5.382392406463623,4.375976085662842,4.34226655960083,4.077354907989502,3.3652026653289795,2.998507261276245,2.7969906330108643,2.6166343688964844,2.3353500366210938,11.509054183959961,6.185419082641602,4.916300296783447,5.135400295257568,4.0620880126953125,3.4821794033050537,3.3450522422790527,2.9948976039886475,2.689274311065674,2.298616886138916,2.262791872024536,11.631922721862793,8.708002090454102,7.61063814163208,6.526315212249756,5.51495885848999,5.069218158721924,4.412710189819336,4.121406078338623,3.5097169876098633,3.1616525650024414,2.7902467250823975,2.6638948917388916,2.366330623626709,12.17713451385498],\"width\":5.0},\"marker\":{\"size\":3.0},\"mode\":\"lines\",\"showlegend\":false,\"x\":[9.356057167053223,9.65518569946289,null,9.65518569946289,9.900154113769531,null,9.900154113769531,10.093217849731445,null,10.093217849731445,10.256214141845703,null,10.256214141845703,10.384847640991211,null,10.384847640991211,10.487946510314941,null,10.487946510314941,10.570145606994629,null,10.570145606994629,10.630982398986816,null,10.630982398986816,10.678635597229004,null,10.678635597229004,10.718111038208008,null,10.718111038208008,10.82594108581543,null],\"y\":[-56.99673080444336,-56.731590270996094,null,-56.731590270996094,-56.5217170715332,null,-56.5217170715332,-56.347618103027344,null,-56.347618103027344,-56.20939254760742,null,-56.20939254760742,-56.098854064941406,null,-56.098854064941406,-56.010093688964844,null,-56.010093688964844,-55.938812255859375,null,-55.938812255859375,-55.881126403808594,null,-55.881126403808594,-55.83609390258789,null,-55.83609390258789,-55.80104446411133,null,-55.80104446411133,-55.696598052978516,null],\"z\":[-7.366832256317139,-7.120306968688965,null,-7.120306968688965,-6.931759357452393,null,-6.931759357452393,-6.779343128204346,null,-6.779343128204346,-6.6618428230285645,null,-6.6618428230285645,-6.573123931884766,null,-6.573123931884766,-6.505094528198242,null,-6.505094528198242,-6.4514007568359375,null,-6.4514007568359375,-6.40382194519043,null,-6.40382194519043,-6.3646440505981445,null,-6.3646440505981445,-6.333367824554443,null,-6.333367824554443,-6.261720180511475,null],\"type\":\"scatter3d\"},{\"legendgroup\":\"tracks\",\"line\":{\"color\":[14.538564682006836,12.865239143371582,11.198973655700684,9.470287322998047,1.0058436393737793,8.232690811157227,7.462339401245117,6.6511993408203125,5.758919715881348,5.1435699462890625,4.384694576263428,3.8900060653686523,3.4522225856781006,3.19297456741333,2.8142733573913574,2.520474433898926,2.236250162124634,2.1761727333068848,10.80558967590332,0.449282169342041,8.593505859375,7.23844051361084,6.678711891174316,5.704838752746582,5.3243560791015625,4.924747467041016,4.389580249786377,3.8941564559936523,3.2409682273864746,3.1437315940856934,2.642730951309204,2.55370831489563,2.3362386226654053,11.612643241882324,4.40893030166626,3.769089937210083,3.597679376602173,3.196788787841797,2.825495719909668,3.944734573364258,2.2407753467559814,10.650455474853516,6.202386856079102,5.16019868850708,4.524813175201416,4.598265171051025,3.86551570892334,3.3941571712493896,3.087459087371826,2.796621561050415,2.373331069946289,2.3077874183654785,11.228076934814453,9.218955039978027,7.886922359466553,6.693357467651367,6.254034042358398,5.640835285186768,4.821649551391602,4.172302722930908,3.9328088760375977,3.1581788063049316,3.1360843181610107,2.7508544921875,2.327561140060425,2.1751115322113037,11.483338356018066,13.807636260986328,12.480304718017578,9.817368507385254,9.33401107788086,8.266525268554688,7.368371486663818,6.7287278175354,7.08982515335083,5.655076026916504,5.155342102050781,4.7264933586120605,4.072672367095947,3.4257705211639404,3.6091840267181396,2.7724804878234863,2.6569182872772217,2.4372313022613525,2.0869877338409424,10.381464958190918,5.997458457946777,5.382392406463623,4.375976085662842,4.34226655960083,4.077354907989502,3.3652026653289795,2.998507261276245,2.7969906330108643,2.6166343688964844,2.3353500366210938,11.509054183959961,6.185419082641602,4.916300296783447,5.135400295257568,4.0620880126953125,3.4821794033050537,3.3450522422790527,2.9948976039886475,2.689274311065674,2.298616886138916,2.262791872024536,11.631922721862793,8.708002090454102,7.61063814163208,6.526315212249756,5.51495885848999,5.069218158721924,4.412710189819336,4.121406078338623,3.5097169876098633,3.1616525650024414,2.7902467250823975,2.6638948917388916,2.366330623626709,12.17713451385498],\"width\":5.0},\"marker\":{\"size\":3.0},\"mode\":\"lines\",\"showlegend\":false,\"x\":[18.66889190673828,18.634984970092773,null,18.634984970092773,18.583154678344727,null,18.583154678344727,18.537336349487305,null,18.537336349487305,18.49956703186035,null,18.49956703186035,18.485563278198242,null,18.485563278198242,18.472806930541992,null,18.472806930541992,18.454498291015625,null,18.454498291015625,18.437122344970703,null,18.437122344970703,18.428909301757812,null,18.428909301757812,18.41802406311035,null,18.41802406311035,18.414409637451172,null,18.414409637451172,18.412931442260742,null,18.412931442260742,18.411800384521484,null,18.411800384521484,18.400920867919922,null],\"y\":[-76.62470245361328,-76.53650665283203,null,-76.53650665283203,-76.46308898925781,null,-76.46308898925781,-76.42215728759766,null,-76.42215728759766,-76.38934326171875,null,-76.38934326171875,-76.35248565673828,null,-76.35248565673828,-76.31998443603516,null,-76.31998443603516,-76.2955093383789,null,-76.2955093383789,-76.27255249023438,null,-76.27255249023438,-76.24592590332031,null,-76.24592590332031,-76.22052764892578,null,-76.22052764892578,-76.20097351074219,null,-76.20097351074219,-76.18798828125,null,-76.18798828125,-76.1776123046875,null,-76.1776123046875,-76.15312957763672,null],\"z\":[18.74880599975586,17.82309913635254,null,17.82309913635254,17.090288162231445,null,17.090288162231445,16.5040225982666,null,16.5040225982666,16.031906127929688,null,16.031906127929688,15.65645694732666,null,15.65645694732666,15.3600435256958,null,15.3600435256958,15.124305725097656,null,15.124305725097656,14.936040878295898,null,14.936040878295898,14.788026809692383,null,14.788026809692383,14.669182777404785,null,14.669182777404785,14.574617385864258,null,14.574617385864258,14.498842239379883,null,14.498842239379883,14.437634468078613,null,14.437634468078613,14.273299217224121,null],\"type\":\"scatter3d\"},{\"legendgroup\":\"tracks\",\"line\":{\"color\":[14.538564682006836,12.865239143371582,11.198973655700684,9.470287322998047,1.0058436393737793,8.232690811157227,7.462339401245117,6.6511993408203125,5.758919715881348,5.1435699462890625,4.384694576263428,3.8900060653686523,3.4522225856781006,3.19297456741333,2.8142733573913574,2.520474433898926,2.236250162124634,2.1761727333068848,10.80558967590332,0.449282169342041,8.593505859375,7.23844051361084,6.678711891174316,5.704838752746582,5.3243560791015625,4.924747467041016,4.389580249786377,3.8941564559936523,3.2409682273864746,3.1437315940856934,2.642730951309204,2.55370831489563,2.3362386226654053,11.612643241882324,4.40893030166626,3.769089937210083,3.597679376602173,3.196788787841797,2.825495719909668,3.944734573364258,2.2407753467559814,10.650455474853516,6.202386856079102,5.16019868850708,4.524813175201416,4.598265171051025,3.86551570892334,3.3941571712493896,3.087459087371826,2.796621561050415,2.373331069946289,2.3077874183654785,11.228076934814453,9.218955039978027,7.886922359466553,6.693357467651367,6.254034042358398,5.640835285186768,4.821649551391602,4.172302722930908,3.9328088760375977,3.1581788063049316,3.1360843181610107,2.7508544921875,2.327561140060425,2.1751115322113037,11.483338356018066,13.807636260986328,12.480304718017578,9.817368507385254,9.33401107788086,8.266525268554688,7.368371486663818,6.7287278175354,7.08982515335083,5.655076026916504,5.155342102050781,4.7264933586120605,4.072672367095947,3.4257705211639404,3.6091840267181396,2.7724804878234863,2.6569182872772217,2.4372313022613525,2.0869877338409424,10.381464958190918,5.997458457946777,5.382392406463623,4.375976085662842,4.34226655960083,4.077354907989502,3.3652026653289795,2.998507261276245,2.7969906330108643,2.6166343688964844,2.3353500366210938,11.509054183959961,6.185419082641602,4.916300296783447,5.135400295257568,4.0620880126953125,3.4821794033050537,3.3450522422790527,2.9948976039886475,2.689274311065674,2.298616886138916,2.262791872024536,11.631922721862793,8.708002090454102,7.61063814163208,6.526315212249756,5.51495885848999,5.069218158721924,4.412710189819336,4.121406078338623,3.5097169876098633,3.1616525650024414,2.7902467250823975,2.6638948917388916,2.366330623626709,12.17713451385498],\"width\":5.0},\"marker\":{\"size\":3.0},\"mode\":\"lines\",\"showlegend\":false,\"x\":[-14.629572868347168,-12.86405086517334,null,-12.86405086517334,-11.471772193908691,null,-11.471772193908691,-10.370132446289062,null,-10.370132446289062,-9.46187973022461,null,-9.46187973022461,-8.728508949279785,null,-8.728508949279785,-8.151542663574219,null,-8.151542663574219,-7.70777702331543,null],\"y\":[-70.84723663330078,-71.81580352783203,null,-71.81580352783203,-72.6151351928711,null,-72.6151351928711,-73.24452209472656,null,-73.24452209472656,-73.75042724609375,null,-73.75042724609375,-74.1725845336914,null,-74.1725845336914,-74.54290008544922,null,-74.54290008544922,-74.8306884765625,null],\"z\":[11.020041465759277,11.564021110534668,null,11.564021110534668,12.05811882019043,null,12.05811882019043,12.502354621887207,null,12.502354621887207,12.869916915893555,null,12.869916915893555,13.153091430664062,null,13.153091430664062,13.38074779510498,null,13.38074779510498,13.57155704498291,null],\"type\":\"scatter3d\"},{\"legendgroup\":\"tracks\",\"line\":{\"color\":[14.538564682006836,12.865239143371582,11.198973655700684,9.470287322998047,1.0058436393737793,8.232690811157227,7.462339401245117,6.6511993408203125,5.758919715881348,5.1435699462890625,4.384694576263428,3.8900060653686523,3.4522225856781006,3.19297456741333,2.8142733573913574,2.520474433898926,2.236250162124634,2.1761727333068848,10.80558967590332,0.449282169342041,8.593505859375,7.23844051361084,6.678711891174316,5.704838752746582,5.3243560791015625,4.924747467041016,4.389580249786377,3.8941564559936523,3.2409682273864746,3.1437315940856934,2.642730951309204,2.55370831489563,2.3362386226654053,11.612643241882324,4.40893030166626,3.769089937210083,3.597679376602173,3.196788787841797,2.825495719909668,3.944734573364258,2.2407753467559814,10.650455474853516,6.202386856079102,5.16019868850708,4.524813175201416,4.598265171051025,3.86551570892334,3.3941571712493896,3.087459087371826,2.796621561050415,2.373331069946289,2.3077874183654785,11.228076934814453,9.218955039978027,7.886922359466553,6.693357467651367,6.254034042358398,5.640835285186768,4.821649551391602,4.172302722930908,3.9328088760375977,3.1581788063049316,3.1360843181610107,2.7508544921875,2.327561140060425,2.1751115322113037,11.483338356018066,13.807636260986328,12.480304718017578,9.817368507385254,9.33401107788086,8.266525268554688,7.368371486663818,6.7287278175354,7.08982515335083,5.655076026916504,5.155342102050781,4.7264933586120605,4.072672367095947,3.4257705211639404,3.6091840267181396,2.7724804878234863,2.6569182872772217,2.4372313022613525,2.0869877338409424,10.381464958190918,5.997458457946777,5.382392406463623,4.375976085662842,4.34226655960083,4.077354907989502,3.3652026653289795,2.998507261276245,2.7969906330108643,2.6166343688964844,2.3353500366210938,11.509054183959961,6.185419082641602,4.916300296783447,5.135400295257568,4.0620880126953125,3.4821794033050537,3.3450522422790527,2.9948976039886475,2.689274311065674,2.298616886138916,2.262791872024536,11.631922721862793,8.708002090454102,7.61063814163208,6.526315212249756,5.51495885848999,5.069218158721924,4.412710189819336,4.121406078338623,3.5097169876098633,3.1616525650024414,2.7902467250823975,2.6638948917388916,2.366330623626709,12.17713451385498],\"width\":5.0},\"marker\":{\"size\":3.0},\"mode\":\"lines\",\"showlegend\":false,\"x\":[-21.912263870239258,-22.325363159179688,null,-22.325363159179688,-22.648454666137695,null,-22.648454666137695,-22.908607482910156,null,-22.908607482910156,-23.116199493408203,null,-23.116199493408203,-23.279611587524414,null,-23.279611587524414,-23.40629005432129,null,-23.40629005432129,-23.523235321044922,null,-23.523235321044922,-23.602354049682617,null,-23.602354049682617,-23.664640426635742,null,-23.664640426635742,-23.716585159301758,null,-23.716585159301758,-23.758012771606445,null,-23.758012771606445,-23.865325927734375,null],\"y\":[31.28948974609375,31.26974868774414,null,31.26974868774414,31.25666618347168,null,31.25666618347168,31.257373809814453,null,31.257373809814453,31.249267578125,null,31.249267578125,31.2441349029541,null,31.2441349029541,31.2297420501709,null,31.2297420501709,31.218393325805664,null,31.218393325805664,31.215158462524414,null,31.215158462524414,31.2104434967041,null,31.2104434967041,31.205400466918945,null,31.205400466918945,31.20356559753418,null,31.20356559753418,31.1994571685791,null],\"z\":[13.064964294433594,12.709078788757324,null,12.709078788757324,12.427347183227539,null,12.427347183227539,12.201301574707031,null,12.201301574707031,12.020843505859375,null,12.020843505859375,11.876753807067871,null,11.876753807067871,11.758709907531738,null,11.758709907531738,11.650182723999023,null,11.650182723999023,11.574999809265137,null,11.574999809265137,11.513134002685547,null,11.513134002685547,11.466774940490723,null,11.466774940490723,11.430328369140625,null,11.430328369140625,11.328152656555176,null],\"type\":\"scatter3d\"},{\"legendgroup\":\"tracks\",\"line\":{\"color\":[14.538564682006836,12.865239143371582,11.198973655700684,9.470287322998047,1.0058436393737793,8.232690811157227,7.462339401245117,6.6511993408203125,5.758919715881348,5.1435699462890625,4.384694576263428,3.8900060653686523,3.4522225856781006,3.19297456741333,2.8142733573913574,2.520474433898926,2.236250162124634,2.1761727333068848,10.80558967590332,0.449282169342041,8.593505859375,7.23844051361084,6.678711891174316,5.704838752746582,5.3243560791015625,4.924747467041016,4.389580249786377,3.8941564559936523,3.2409682273864746,3.1437315940856934,2.642730951309204,2.55370831489563,2.3362386226654053,11.612643241882324,4.40893030166626,3.769089937210083,3.597679376602173,3.196788787841797,2.825495719909668,3.944734573364258,2.2407753467559814,10.650455474853516,6.202386856079102,5.16019868850708,4.524813175201416,4.598265171051025,3.86551570892334,3.3941571712493896,3.087459087371826,2.796621561050415,2.373331069946289,2.3077874183654785,11.228076934814453,9.218955039978027,7.886922359466553,6.693357467651367,6.254034042358398,5.640835285186768,4.821649551391602,4.172302722930908,3.9328088760375977,3.1581788063049316,3.1360843181610107,2.7508544921875,2.327561140060425,2.1751115322113037,11.483338356018066,13.807636260986328,12.480304718017578,9.817368507385254,9.33401107788086,8.266525268554688,7.368371486663818,6.7287278175354,7.08982515335083,5.655076026916504,5.155342102050781,4.7264933586120605,4.072672367095947,3.4257705211639404,3.6091840267181396,2.7724804878234863,2.6569182872772217,2.4372313022613525,2.0869877338409424,10.381464958190918,5.997458457946777,5.382392406463623,4.375976085662842,4.34226655960083,4.077354907989502,3.3652026653289795,2.998507261276245,2.7969906330108643,2.6166343688964844,2.3353500366210938,11.509054183959961,6.185419082641602,4.916300296783447,5.135400295257568,4.0620880126953125,3.4821794033050537,3.3450522422790527,2.9948976039886475,2.689274311065674,2.298616886138916,2.262791872024536,11.631922721862793,8.708002090454102,7.61063814163208,6.526315212249756,5.51495885848999,5.069218158721924,4.412710189819336,4.121406078338623,3.5097169876098633,3.1616525650024414,2.7902467250823975,2.6638948917388916,2.366330623626709,12.17713451385498],\"width\":5.0},\"marker\":{\"size\":3.0},\"mode\":\"lines\",\"showlegend\":false,\"x\":[-23.03569793701172,-23.033174514770508,null,-23.033174514770508,-23.034313201904297,null,-23.034313201904297,-23.03862190246582,null,-23.03862190246582,-23.048789978027344,null,-23.048789978027344,-23.048490524291992,null,-23.048490524291992,-23.059621810913086,null,-23.059621810913086,-23.072458267211914,null,-23.072458267211914,-23.079994201660156,null,-23.079994201660156,-23.085010528564453,null,-23.085010528564453,-23.08744239807129,null,-23.08744239807129,-23.110185623168945,null],\"y\":[-0.8668046593666077,-0.7261176705360413,null,-0.7261176705360413,-0.6115469336509705,null,-0.6115469336509705,-0.5196423530578613,null,-0.5196423530578613,-0.4505491554737091,null,-0.4505491554737091,-0.3938699960708618,null,-0.3938699960708618,-0.3505208194255829,null,-0.3505208194255829,-0.31000369787216187,null,-0.31000369787216187,-0.2779683768749237,null,-0.2779683768749237,-0.254934698343277,null,-0.254934698343277,-0.23772960901260376,null,-0.23772960901260376,-0.19302330911159515,null],\"z\":[-5.057319164276123,-4.604841232299805,null,-4.604841232299805,-4.242018222808838,null,-4.242018222808838,-3.951662063598633,null,-3.951662063598633,-3.71304988861084,null,-3.71304988861084,-3.5229291915893555,null,-3.5229291915893555,-3.3731744289398193,null,-3.3731744289398193,-3.255277395248413,null,-3.255277395248413,-3.160168170928955,null,-3.160168170928955,-3.0835821628570557,null,-3.0835821628570557,-3.022808790206909,null,-3.022808790206909,-2.8587613105773926,null],\"type\":\"scatter3d\"},{\"legendgroup\":\"tracks\",\"line\":{\"color\":[14.538564682006836,12.865239143371582,11.198973655700684,9.470287322998047,1.0058436393737793,8.232690811157227,7.462339401245117,6.6511993408203125,5.758919715881348,5.1435699462890625,4.384694576263428,3.8900060653686523,3.4522225856781006,3.19297456741333,2.8142733573913574,2.520474433898926,2.236250162124634,2.1761727333068848,10.80558967590332,0.449282169342041,8.593505859375,7.23844051361084,6.678711891174316,5.704838752746582,5.3243560791015625,4.924747467041016,4.389580249786377,3.8941564559936523,3.2409682273864746,3.1437315940856934,2.642730951309204,2.55370831489563,2.3362386226654053,11.612643241882324,4.40893030166626,3.769089937210083,3.597679376602173,3.196788787841797,2.825495719909668,3.944734573364258,2.2407753467559814,10.650455474853516,6.202386856079102,5.16019868850708,4.524813175201416,4.598265171051025,3.86551570892334,3.3941571712493896,3.087459087371826,2.796621561050415,2.373331069946289,2.3077874183654785,11.228076934814453,9.218955039978027,7.886922359466553,6.693357467651367,6.254034042358398,5.640835285186768,4.821649551391602,4.172302722930908,3.9328088760375977,3.1581788063049316,3.1360843181610107,2.7508544921875,2.327561140060425,2.1751115322113037,11.483338356018066,13.807636260986328,12.480304718017578,9.817368507385254,9.33401107788086,8.266525268554688,7.368371486663818,6.7287278175354,7.08982515335083,5.655076026916504,5.155342102050781,4.7264933586120605,4.072672367095947,3.4257705211639404,3.6091840267181396,2.7724804878234863,2.6569182872772217,2.4372313022613525,2.0869877338409424,10.381464958190918,5.997458457946777,5.382392406463623,4.375976085662842,4.34226655960083,4.077354907989502,3.3652026653289795,2.998507261276245,2.7969906330108643,2.6166343688964844,2.3353500366210938,11.509054183959961,6.185419082641602,4.916300296783447,5.135400295257568,4.0620880126953125,3.4821794033050537,3.3450522422790527,2.9948976039886475,2.689274311065674,2.298616886138916,2.262791872024536,11.631922721862793,8.708002090454102,7.61063814163208,6.526315212249756,5.51495885848999,5.069218158721924,4.412710189819336,4.121406078338623,3.5097169876098633,3.1616525650024414,2.7902467250823975,2.6638948917388916,2.366330623626709,12.17713451385498],\"width\":5.0},\"marker\":{\"size\":3.0},\"mode\":\"lines\",\"showlegend\":false,\"x\":[-22.165048599243164,-21.858247756958008,null,-21.858247756958008,-21.616546630859375,null,-21.616546630859375,-21.421524047851562,null,-21.421524047851562,-21.27216148376465,null,-21.27216148376465,-21.15081214904785,null,-21.15081214904785,-21.0529727935791,null,-21.0529727935791,-20.977947235107422,null,-20.977947235107422,-20.919862747192383,null,-20.919862747192383,-20.87555503845215,null,-20.87555503845215,-20.84031867980957,null,-20.84031867980957,-20.746694564819336,null],\"y\":[2.535414934158325,2.478858232498169,null,2.478858232498169,2.433405876159668,null,2.433405876159668,2.3876101970672607,null,2.3876101970672607,2.350813627243042,null,2.350813627243042,2.3194940090179443,null,2.3194940090179443,2.299513816833496,null,2.299513816833496,2.288479804992676,null,2.288479804992676,2.2772200107574463,null,2.2772200107574463,2.268087148666382,null,2.268087148666382,2.262336254119873,null,2.262336254119873,2.240888833999634,null],\"z\":[15.269403457641602,14.930034637451172,null,14.930034637451172,14.658883094787598,null,14.658883094787598,14.438642501831055,null,14.438642501831055,14.263213157653809,null,14.263213157653809,14.123506546020508,null,14.123506546020508,14.00832462310791,null,14.00832462310791,13.912690162658691,null,13.912690162658691,13.834884643554688,null,13.834884643554688,13.770978927612305,null,13.770978927612305,13.718451499938965,null,13.718451499938965,13.570026397705078,null],\"type\":\"scatter3d\"},{\"legendgroup\":\"tracks\",\"line\":{\"color\":[14.538564682006836,12.865239143371582,11.198973655700684,9.470287322998047,1.0058436393737793,8.232690811157227,7.462339401245117,6.6511993408203125,5.758919715881348,5.1435699462890625,4.384694576263428,3.8900060653686523,3.4522225856781006,3.19297456741333,2.8142733573913574,2.520474433898926,2.236250162124634,2.1761727333068848,10.80558967590332,0.449282169342041,8.593505859375,7.23844051361084,6.678711891174316,5.704838752746582,5.3243560791015625,4.924747467041016,4.389580249786377,3.8941564559936523,3.2409682273864746,3.1437315940856934,2.642730951309204,2.55370831489563,2.3362386226654053,11.612643241882324,4.40893030166626,3.769089937210083,3.597679376602173,3.196788787841797,2.825495719909668,3.944734573364258,2.2407753467559814,10.650455474853516,6.202386856079102,5.16019868850708,4.524813175201416,4.598265171051025,3.86551570892334,3.3941571712493896,3.087459087371826,2.796621561050415,2.373331069946289,2.3077874183654785,11.228076934814453,9.218955039978027,7.886922359466553,6.693357467651367,6.254034042358398,5.640835285186768,4.821649551391602,4.172302722930908,3.9328088760375977,3.1581788063049316,3.1360843181610107,2.7508544921875,2.327561140060425,2.1751115322113037,11.483338356018066,13.807636260986328,12.480304718017578,9.817368507385254,9.33401107788086,8.266525268554688,7.368371486663818,6.7287278175354,7.08982515335083,5.655076026916504,5.155342102050781,4.7264933586120605,4.072672367095947,3.4257705211639404,3.6091840267181396,2.7724804878234863,2.6569182872772217,2.4372313022613525,2.0869877338409424,10.381464958190918,5.997458457946777,5.382392406463623,4.375976085662842,4.34226655960083,4.077354907989502,3.3652026653289795,2.998507261276245,2.7969906330108643,2.6166343688964844,2.3353500366210938,11.509054183959961,6.185419082641602,4.916300296783447,5.135400295257568,4.0620880126953125,3.4821794033050537,3.3450522422790527,2.9948976039886475,2.689274311065674,2.298616886138916,2.262791872024536,11.631922721862793,8.708002090454102,7.61063814163208,6.526315212249756,5.51495885848999,5.069218158721924,4.412710189819336,4.121406078338623,3.5097169876098633,3.1616525650024414,2.7902467250823975,2.6638948917388916,2.366330623626709,12.17713451385498],\"width\":5.0},\"marker\":{\"size\":3.0},\"mode\":\"lines\",\"showlegend\":false,\"x\":[-11.582633972167969,-11.435096740722656,null,-11.435096740722656,-11.324981689453125,null,-11.324981689453125,-11.235208511352539,null,-11.235208511352539,-11.168339729309082,null,-11.168339729309082,-11.127032279968262,null,-11.127032279968262,-11.078924179077148,null,-11.078924179077148,-11.038726806640625,null,-11.038726806640625,-11.009895324707031,null,-11.009895324707031,-10.989290237426758,null,-10.989290237426758,-10.977493286132812,null,-10.977493286132812,-10.970648765563965,null,-10.970648765563965,-10.96535873413086,null,-10.96535873413086,-10.948652267456055,null],\"y\":[-9.7548189163208,-10.258281707763672,null,-10.258281707763672,-10.657756805419922,null,-10.657756805419922,-10.962431907653809,null,-10.962431907653809,-11.217029571533203,null,-11.217029571533203,-11.412540435791016,null,-11.412540435791016,-11.562323570251465,null,-11.562323570251465,-11.68301773071289,null,-11.68301773071289,-11.778046607971191,null,-11.778046607971191,-11.859123229980469,null,-11.859123229980469,-11.922825813293457,null,-11.922825813293457,-11.97385311126709,null,-11.97385311126709,-12.01240062713623,null,-12.01240062713623,-12.111559867858887,null],\"z\":[5.053807735443115,4.419139385223389,null,4.419139385223389,3.9164977073669434,null,3.9164977073669434,3.510249614715576,null,3.510249614715576,3.1953675746917725,null,3.1953675746917725,2.9329042434692383,null,2.9329042434692383,2.722191572189331,null,2.722191572189331,2.5544564723968506,null,2.5544564723968506,2.4206395149230957,null,2.4206395149230957,2.316863775253296,null,2.316863775253296,2.2323696613311768,null,2.2323696613311768,2.1642794609069824,null,2.1642794609069824,2.1091082096099854,null,2.1091082096099854,1.9520775079727173,null],\"type\":\"scatter3d\"}],                        {\"template\":{\"data\":{\"histogram2dcontour\":[{\"type\":\"histogram2dcontour\",\"colorbar\":{\"outlinewidth\":0,\"ticks\":\"\"},\"colorscale\":[[0.0,\"#0d0887\"],[0.1111111111111111,\"#46039f\"],[0.2222222222222222,\"#7201a8\"],[0.3333333333333333,\"#9c179e\"],[0.4444444444444444,\"#bd3786\"],[0.5555555555555556,\"#d8576b\"],[0.6666666666666666,\"#ed7953\"],[0.7777777777777778,\"#fb9f3a\"],[0.8888888888888888,\"#fdca26\"],[1.0,\"#f0f921\"]]}],\"choropleth\":[{\"type\":\"choropleth\",\"colorbar\":{\"outlinewidth\":0,\"ticks\":\"\"}}],\"histogram2d\":[{\"type\":\"histogram2d\",\"colorbar\":{\"outlinewidth\":0,\"ticks\":\"\"},\"colorscale\":[[0.0,\"#0d0887\"],[0.1111111111111111,\"#46039f\"],[0.2222222222222222,\"#7201a8\"],[0.3333333333333333,\"#9c179e\"],[0.4444444444444444,\"#bd3786\"],[0.5555555555555556,\"#d8576b\"],[0.6666666666666666,\"#ed7953\"],[0.7777777777777778,\"#fb9f3a\"],[0.8888888888888888,\"#fdca26\"],[1.0,\"#f0f921\"]]}],\"heatmap\":[{\"type\":\"heatmap\",\"colorbar\":{\"outlinewidth\":0,\"ticks\":\"\"},\"colorscale\":[[0.0,\"#0d0887\"],[0.1111111111111111,\"#46039f\"],[0.2222222222222222,\"#7201a8\"],[0.3333333333333333,\"#9c179e\"],[0.4444444444444444,\"#bd3786\"],[0.5555555555555556,\"#d8576b\"],[0.6666666666666666,\"#ed7953\"],[0.7777777777777778,\"#fb9f3a\"],[0.8888888888888888,\"#fdca26\"],[1.0,\"#f0f921\"]]}],\"heatmapgl\":[{\"type\":\"heatmapgl\",\"colorbar\":{\"outlinewidth\":0,\"ticks\":\"\"},\"colorscale\":[[0.0,\"#0d0887\"],[0.1111111111111111,\"#46039f\"],[0.2222222222222222,\"#7201a8\"],[0.3333333333333333,\"#9c179e\"],[0.4444444444444444,\"#bd3786\"],[0.5555555555555556,\"#d8576b\"],[0.6666666666666666,\"#ed7953\"],[0.7777777777777778,\"#fb9f3a\"],[0.8888888888888888,\"#fdca26\"],[1.0,\"#f0f921\"]]}],\"contourcarpet\":[{\"type\":\"contourcarpet\",\"colorbar\":{\"outlinewidth\":0,\"ticks\":\"\"}}],\"contour\":[{\"type\":\"contour\",\"colorbar\":{\"outlinewidth\":0,\"ticks\":\"\"},\"colorscale\":[[0.0,\"#0d0887\"],[0.1111111111111111,\"#46039f\"],[0.2222222222222222,\"#7201a8\"],[0.3333333333333333,\"#9c179e\"],[0.4444444444444444,\"#bd3786\"],[0.5555555555555556,\"#d8576b\"],[0.6666666666666666,\"#ed7953\"],[0.7777777777777778,\"#fb9f3a\"],[0.8888888888888888,\"#fdca26\"],[1.0,\"#f0f921\"]]}],\"surface\":[{\"type\":\"surface\",\"colorbar\":{\"outlinewidth\":0,\"ticks\":\"\"},\"colorscale\":[[0.0,\"#0d0887\"],[0.1111111111111111,\"#46039f\"],[0.2222222222222222,\"#7201a8\"],[0.3333333333333333,\"#9c179e\"],[0.4444444444444444,\"#bd3786\"],[0.5555555555555556,\"#d8576b\"],[0.6666666666666666,\"#ed7953\"],[0.7777777777777778,\"#fb9f3a\"],[0.8888888888888888,\"#fdca26\"],[1.0,\"#f0f921\"]]}],\"mesh3d\":[{\"type\":\"mesh3d\",\"colorbar\":{\"outlinewidth\":0,\"ticks\":\"\"}}],\"scatter\":[{\"fillpattern\":{\"fillmode\":\"overlay\",\"size\":10,\"solidity\":0.2},\"type\":\"scatter\"}],\"parcoords\":[{\"type\":\"parcoords\",\"line\":{\"colorbar\":{\"outlinewidth\":0,\"ticks\":\"\"}}}],\"scatterpolargl\":[{\"type\":\"scatterpolargl\",\"marker\":{\"colorbar\":{\"outlinewidth\":0,\"ticks\":\"\"}}}],\"bar\":[{\"error_x\":{\"color\":\"#2a3f5f\"},\"error_y\":{\"color\":\"#2a3f5f\"},\"marker\":{\"line\":{\"color\":\"#E5ECF6\",\"width\":0.5},\"pattern\":{\"fillmode\":\"overlay\",\"size\":10,\"solidity\":0.2}},\"type\":\"bar\"}],\"scattergeo\":[{\"type\":\"scattergeo\",\"marker\":{\"colorbar\":{\"outlinewidth\":0,\"ticks\":\"\"}}}],\"scatterpolar\":[{\"type\":\"scatterpolar\",\"marker\":{\"colorbar\":{\"outlinewidth\":0,\"ticks\":\"\"}}}],\"histogram\":[{\"marker\":{\"pattern\":{\"fillmode\":\"overlay\",\"size\":10,\"solidity\":0.2}},\"type\":\"histogram\"}],\"scattergl\":[{\"type\":\"scattergl\",\"marker\":{\"colorbar\":{\"outlinewidth\":0,\"ticks\":\"\"}}}],\"scatter3d\":[{\"type\":\"scatter3d\",\"line\":{\"colorbar\":{\"outlinewidth\":0,\"ticks\":\"\"}},\"marker\":{\"colorbar\":{\"outlinewidth\":0,\"ticks\":\"\"}}}],\"scattermapbox\":[{\"type\":\"scattermapbox\",\"marker\":{\"colorbar\":{\"outlinewidth\":0,\"ticks\":\"\"}}}],\"scatterternary\":[{\"type\":\"scatterternary\",\"marker\":{\"colorbar\":{\"outlinewidth\":0,\"ticks\":\"\"}}}],\"scattercarpet\":[{\"type\":\"scattercarpet\",\"marker\":{\"colorbar\":{\"outlinewidth\":0,\"ticks\":\"\"}}}],\"carpet\":[{\"aaxis\":{\"endlinecolor\":\"#2a3f5f\",\"gridcolor\":\"white\",\"linecolor\":\"white\",\"minorgridcolor\":\"white\",\"startlinecolor\":\"#2a3f5f\"},\"baxis\":{\"endlinecolor\":\"#2a3f5f\",\"gridcolor\":\"white\",\"linecolor\":\"white\",\"minorgridcolor\":\"white\",\"startlinecolor\":\"#2a3f5f\"},\"type\":\"carpet\"}],\"table\":[{\"cells\":{\"fill\":{\"color\":\"#EBF0F8\"},\"line\":{\"color\":\"white\"}},\"header\":{\"fill\":{\"color\":\"#C8D4E3\"},\"line\":{\"color\":\"white\"}},\"type\":\"table\"}],\"barpolar\":[{\"marker\":{\"line\":{\"color\":\"#E5ECF6\",\"width\":0.5},\"pattern\":{\"fillmode\":\"overlay\",\"size\":10,\"solidity\":0.2}},\"type\":\"barpolar\"}],\"pie\":[{\"automargin\":true,\"type\":\"pie\"}]},\"layout\":{\"autotypenumbers\":\"strict\",\"colorway\":[\"#636efa\",\"#EF553B\",\"#00cc96\",\"#ab63fa\",\"#FFA15A\",\"#19d3f3\",\"#FF6692\",\"#B6E880\",\"#FF97FF\",\"#FECB52\"],\"font\":{\"color\":\"#2a3f5f\"},\"hovermode\":\"closest\",\"hoverlabel\":{\"align\":\"left\"},\"paper_bgcolor\":\"white\",\"plot_bgcolor\":\"#E5ECF6\",\"polar\":{\"bgcolor\":\"#E5ECF6\",\"angularaxis\":{\"gridcolor\":\"white\",\"linecolor\":\"white\",\"ticks\":\"\"},\"radialaxis\":{\"gridcolor\":\"white\",\"linecolor\":\"white\",\"ticks\":\"\"}},\"ternary\":{\"bgcolor\":\"#E5ECF6\",\"aaxis\":{\"gridcolor\":\"white\",\"linecolor\":\"white\",\"ticks\":\"\"},\"baxis\":{\"gridcolor\":\"white\",\"linecolor\":\"white\",\"ticks\":\"\"},\"caxis\":{\"gridcolor\":\"white\",\"linecolor\":\"white\",\"ticks\":\"\"}},\"coloraxis\":{\"colorbar\":{\"outlinewidth\":0,\"ticks\":\"\"}},\"colorscale\":{\"sequential\":[[0.0,\"#0d0887\"],[0.1111111111111111,\"#46039f\"],[0.2222222222222222,\"#7201a8\"],[0.3333333333333333,\"#9c179e\"],[0.4444444444444444,\"#bd3786\"],[0.5555555555555556,\"#d8576b\"],[0.6666666666666666,\"#ed7953\"],[0.7777777777777778,\"#fb9f3a\"],[0.8888888888888888,\"#fdca26\"],[1.0,\"#f0f921\"]],\"sequentialminus\":[[0.0,\"#0d0887\"],[0.1111111111111111,\"#46039f\"],[0.2222222222222222,\"#7201a8\"],[0.3333333333333333,\"#9c179e\"],[0.4444444444444444,\"#bd3786\"],[0.5555555555555556,\"#d8576b\"],[0.6666666666666666,\"#ed7953\"],[0.7777777777777778,\"#fb9f3a\"],[0.8888888888888888,\"#fdca26\"],[1.0,\"#f0f921\"]],\"diverging\":[[0,\"#8e0152\"],[0.1,\"#c51b7d\"],[0.2,\"#de77ae\"],[0.3,\"#f1b6da\"],[0.4,\"#fde0ef\"],[0.5,\"#f7f7f7\"],[0.6,\"#e6f5d0\"],[0.7,\"#b8e186\"],[0.8,\"#7fbc41\"],[0.9,\"#4d9221\"],[1,\"#276419\"]]},\"xaxis\":{\"gridcolor\":\"white\",\"linecolor\":\"white\",\"ticks\":\"\",\"title\":{\"standoff\":15},\"zerolinecolor\":\"white\",\"automargin\":true,\"zerolinewidth\":2},\"yaxis\":{\"gridcolor\":\"white\",\"linecolor\":\"white\",\"ticks\":\"\",\"title\":{\"standoff\":15},\"zerolinecolor\":\"white\",\"automargin\":true,\"zerolinewidth\":2},\"scene\":{\"xaxis\":{\"backgroundcolor\":\"#E5ECF6\",\"gridcolor\":\"white\",\"linecolor\":\"white\",\"showbackground\":true,\"ticks\":\"\",\"zerolinecolor\":\"white\",\"gridwidth\":2},\"yaxis\":{\"backgroundcolor\":\"#E5ECF6\",\"gridcolor\":\"white\",\"linecolor\":\"white\",\"showbackground\":true,\"ticks\":\"\",\"zerolinecolor\":\"white\",\"gridwidth\":2},\"zaxis\":{\"backgroundcolor\":\"#E5ECF6\",\"gridcolor\":\"white\",\"linecolor\":\"white\",\"showbackground\":true,\"ticks\":\"\",\"zerolinecolor\":\"white\",\"gridwidth\":2}},\"shapedefaults\":{\"line\":{\"color\":\"#2a3f5f\"}},\"annotationdefaults\":{\"arrowcolor\":\"#2a3f5f\",\"arrowhead\":0,\"arrowwidth\":1},\"geo\":{\"bgcolor\":\"white\",\"landcolor\":\"#E5ECF6\",\"subunitcolor\":\"white\",\"showland\":true,\"showlakes\":true,\"lakecolor\":\"white\"},\"title\":{\"x\":0.05},\"mapbox\":{\"style\":\"light\"}}},\"legend\":{\"orientation\":\"h\"},\"width\":1024,\"height\":768},                        {\"responsive\": true}                    ).then(function(){\n",
       "                            \n",
       "var gd = document.getElementById('f2f898cf-a5aa-4f5f-b59a-d9380276d6ae');\n",
       "var x = new MutationObserver(function (mutations, observer) {{\n",
       "        var display = window.getComputedStyle(gd).display;\n",
       "        if (!display || display === 'none') {{\n",
       "            console.log([gd, 'removed!']);\n",
       "            Plotly.purge(gd);\n",
       "            observer.disconnect();\n",
       "        }}\n",
       "}});\n",
       "\n",
       "// Listen for the removal of the full notebook cells\n",
       "var notebookContainer = gd.closest('#notebook-container');\n",
       "if (notebookContainer) {{\n",
       "    x.observe(notebookContainer, {childList: true});\n",
       "}}\n",
       "\n",
       "// Listen for the clearing of the current output cell\n",
       "var outputEl = gd.closest('.output');\n",
       "if (outputEl) {{\n",
       "    x.observe(outputEl, {childList: true});\n",
       "}}\n",
       "\n",
       "                        })                };                });            </script>        </div>"
      ]
     },
     "metadata": {},
     "output_type": "display_data"
    }
   ],
   "source": [
    "import plotly.graph_objects as go\n",
    "# -----------------------------------------------------------------------------\n",
    "# pick an event\n",
    "# -----------------------------------------------------------------------------\n",
    "i_evt = 1\n",
    "evt_id = event_ids[i_evt]\n",
    "\n",
    "evt_mask = tracks['eventID'] == evt_id\n",
    "# pckt_mask = pckt_event_ids == evt_id\n",
    "\n",
    "fig = go.Figure()\n",
    "# -----------------------------------------------------------------------------\n",
    "# Draw anode planes\n",
    "# -----------------------------------------------------------------------------\n",
    "fig.add_traces(draw_anode_planes(\n",
    "    geom,\n",
    "    showscale=False,\n",
    "    opacity=0.3,\n",
    "    colorscale='ice',\n",
    "))\n",
    "\n",
    "fig.add_traces(draw_cathode_planes(\n",
    "    geom,\n",
    "    showscale=False,\n",
    "    opacity=0.3,\n",
    "    colorscale='Greys',\n",
    "))\n",
    "\n",
    "\n",
    "# -----------------------------------------------------------------------------\n",
    "# Plot tracks\n",
    "# -----------------------------------------------------------------------------\n",
    "selected_tracks = tracks[evt_mask]\n",
    "track_ids = selected_tracks['trackID']\n",
    "track_uids = np.unique(track_ids)\n",
    "\n",
    "traces = []\n",
    "for track_id in track_uids:\n",
    "    mask = track_ids == track_id\n",
    "    \n",
    "    traces.append(plot_tracks(\n",
    "        selected_tracks[mask],\n",
    "        showlegend=False,\n",
    "        legendgroup='tracks',\n",
    "        mode='lines',\n",
    "        line_width=5.,\n",
    "        line_color=selected_tracks[\"dE\"],\n",
    "        marker_size=3.\n",
    "    )\n",
    ")\n",
    "traces[0].update(showlegend=True, name='Tracks')\n",
    "fig.add_traces(traces)\n",
    "\n",
    "# -----------------------------------------------------------------------------\n",
    "# Eye candies (style & layout)\n",
    "# -----------------------------------------------------------------------------\n",
    "fig.update_layout(\n",
    "#     template='plotly_dark',\n",
    "    width=1024, height=768,\n",
    "    legend_orientation=\"h\",\n",
    ")\n"
   ]
  },
  {
   "cell_type": "code",
   "execution_count": null,
   "id": "ec585b4c",
   "metadata": {},
   "outputs": [],
   "source": []
  }
 ],
 "metadata": {
  "kernelspec": {
   "display_name": "Python 3 (ipykernel)",
   "language": "python",
   "name": "python3"
  },
  "language_info": {
   "codemirror_mode": {
    "name": "ipython",
    "version": 3
   },
   "file_extension": ".py",
   "mimetype": "text/x-python",
   "name": "python",
   "nbconvert_exporter": "python",
   "pygments_lexer": "ipython3",
   "version": "3.10.12"
  }
 },
 "nbformat": 4,
 "nbformat_minor": 5
}
