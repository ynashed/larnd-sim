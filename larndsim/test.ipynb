{
 "cells": [
  {
   "cell_type": "code",
   "execution_count": 52,
   "metadata": {},
   "outputs": [],
   "source": [
    "import dataclasses\n",
    "import jax\n",
    "from flax import struct\n",
    "from types import MappingProxyType\n",
    "\n",
    "@dataclasses.dataclass\n",
    "class Params_template:\n",
    "    eField: float = struct.field(pytree_node=False)\n",
    "    Ab: float = struct.field(pytree_node=False)\n",
    "    kb: float = struct.field(pytree_node=False)\n",
    "    lifetime: float = struct.field(pytree_node=False)\n",
    "    vdrift: float = struct.field(pytree_node=False)\n",
    "    long_diff: float = struct.field(pytree_node=False)\n",
    "    tran_diff: float = struct.field(pytree_node=False)\n",
    "    tpc_borders: jax.Array = struct.field(pytree_node=False)\n",
    "    box: int = struct.field(pytree_node=False)\n",
    "    birks: int = struct.field(pytree_node=False)\n",
    "    lArDensity: float = struct.field(pytree_node=False)\n",
    "    alpha: float = struct.field(pytree_node=False)\n",
    "    beta: float = struct.field(pytree_node=False)\n",
    "    MeVToElectrons: float = struct.field(pytree_node=False)\n",
    "    pixel_pitch: float = struct.field(pytree_node=False)\n",
    "    n_pixels: tuple = struct.field(pytree_node=False)\n",
    "    max_radius: int = struct.field(pytree_node=False)\n",
    "    max_active_pixels: int = struct.field(pytree_node=False)\n",
    "    drift_length: float = struct.field(pytree_node=False)\n",
    "    t_sampling: float = struct.field(pytree_node=False)\n",
    "    time_interval: float = struct.field(pytree_node=False)\n",
    "    time_padding: float = struct.field(pytree_node=False)\n",
    "    min_step_size: float = struct.field(pytree_node=False)\n",
    "    time_max: float = struct.field(pytree_node=False)\n",
    "    time_window: float = struct.field(pytree_node=False)\n",
    "    e_charge: float = struct.field(pytree_node=False)\n",
    "    #: Maximum number of ADC values stored per pixel\n",
    "    MAX_ADC_VALUES: int = struct.field(pytree_node=False)\n",
    "    #: Discrimination threshold\n",
    "    DISCRIMINATION_THRESHOLD: float = struct.field(pytree_node=False)\n",
    "    #: ADC hold delay in clock cycles\n",
    "    ADC_HOLD_DELAY: int = struct.field(pytree_node=False)\n",
    "    #: Clock cycle time in :math:`\\mu s`\n",
    "    CLOCK_CYCLE: float = struct.field(pytree_node=False)\n",
    "    #: Front-end gain in :math:`mV/ke-`\n",
    "    GAIN: float = struct.field(pytree_node=False)\n",
    "    #: Common-mode voltage in :math:`mV`\n",
    "    V_CM: float = struct.field(pytree_node=False)\n",
    "    #: Reference voltage in :math:`mV`\n",
    "    V_REF: float = struct.field(pytree_node=False)\n",
    "    #: Pedestal voltage in :math:`mV`\n",
    "    V_PEDESTAL: float = struct.field(pytree_node=False)\n",
    "    #: Number of ADC counts\n",
    "    ADC_COUNTS: int = struct.field(pytree_node=False)\n",
    "    # if readout_noise:\n",
    "        #: Reset noise in e-\n",
    "        # self.RESET_NOISE_CHARGE = 900\n",
    "        # #: Uncorrelated noise in e-\n",
    "        # self.UNCORRELATED_NOISE_CHARGE = 500\n",
    "    # else:\n",
    "    RESET_NOISE_CHARGE: float = struct.field(pytree_node=False)\n",
    "    UNCORRELATED_NOISE_CHARGE: float = struct.field(pytree_node=False)\n",
    "\n",
    "def build_params_class(params_with_grad):\n",
    "    template_fields = dataclasses.fields(Params_template)\n",
    "    # Removing the pytree_node=False for the variables requiring gradient calculation\n",
    "    for param in params_with_grad:\n",
    "        for field in template_fields:\n",
    "            if field.name == param:\n",
    "                field.metadata = MappingProxyType({})\n",
    "                break\n",
    "    #Dynamically creating the class from the fields and passing it to struct that will itself pass it to dataclass, ouf...\n",
    "    base_class = type(\"Params\", (object, ), {field.name: field for field in template_fields})\n",
    "    base_class.__annotations__ = {field.name: field.type for field in template_fields}\n",
    "    return struct.dataclass(base_class)\n",
    "\n",
    "Params = build_params_class()"
   ]
  },
  {
   "cell_type": "code",
   "execution_count": 53,
   "metadata": {},
   "outputs": [
    {
     "data": {
      "text/plain": [
       "(Field(name='eField',type=<class 'float'>,default=<dataclasses._MISSING_TYPE object at 0x7f3ec0dcb970>,default_factory=<dataclasses._MISSING_TYPE object at 0x7f3ec0dcb970>,init=True,repr=True,hash=None,compare=True,metadata=mappingproxy({}),kw_only=False,_field_type=_FIELD),\n",
       " Field(name='Ab',type=<class 'float'>,default=<dataclasses._MISSING_TYPE object at 0x7f3ec0dcb970>,default_factory=<dataclasses._MISSING_TYPE object at 0x7f3ec0dcb970>,init=True,repr=True,hash=None,compare=True,metadata=mappingproxy({'pytree_node': False}),kw_only=False,_field_type=_FIELD),\n",
       " Field(name='kb',type=<class 'float'>,default=<dataclasses._MISSING_TYPE object at 0x7f3ec0dcb970>,default_factory=<dataclasses._MISSING_TYPE object at 0x7f3ec0dcb970>,init=True,repr=True,hash=None,compare=True,metadata=mappingproxy({'pytree_node': False}),kw_only=False,_field_type=_FIELD),\n",
       " Field(name='lifetime',type=<class 'float'>,default=<dataclasses._MISSING_TYPE object at 0x7f3ec0dcb970>,default_factory=<dataclasses._MISSING_TYPE object at 0x7f3ec0dcb970>,init=True,repr=True,hash=None,compare=True,metadata=mappingproxy({'pytree_node': False}),kw_only=False,_field_type=_FIELD),\n",
       " Field(name='vdrift',type=<class 'float'>,default=<dataclasses._MISSING_TYPE object at 0x7f3ec0dcb970>,default_factory=<dataclasses._MISSING_TYPE object at 0x7f3ec0dcb970>,init=True,repr=True,hash=None,compare=True,metadata=mappingproxy({'pytree_node': False}),kw_only=False,_field_type=_FIELD),\n",
       " Field(name='long_diff',type=<class 'float'>,default=<dataclasses._MISSING_TYPE object at 0x7f3ec0dcb970>,default_factory=<dataclasses._MISSING_TYPE object at 0x7f3ec0dcb970>,init=True,repr=True,hash=None,compare=True,metadata=mappingproxy({'pytree_node': False}),kw_only=False,_field_type=_FIELD),\n",
       " Field(name='tran_diff',type=<class 'float'>,default=<dataclasses._MISSING_TYPE object at 0x7f3ec0dcb970>,default_factory=<dataclasses._MISSING_TYPE object at 0x7f3ec0dcb970>,init=True,repr=True,hash=None,compare=True,metadata=mappingproxy({'pytree_node': False}),kw_only=False,_field_type=_FIELD),\n",
       " Field(name='tpc_borders',type=<class 'jax.Array'>,default=<dataclasses._MISSING_TYPE object at 0x7f3ec0dcb970>,default_factory=<dataclasses._MISSING_TYPE object at 0x7f3ec0dcb970>,init=True,repr=True,hash=None,compare=True,metadata=mappingproxy({'pytree_node': False}),kw_only=False,_field_type=_FIELD),\n",
       " Field(name='box',type=<class 'int'>,default=<dataclasses._MISSING_TYPE object at 0x7f3ec0dcb970>,default_factory=<dataclasses._MISSING_TYPE object at 0x7f3ec0dcb970>,init=True,repr=True,hash=None,compare=True,metadata=mappingproxy({'pytree_node': False}),kw_only=False,_field_type=_FIELD),\n",
       " Field(name='birks',type=<class 'int'>,default=<dataclasses._MISSING_TYPE object at 0x7f3ec0dcb970>,default_factory=<dataclasses._MISSING_TYPE object at 0x7f3ec0dcb970>,init=True,repr=True,hash=None,compare=True,metadata=mappingproxy({'pytree_node': False}),kw_only=False,_field_type=_FIELD),\n",
       " Field(name='lArDensity',type=<class 'float'>,default=<dataclasses._MISSING_TYPE object at 0x7f3ec0dcb970>,default_factory=<dataclasses._MISSING_TYPE object at 0x7f3ec0dcb970>,init=True,repr=True,hash=None,compare=True,metadata=mappingproxy({'pytree_node': False}),kw_only=False,_field_type=_FIELD),\n",
       " Field(name='alpha',type=<class 'float'>,default=<dataclasses._MISSING_TYPE object at 0x7f3ec0dcb970>,default_factory=<dataclasses._MISSING_TYPE object at 0x7f3ec0dcb970>,init=True,repr=True,hash=None,compare=True,metadata=mappingproxy({'pytree_node': False}),kw_only=False,_field_type=_FIELD),\n",
       " Field(name='beta',type=<class 'float'>,default=<dataclasses._MISSING_TYPE object at 0x7f3ec0dcb970>,default_factory=<dataclasses._MISSING_TYPE object at 0x7f3ec0dcb970>,init=True,repr=True,hash=None,compare=True,metadata=mappingproxy({'pytree_node': False}),kw_only=False,_field_type=_FIELD),\n",
       " Field(name='MeVToElectrons',type=<class 'float'>,default=<dataclasses._MISSING_TYPE object at 0x7f3ec0dcb970>,default_factory=<dataclasses._MISSING_TYPE object at 0x7f3ec0dcb970>,init=True,repr=True,hash=None,compare=True,metadata=mappingproxy({'pytree_node': False}),kw_only=False,_field_type=_FIELD),\n",
       " Field(name='pixel_pitch',type=<class 'float'>,default=<dataclasses._MISSING_TYPE object at 0x7f3ec0dcb970>,default_factory=<dataclasses._MISSING_TYPE object at 0x7f3ec0dcb970>,init=True,repr=True,hash=None,compare=True,metadata=mappingproxy({'pytree_node': False}),kw_only=False,_field_type=_FIELD),\n",
       " Field(name='n_pixels',type=<class 'tuple'>,default=<dataclasses._MISSING_TYPE object at 0x7f3ec0dcb970>,default_factory=<dataclasses._MISSING_TYPE object at 0x7f3ec0dcb970>,init=True,repr=True,hash=None,compare=True,metadata=mappingproxy({'pytree_node': False}),kw_only=False,_field_type=_FIELD),\n",
       " Field(name='max_radius',type=<class 'int'>,default=<dataclasses._MISSING_TYPE object at 0x7f3ec0dcb970>,default_factory=<dataclasses._MISSING_TYPE object at 0x7f3ec0dcb970>,init=True,repr=True,hash=None,compare=True,metadata=mappingproxy({'pytree_node': False}),kw_only=False,_field_type=_FIELD),\n",
       " Field(name='max_active_pixels',type=<class 'int'>,default=<dataclasses._MISSING_TYPE object at 0x7f3ec0dcb970>,default_factory=<dataclasses._MISSING_TYPE object at 0x7f3ec0dcb970>,init=True,repr=True,hash=None,compare=True,metadata=mappingproxy({'pytree_node': False}),kw_only=False,_field_type=_FIELD),\n",
       " Field(name='drift_length',type=<class 'float'>,default=<dataclasses._MISSING_TYPE object at 0x7f3ec0dcb970>,default_factory=<dataclasses._MISSING_TYPE object at 0x7f3ec0dcb970>,init=True,repr=True,hash=None,compare=True,metadata=mappingproxy({'pytree_node': False}),kw_only=False,_field_type=_FIELD),\n",
       " Field(name='t_sampling',type=<class 'float'>,default=<dataclasses._MISSING_TYPE object at 0x7f3ec0dcb970>,default_factory=<dataclasses._MISSING_TYPE object at 0x7f3ec0dcb970>,init=True,repr=True,hash=None,compare=True,metadata=mappingproxy({'pytree_node': False}),kw_only=False,_field_type=_FIELD),\n",
       " Field(name='time_interval',type=<class 'float'>,default=<dataclasses._MISSING_TYPE object at 0x7f3ec0dcb970>,default_factory=<dataclasses._MISSING_TYPE object at 0x7f3ec0dcb970>,init=True,repr=True,hash=None,compare=True,metadata=mappingproxy({'pytree_node': False}),kw_only=False,_field_type=_FIELD),\n",
       " Field(name='time_padding',type=<class 'float'>,default=<dataclasses._MISSING_TYPE object at 0x7f3ec0dcb970>,default_factory=<dataclasses._MISSING_TYPE object at 0x7f3ec0dcb970>,init=True,repr=True,hash=None,compare=True,metadata=mappingproxy({'pytree_node': False}),kw_only=False,_field_type=_FIELD),\n",
       " Field(name='min_step_size',type=<class 'float'>,default=<dataclasses._MISSING_TYPE object at 0x7f3ec0dcb970>,default_factory=<dataclasses._MISSING_TYPE object at 0x7f3ec0dcb970>,init=True,repr=True,hash=None,compare=True,metadata=mappingproxy({'pytree_node': False}),kw_only=False,_field_type=_FIELD),\n",
       " Field(name='time_max',type=<class 'float'>,default=<dataclasses._MISSING_TYPE object at 0x7f3ec0dcb970>,default_factory=<dataclasses._MISSING_TYPE object at 0x7f3ec0dcb970>,init=True,repr=True,hash=None,compare=True,metadata=mappingproxy({'pytree_node': False}),kw_only=False,_field_type=_FIELD),\n",
       " Field(name='time_window',type=<class 'float'>,default=<dataclasses._MISSING_TYPE object at 0x7f3ec0dcb970>,default_factory=<dataclasses._MISSING_TYPE object at 0x7f3ec0dcb970>,init=True,repr=True,hash=None,compare=True,metadata=mappingproxy({'pytree_node': False}),kw_only=False,_field_type=_FIELD),\n",
       " Field(name='e_charge',type=<class 'float'>,default=<dataclasses._MISSING_TYPE object at 0x7f3ec0dcb970>,default_factory=<dataclasses._MISSING_TYPE object at 0x7f3ec0dcb970>,init=True,repr=True,hash=None,compare=True,metadata=mappingproxy({'pytree_node': False}),kw_only=False,_field_type=_FIELD),\n",
       " Field(name='MAX_ADC_VALUES',type=<class 'int'>,default=<dataclasses._MISSING_TYPE object at 0x7f3ec0dcb970>,default_factory=<dataclasses._MISSING_TYPE object at 0x7f3ec0dcb970>,init=True,repr=True,hash=None,compare=True,metadata=mappingproxy({'pytree_node': False}),kw_only=False,_field_type=_FIELD),\n",
       " Field(name='DISCRIMINATION_THRESHOLD',type=<class 'float'>,default=<dataclasses._MISSING_TYPE object at 0x7f3ec0dcb970>,default_factory=<dataclasses._MISSING_TYPE object at 0x7f3ec0dcb970>,init=True,repr=True,hash=None,compare=True,metadata=mappingproxy({'pytree_node': False}),kw_only=False,_field_type=_FIELD),\n",
       " Field(name='ADC_HOLD_DELAY',type=<class 'int'>,default=<dataclasses._MISSING_TYPE object at 0x7f3ec0dcb970>,default_factory=<dataclasses._MISSING_TYPE object at 0x7f3ec0dcb970>,init=True,repr=True,hash=None,compare=True,metadata=mappingproxy({'pytree_node': False}),kw_only=False,_field_type=_FIELD),\n",
       " Field(name='CLOCK_CYCLE',type=<class 'float'>,default=<dataclasses._MISSING_TYPE object at 0x7f3ec0dcb970>,default_factory=<dataclasses._MISSING_TYPE object at 0x7f3ec0dcb970>,init=True,repr=True,hash=None,compare=True,metadata=mappingproxy({'pytree_node': False}),kw_only=False,_field_type=_FIELD),\n",
       " Field(name='GAIN',type=<class 'float'>,default=<dataclasses._MISSING_TYPE object at 0x7f3ec0dcb970>,default_factory=<dataclasses._MISSING_TYPE object at 0x7f3ec0dcb970>,init=True,repr=True,hash=None,compare=True,metadata=mappingproxy({'pytree_node': False}),kw_only=False,_field_type=_FIELD),\n",
       " Field(name='V_CM',type=<class 'float'>,default=<dataclasses._MISSING_TYPE object at 0x7f3ec0dcb970>,default_factory=<dataclasses._MISSING_TYPE object at 0x7f3ec0dcb970>,init=True,repr=True,hash=None,compare=True,metadata=mappingproxy({'pytree_node': False}),kw_only=False,_field_type=_FIELD),\n",
       " Field(name='V_REF',type=<class 'float'>,default=<dataclasses._MISSING_TYPE object at 0x7f3ec0dcb970>,default_factory=<dataclasses._MISSING_TYPE object at 0x7f3ec0dcb970>,init=True,repr=True,hash=None,compare=True,metadata=mappingproxy({'pytree_node': False}),kw_only=False,_field_type=_FIELD),\n",
       " Field(name='V_PEDESTAL',type=<class 'float'>,default=<dataclasses._MISSING_TYPE object at 0x7f3ec0dcb970>,default_factory=<dataclasses._MISSING_TYPE object at 0x7f3ec0dcb970>,init=True,repr=True,hash=None,compare=True,metadata=mappingproxy({'pytree_node': False}),kw_only=False,_field_type=_FIELD),\n",
       " Field(name='ADC_COUNTS',type=<class 'int'>,default=<dataclasses._MISSING_TYPE object at 0x7f3ec0dcb970>,default_factory=<dataclasses._MISSING_TYPE object at 0x7f3ec0dcb970>,init=True,repr=True,hash=None,compare=True,metadata=mappingproxy({'pytree_node': False}),kw_only=False,_field_type=_FIELD),\n",
       " Field(name='RESET_NOISE_CHARGE',type=<class 'float'>,default=<dataclasses._MISSING_TYPE object at 0x7f3ec0dcb970>,default_factory=<dataclasses._MISSING_TYPE object at 0x7f3ec0dcb970>,init=True,repr=True,hash=None,compare=True,metadata=mappingproxy({'pytree_node': False}),kw_only=False,_field_type=_FIELD),\n",
       " Field(name='UNCORRELATED_NOISE_CHARGE',type=<class 'float'>,default=<dataclasses._MISSING_TYPE object at 0x7f3ec0dcb970>,default_factory=<dataclasses._MISSING_TYPE object at 0x7f3ec0dcb970>,init=True,repr=True,hash=None,compare=True,metadata=mappingproxy({'pytree_node': False}),kw_only=False,_field_type=_FIELD))"
      ]
     },
     "execution_count": 53,
     "metadata": {},
     "output_type": "execute_result"
    }
   ],
   "source": [
    "dataclasses.fields(Params)"
   ]
  },
  {
   "cell_type": "code",
   "execution_count": 57,
   "metadata": {},
   "outputs": [
    {
     "data": {
      "text/plain": [
       "mappingproxy({'__module__': '__main__',\n",
       "              '__dict__': <attribute '__dict__' of 'Params' objects>,\n",
       "              '__weakref__': <attribute '__weakref__' of 'Params' objects>,\n",
       "              '__doc__': 'Params(eField: float, Ab: float, kb: float, lifetime: float, vdrift: float, long_diff: float, tran_diff: float, tpc_borders: jax.Array, box: int, birks: int, lArDensity: float, alpha: float, beta: float, MeVToElectrons: float, pixel_pitch: float, n_pixels: tuple, max_radius: int, max_active_pixels: int, drift_length: float, t_sampling: float, time_interval: float, time_padding: float, min_step_size: float, time_max: float, time_window: float, e_charge: float, MAX_ADC_VALUES: int, DISCRIMINATION_THRESHOLD: float, ADC_HOLD_DELAY: int, CLOCK_CYCLE: float, GAIN: float, V_CM: float, V_REF: float, V_PEDESTAL: float, ADC_COUNTS: int, RESET_NOISE_CHARGE: float, UNCORRELATED_NOISE_CHARGE: float)',\n",
       "              '__annotations__': {'eField': float,\n",
       "               'Ab': float,\n",
       "               'kb': float,\n",
       "               'lifetime': float,\n",
       "               'vdrift': float,\n",
       "               'long_diff': float,\n",
       "               'tran_diff': float,\n",
       "               'tpc_borders': jax.Array,\n",
       "               'box': int,\n",
       "               'birks': int,\n",
       "               'lArDensity': float,\n",
       "               'alpha': float,\n",
       "               'beta': float,\n",
       "               'MeVToElectrons': float,\n",
       "               'pixel_pitch': float,\n",
       "               'n_pixels': tuple,\n",
       "               'max_radius': int,\n",
       "               'max_active_pixels': int,\n",
       "               'drift_length': float,\n",
       "               't_sampling': float,\n",
       "               'time_interval': float,\n",
       "               'time_padding': float,\n",
       "               'min_step_size': float,\n",
       "               'time_max': float,\n",
       "               'time_window': float,\n",
       "               'e_charge': float,\n",
       "               'MAX_ADC_VALUES': int,\n",
       "               'DISCRIMINATION_THRESHOLD': float,\n",
       "               'ADC_HOLD_DELAY': int,\n",
       "               'CLOCK_CYCLE': float,\n",
       "               'GAIN': float,\n",
       "               'V_CM': float,\n",
       "               'V_REF': float,\n",
       "               'V_PEDESTAL': float,\n",
       "               'ADC_COUNTS': int,\n",
       "               'RESET_NOISE_CHARGE': float,\n",
       "               'UNCORRELATED_NOISE_CHARGE': float},\n",
       "              '__dataclass_params__': _DataclassParams(init=True,repr=True,eq=True,order=False,unsafe_hash=False,frozen=True),\n",
       "              '__dataclass_fields__': {'eField': Field(name='eField',type=<class 'float'>,default=<dataclasses._MISSING_TYPE object at 0x7f3ec0dcb970>,default_factory=<dataclasses._MISSING_TYPE object at 0x7f3ec0dcb970>,init=True,repr=True,hash=None,compare=True,metadata=mappingproxy({}),kw_only=False,_field_type=_FIELD),\n",
       "               'Ab': Field(name='Ab',type=<class 'float'>,default=<dataclasses._MISSING_TYPE object at 0x7f3ec0dcb970>,default_factory=<dataclasses._MISSING_TYPE object at 0x7f3ec0dcb970>,init=True,repr=True,hash=None,compare=True,metadata=mappingproxy({'pytree_node': False}),kw_only=False,_field_type=_FIELD),\n",
       "               'kb': Field(name='kb',type=<class 'float'>,default=<dataclasses._MISSING_TYPE object at 0x7f3ec0dcb970>,default_factory=<dataclasses._MISSING_TYPE object at 0x7f3ec0dcb970>,init=True,repr=True,hash=None,compare=True,metadata=mappingproxy({'pytree_node': False}),kw_only=False,_field_type=_FIELD),\n",
       "               'lifetime': Field(name='lifetime',type=<class 'float'>,default=<dataclasses._MISSING_TYPE object at 0x7f3ec0dcb970>,default_factory=<dataclasses._MISSING_TYPE object at 0x7f3ec0dcb970>,init=True,repr=True,hash=None,compare=True,metadata=mappingproxy({'pytree_node': False}),kw_only=False,_field_type=_FIELD),\n",
       "               'vdrift': Field(name='vdrift',type=<class 'float'>,default=<dataclasses._MISSING_TYPE object at 0x7f3ec0dcb970>,default_factory=<dataclasses._MISSING_TYPE object at 0x7f3ec0dcb970>,init=True,repr=True,hash=None,compare=True,metadata=mappingproxy({'pytree_node': False}),kw_only=False,_field_type=_FIELD),\n",
       "               'long_diff': Field(name='long_diff',type=<class 'float'>,default=<dataclasses._MISSING_TYPE object at 0x7f3ec0dcb970>,default_factory=<dataclasses._MISSING_TYPE object at 0x7f3ec0dcb970>,init=True,repr=True,hash=None,compare=True,metadata=mappingproxy({'pytree_node': False}),kw_only=False,_field_type=_FIELD),\n",
       "               'tran_diff': Field(name='tran_diff',type=<class 'float'>,default=<dataclasses._MISSING_TYPE object at 0x7f3ec0dcb970>,default_factory=<dataclasses._MISSING_TYPE object at 0x7f3ec0dcb970>,init=True,repr=True,hash=None,compare=True,metadata=mappingproxy({'pytree_node': False}),kw_only=False,_field_type=_FIELD),\n",
       "               'tpc_borders': Field(name='tpc_borders',type=<class 'jax.Array'>,default=<dataclasses._MISSING_TYPE object at 0x7f3ec0dcb970>,default_factory=<dataclasses._MISSING_TYPE object at 0x7f3ec0dcb970>,init=True,repr=True,hash=None,compare=True,metadata=mappingproxy({'pytree_node': False}),kw_only=False,_field_type=_FIELD),\n",
       "               'box': Field(name='box',type=<class 'int'>,default=<dataclasses._MISSING_TYPE object at 0x7f3ec0dcb970>,default_factory=<dataclasses._MISSING_TYPE object at 0x7f3ec0dcb970>,init=True,repr=True,hash=None,compare=True,metadata=mappingproxy({'pytree_node': False}),kw_only=False,_field_type=_FIELD),\n",
       "               'birks': Field(name='birks',type=<class 'int'>,default=<dataclasses._MISSING_TYPE object at 0x7f3ec0dcb970>,default_factory=<dataclasses._MISSING_TYPE object at 0x7f3ec0dcb970>,init=True,repr=True,hash=None,compare=True,metadata=mappingproxy({'pytree_node': False}),kw_only=False,_field_type=_FIELD),\n",
       "               'lArDensity': Field(name='lArDensity',type=<class 'float'>,default=<dataclasses._MISSING_TYPE object at 0x7f3ec0dcb970>,default_factory=<dataclasses._MISSING_TYPE object at 0x7f3ec0dcb970>,init=True,repr=True,hash=None,compare=True,metadata=mappingproxy({'pytree_node': False}),kw_only=False,_field_type=_FIELD),\n",
       "               'alpha': Field(name='alpha',type=<class 'float'>,default=<dataclasses._MISSING_TYPE object at 0x7f3ec0dcb970>,default_factory=<dataclasses._MISSING_TYPE object at 0x7f3ec0dcb970>,init=True,repr=True,hash=None,compare=True,metadata=mappingproxy({'pytree_node': False}),kw_only=False,_field_type=_FIELD),\n",
       "               'beta': Field(name='beta',type=<class 'float'>,default=<dataclasses._MISSING_TYPE object at 0x7f3ec0dcb970>,default_factory=<dataclasses._MISSING_TYPE object at 0x7f3ec0dcb970>,init=True,repr=True,hash=None,compare=True,metadata=mappingproxy({'pytree_node': False}),kw_only=False,_field_type=_FIELD),\n",
       "               'MeVToElectrons': Field(name='MeVToElectrons',type=<class 'float'>,default=<dataclasses._MISSING_TYPE object at 0x7f3ec0dcb970>,default_factory=<dataclasses._MISSING_TYPE object at 0x7f3ec0dcb970>,init=True,repr=True,hash=None,compare=True,metadata=mappingproxy({'pytree_node': False}),kw_only=False,_field_type=_FIELD),\n",
       "               'pixel_pitch': Field(name='pixel_pitch',type=<class 'float'>,default=<dataclasses._MISSING_TYPE object at 0x7f3ec0dcb970>,default_factory=<dataclasses._MISSING_TYPE object at 0x7f3ec0dcb970>,init=True,repr=True,hash=None,compare=True,metadata=mappingproxy({'pytree_node': False}),kw_only=False,_field_type=_FIELD),\n",
       "               'n_pixels': Field(name='n_pixels',type=<class 'tuple'>,default=<dataclasses._MISSING_TYPE object at 0x7f3ec0dcb970>,default_factory=<dataclasses._MISSING_TYPE object at 0x7f3ec0dcb970>,init=True,repr=True,hash=None,compare=True,metadata=mappingproxy({'pytree_node': False}),kw_only=False,_field_type=_FIELD),\n",
       "               'max_radius': Field(name='max_radius',type=<class 'int'>,default=<dataclasses._MISSING_TYPE object at 0x7f3ec0dcb970>,default_factory=<dataclasses._MISSING_TYPE object at 0x7f3ec0dcb970>,init=True,repr=True,hash=None,compare=True,metadata=mappingproxy({'pytree_node': False}),kw_only=False,_field_type=_FIELD),\n",
       "               'max_active_pixels': Field(name='max_active_pixels',type=<class 'int'>,default=<dataclasses._MISSING_TYPE object at 0x7f3ec0dcb970>,default_factory=<dataclasses._MISSING_TYPE object at 0x7f3ec0dcb970>,init=True,repr=True,hash=None,compare=True,metadata=mappingproxy({'pytree_node': False}),kw_only=False,_field_type=_FIELD),\n",
       "               'drift_length': Field(name='drift_length',type=<class 'float'>,default=<dataclasses._MISSING_TYPE object at 0x7f3ec0dcb970>,default_factory=<dataclasses._MISSING_TYPE object at 0x7f3ec0dcb970>,init=True,repr=True,hash=None,compare=True,metadata=mappingproxy({'pytree_node': False}),kw_only=False,_field_type=_FIELD),\n",
       "               't_sampling': Field(name='t_sampling',type=<class 'float'>,default=<dataclasses._MISSING_TYPE object at 0x7f3ec0dcb970>,default_factory=<dataclasses._MISSING_TYPE object at 0x7f3ec0dcb970>,init=True,repr=True,hash=None,compare=True,metadata=mappingproxy({'pytree_node': False}),kw_only=False,_field_type=_FIELD),\n",
       "               'time_interval': Field(name='time_interval',type=<class 'float'>,default=<dataclasses._MISSING_TYPE object at 0x7f3ec0dcb970>,default_factory=<dataclasses._MISSING_TYPE object at 0x7f3ec0dcb970>,init=True,repr=True,hash=None,compare=True,metadata=mappingproxy({'pytree_node': False}),kw_only=False,_field_type=_FIELD),\n",
       "               'time_padding': Field(name='time_padding',type=<class 'float'>,default=<dataclasses._MISSING_TYPE object at 0x7f3ec0dcb970>,default_factory=<dataclasses._MISSING_TYPE object at 0x7f3ec0dcb970>,init=True,repr=True,hash=None,compare=True,metadata=mappingproxy({'pytree_node': False}),kw_only=False,_field_type=_FIELD),\n",
       "               'min_step_size': Field(name='min_step_size',type=<class 'float'>,default=<dataclasses._MISSING_TYPE object at 0x7f3ec0dcb970>,default_factory=<dataclasses._MISSING_TYPE object at 0x7f3ec0dcb970>,init=True,repr=True,hash=None,compare=True,metadata=mappingproxy({'pytree_node': False}),kw_only=False,_field_type=_FIELD),\n",
       "               'time_max': Field(name='time_max',type=<class 'float'>,default=<dataclasses._MISSING_TYPE object at 0x7f3ec0dcb970>,default_factory=<dataclasses._MISSING_TYPE object at 0x7f3ec0dcb970>,init=True,repr=True,hash=None,compare=True,metadata=mappingproxy({'pytree_node': False}),kw_only=False,_field_type=_FIELD),\n",
       "               'time_window': Field(name='time_window',type=<class 'float'>,default=<dataclasses._MISSING_TYPE object at 0x7f3ec0dcb970>,default_factory=<dataclasses._MISSING_TYPE object at 0x7f3ec0dcb970>,init=True,repr=True,hash=None,compare=True,metadata=mappingproxy({'pytree_node': False}),kw_only=False,_field_type=_FIELD),\n",
       "               'e_charge': Field(name='e_charge',type=<class 'float'>,default=<dataclasses._MISSING_TYPE object at 0x7f3ec0dcb970>,default_factory=<dataclasses._MISSING_TYPE object at 0x7f3ec0dcb970>,init=True,repr=True,hash=None,compare=True,metadata=mappingproxy({'pytree_node': False}),kw_only=False,_field_type=_FIELD),\n",
       "               'MAX_ADC_VALUES': Field(name='MAX_ADC_VALUES',type=<class 'int'>,default=<dataclasses._MISSING_TYPE object at 0x7f3ec0dcb970>,default_factory=<dataclasses._MISSING_TYPE object at 0x7f3ec0dcb970>,init=True,repr=True,hash=None,compare=True,metadata=mappingproxy({'pytree_node': False}),kw_only=False,_field_type=_FIELD),\n",
       "               'DISCRIMINATION_THRESHOLD': Field(name='DISCRIMINATION_THRESHOLD',type=<class 'float'>,default=<dataclasses._MISSING_TYPE object at 0x7f3ec0dcb970>,default_factory=<dataclasses._MISSING_TYPE object at 0x7f3ec0dcb970>,init=True,repr=True,hash=None,compare=True,metadata=mappingproxy({'pytree_node': False}),kw_only=False,_field_type=_FIELD),\n",
       "               'ADC_HOLD_DELAY': Field(name='ADC_HOLD_DELAY',type=<class 'int'>,default=<dataclasses._MISSING_TYPE object at 0x7f3ec0dcb970>,default_factory=<dataclasses._MISSING_TYPE object at 0x7f3ec0dcb970>,init=True,repr=True,hash=None,compare=True,metadata=mappingproxy({'pytree_node': False}),kw_only=False,_field_type=_FIELD),\n",
       "               'CLOCK_CYCLE': Field(name='CLOCK_CYCLE',type=<class 'float'>,default=<dataclasses._MISSING_TYPE object at 0x7f3ec0dcb970>,default_factory=<dataclasses._MISSING_TYPE object at 0x7f3ec0dcb970>,init=True,repr=True,hash=None,compare=True,metadata=mappingproxy({'pytree_node': False}),kw_only=False,_field_type=_FIELD),\n",
       "               'GAIN': Field(name='GAIN',type=<class 'float'>,default=<dataclasses._MISSING_TYPE object at 0x7f3ec0dcb970>,default_factory=<dataclasses._MISSING_TYPE object at 0x7f3ec0dcb970>,init=True,repr=True,hash=None,compare=True,metadata=mappingproxy({'pytree_node': False}),kw_only=False,_field_type=_FIELD),\n",
       "               'V_CM': Field(name='V_CM',type=<class 'float'>,default=<dataclasses._MISSING_TYPE object at 0x7f3ec0dcb970>,default_factory=<dataclasses._MISSING_TYPE object at 0x7f3ec0dcb970>,init=True,repr=True,hash=None,compare=True,metadata=mappingproxy({'pytree_node': False}),kw_only=False,_field_type=_FIELD),\n",
       "               'V_REF': Field(name='V_REF',type=<class 'float'>,default=<dataclasses._MISSING_TYPE object at 0x7f3ec0dcb970>,default_factory=<dataclasses._MISSING_TYPE object at 0x7f3ec0dcb970>,init=True,repr=True,hash=None,compare=True,metadata=mappingproxy({'pytree_node': False}),kw_only=False,_field_type=_FIELD),\n",
       "               'V_PEDESTAL': Field(name='V_PEDESTAL',type=<class 'float'>,default=<dataclasses._MISSING_TYPE object at 0x7f3ec0dcb970>,default_factory=<dataclasses._MISSING_TYPE object at 0x7f3ec0dcb970>,init=True,repr=True,hash=None,compare=True,metadata=mappingproxy({'pytree_node': False}),kw_only=False,_field_type=_FIELD),\n",
       "               'ADC_COUNTS': Field(name='ADC_COUNTS',type=<class 'int'>,default=<dataclasses._MISSING_TYPE object at 0x7f3ec0dcb970>,default_factory=<dataclasses._MISSING_TYPE object at 0x7f3ec0dcb970>,init=True,repr=True,hash=None,compare=True,metadata=mappingproxy({'pytree_node': False}),kw_only=False,_field_type=_FIELD),\n",
       "               'RESET_NOISE_CHARGE': Field(name='RESET_NOISE_CHARGE',type=<class 'float'>,default=<dataclasses._MISSING_TYPE object at 0x7f3ec0dcb970>,default_factory=<dataclasses._MISSING_TYPE object at 0x7f3ec0dcb970>,init=True,repr=True,hash=None,compare=True,metadata=mappingproxy({'pytree_node': False}),kw_only=False,_field_type=_FIELD),\n",
       "               'UNCORRELATED_NOISE_CHARGE': Field(name='UNCORRELATED_NOISE_CHARGE',type=<class 'float'>,default=<dataclasses._MISSING_TYPE object at 0x7f3ec0dcb970>,default_factory=<dataclasses._MISSING_TYPE object at 0x7f3ec0dcb970>,init=True,repr=True,hash=None,compare=True,metadata=mappingproxy({'pytree_node': False}),kw_only=False,_field_type=_FIELD)},\n",
       "              '__init__': <function __main__.Params.__init__(self, eField: float, Ab: float, kb: float, lifetime: float, vdrift: float, long_diff: float, tran_diff: float, tpc_borders: jax.Array, box: int, birks: int, lArDensity: float, alpha: float, beta: float, MeVToElectrons: float, pixel_pitch: float, n_pixels: tuple, max_radius: int, max_active_pixels: int, drift_length: float, t_sampling: float, time_interval: float, time_padding: float, min_step_size: float, time_max: float, time_window: float, e_charge: float, MAX_ADC_VALUES: int, DISCRIMINATION_THRESHOLD: float, ADC_HOLD_DELAY: int, CLOCK_CYCLE: float, GAIN: float, V_CM: float, V_REF: float, V_PEDESTAL: float, ADC_COUNTS: int, RESET_NOISE_CHARGE: float, UNCORRELATED_NOISE_CHARGE: float) -> None>,\n",
       "              '__repr__': <function __main__.Params.__repr__(self)>,\n",
       "              '__eq__': <function __main__.Params.__eq__(self, other)>,\n",
       "              '__setattr__': <function __main__.Params.__setattr__(self, name, value)>,\n",
       "              '__delattr__': <function __main__.Params.__delattr__(self, name)>,\n",
       "              '__hash__': <function __main__.Params.__hash__(self)>,\n",
       "              '__match_args__': ('eField',\n",
       "               'Ab',\n",
       "               'kb',\n",
       "               'lifetime',\n",
       "               'vdrift',\n",
       "               'long_diff',\n",
       "               'tran_diff',\n",
       "               'tpc_borders',\n",
       "               'box',\n",
       "               'birks',\n",
       "               'lArDensity',\n",
       "               'alpha',\n",
       "               'beta',\n",
       "               'MeVToElectrons',\n",
       "               'pixel_pitch',\n",
       "               'n_pixels',\n",
       "               'max_radius',\n",
       "               'max_active_pixels',\n",
       "               'drift_length',\n",
       "               't_sampling',\n",
       "               'time_interval',\n",
       "               'time_padding',\n",
       "               'min_step_size',\n",
       "               'time_max',\n",
       "               'time_window',\n",
       "               'e_charge',\n",
       "               'MAX_ADC_VALUES',\n",
       "               'DISCRIMINATION_THRESHOLD',\n",
       "               'ADC_HOLD_DELAY',\n",
       "               'CLOCK_CYCLE',\n",
       "               'GAIN',\n",
       "               'V_CM',\n",
       "               'V_REF',\n",
       "               'V_PEDESTAL',\n",
       "               'ADC_COUNTS',\n",
       "               'RESET_NOISE_CHARGE',\n",
       "               'UNCORRELATED_NOISE_CHARGE'),\n",
       "              'replace': <function flax.struct.dataclass.<locals>.replace(self, **updates)>,\n",
       "              '_flax_dataclass': True})"
      ]
     },
     "execution_count": 57,
     "metadata": {},
     "output_type": "execute_result"
    }
   ],
   "source": [
    "Params.__dict__"
   ]
  },
  {
   "cell_type": "code",
   "execution_count": 38,
   "metadata": {},
   "outputs": [],
   "source": [
    "class Params_template:\n",
    "    eField: float = struct.field(pytree_node=False)\n",
    "    Ab: float = struct.field(pytree_node=False)\n",
    "    kb: float = struct.field(pytree_node=False)\n",
    "    lifetime: float = struct.field(pytree_node=False)\n",
    "    vdrift: float = struct.field(pytree_node=False)\n",
    "    long_diff: float = struct.field(pytree_node=False)\n",
    "    tran_diff: float = struct.field(pytree_node=False)\n",
    "    tpc_borders: jax.Array = struct.field(pytree_node=False)\n",
    "    box: int = struct.field(pytree_node=False)\n",
    "    birks: int = struct.field(pytree_node=False)\n",
    "    lArDensity: float = struct.field(pytree_node=False)\n",
    "    alpha: float = struct.field(pytree_node=False)\n",
    "    beta: float = struct.field(pytree_node=False)\n",
    "    MeVToElectrons: float = struct.field(pytree_node=False)\n",
    "    pixel_pitch: float = struct.field(pytree_node=False)\n",
    "    n_pixels: tuple = struct.field(pytree_node=False)\n",
    "    max_radius: int = struct.field(pytree_node=False)\n",
    "    max_active_pixels: int = struct.field(pytree_node=False)\n",
    "    drift_length: float = struct.field(pytree_node=False)\n",
    "    t_sampling: float = struct.field(pytree_node=False)\n",
    "    time_interval: float = struct.field(pytree_node=False)\n",
    "    time_padding: float = struct.field(pytree_node=False)\n",
    "    min_step_size: float = struct.field(pytree_node=False)\n",
    "    time_max: float = struct.field(pytree_node=False)\n",
    "    time_window: float = struct.field(pytree_node=False)\n",
    "    e_charge: float = struct.field(pytree_node=False)\n",
    "    #: Maximum number of ADC values stored per pixel\n",
    "    MAX_ADC_VALUES: int = struct.field(pytree_node=False)\n",
    "    #: Discrimination threshold\n",
    "    DISCRIMINATION_THRESHOLD: float = struct.field(pytree_node=False)\n",
    "    #: ADC hold delay in clock cycles\n",
    "    ADC_HOLD_DELAY: int = struct.field(pytree_node=False)\n",
    "    #: Clock cycle time in :math:`\\mu s`\n",
    "    CLOCK_CYCLE: float = struct.field(pytree_node=False)\n",
    "    #: Front-end gain in :math:`mV/ke-`\n",
    "    GAIN: float = struct.field(pytree_node=False)\n",
    "    #: Common-mode voltage in :math:`mV`\n",
    "    V_CM: float = struct.field(pytree_node=False)\n",
    "    #: Reference voltage in :math:`mV`\n",
    "    V_REF: float = struct.field(pytree_node=False)\n",
    "    #: Pedestal voltage in :math:`mV`\n",
    "    V_PEDESTAL: float = struct.field(pytree_node=False)\n",
    "    #: Number of ADC counts\n",
    "    ADC_COUNTS: int = struct.field(pytree_node=False)\n",
    "    # if readout_noise:\n",
    "        #: Reset noise in e-\n",
    "        # self.RESET_NOISE_CHARGE = 900\n",
    "        # #: Uncorrelated noise in e-\n",
    "        # self.UNCORRELATED_NOISE_CHARGE = 500\n",
    "    # else:\n",
    "    RESET_NOISE_CHARGE: float = struct.field(pytree_node=False)\n",
    "    UNCORRELATED_NOISE_CHARGE: float = struct.field(pytree_node=False)"
   ]
  },
  {
   "cell_type": "code",
   "execution_count": 66,
   "metadata": {},
   "outputs": [
    {
     "name": "stdout",
     "output_type": "stream",
     "text": [
      "GradientTransformationExtraArgs(init=<function multi_transform.<locals>.init_fn at 0x7f3e1e5db520>, update=<function multi_transform.<locals>.update_fn at 0x7f3e1e5db5b0>)\n"
     ]
    }
   ],
   "source": [
    "import optax\n",
    "opt = optax.multi_transform({'eField': optax.adam(0.1), 'Ab': optax.adam(0.01)}, ['eField', 'Ab'])\n",
    "print(opt)"
   ]
  },
  {
   "cell_type": "code",
   "execution_count": 68,
   "metadata": {},
   "outputs": [
    {
     "data": {
      "application/vnd.jupyter.widget-view+json": {
       "model_id": "5ccc3faf55c641ee94653c45683c9974",
       "version_major": 2,
       "version_minor": 0
      },
      "text/plain": [
       "config.json:   0%|          | 0.00/570 [00:00<?, ?B/s]"
      ]
     },
     "metadata": {},
     "output_type": "display_data"
    },
    {
     "data": {
      "application/vnd.jupyter.widget-view+json": {
       "model_id": "5271bee72b4242a3855f5d8947180398",
       "version_major": 2,
       "version_minor": 0
      },
      "text/plain": [
       "flax_model.msgpack:   0%|          | 0.00/438M [00:00<?, ?B/s]"
      ]
     },
     "metadata": {},
     "output_type": "display_data"
    },
    {
     "name": "stderr",
     "output_type": "stream",
     "text": [
      "2024-03-29 13:54:33.762247: E external/xla/xla/stream_executor/cuda/cuda_driver.cc:274] failed call to cuInit: CUDA_ERROR_UNKNOWN: unknown error\n",
      "CUDA backend failed to initialize: FAILED_PRECONDITION: No visible GPU devices. (Set TF_CPP_MIN_LOG_LEVEL=0 and rerun for more info.)\n",
      "Some weights of the model checkpoint at bert-base-uncased were not used when initializing FlaxBertForSequenceClassification: {('cls', 'predictions', 'transform', 'dense', 'bias'), ('cls', 'predictions', 'transform', 'LayerNorm', 'scale'), ('cls', 'predictions', 'transform', 'LayerNorm', 'bias'), ('cls', 'predictions', 'transform', 'dense', 'kernel'), ('cls', 'predictions', 'bias')}\n",
      "- This IS expected if you are initializing FlaxBertForSequenceClassification from the checkpoint of a model trained on another task or with another architecture (e.g. initializing a BertForSequenceClassification model from a BertForPreTraining model).\n",
      "- This IS NOT expected if you are initializing FlaxBertForSequenceClassification from the checkpoint of a model that you expect to be exactly identical (initializing a BertForSequenceClassification model from a BertForSequenceClassification model).\n",
      "Some weights of FlaxBertForSequenceClassification were not initialized from the model checkpoint at bert-base-uncased and are newly initialized: {('classifier', 'kernel'), ('classifier', 'bias'), ('bert', 'pooler', 'dense', 'kernel'), ('bert', 'pooler', 'dense', 'bias')}\n",
      "You should probably TRAIN this model on a down-stream task to be able to use it for predictions and inference.\n"
     ]
    },
    {
     "data": {
      "text/plain": [
       "dict_keys(['bert', 'classifier'])"
      ]
     },
     "execution_count": 68,
     "metadata": {},
     "output_type": "execute_result"
    }
   ],
   "source": [
    "from transformers import FlaxBertForSequenceClassification\n",
    "model = FlaxBertForSequenceClassification.from_pretrained('bert-base-uncased')\n",
    "model.params.keys()"
   ]
  },
  {
   "cell_type": "code",
   "execution_count": 71,
   "metadata": {},
   "outputs": [
    {
     "data": {
      "text/plain": [
       "PyTreeDef({'bert': {'embeddings': {'LayerNorm': {'bias': *, 'scale': *}, 'position_embeddings': {'embedding': *}, 'token_type_embeddings': {'embedding': *}, 'word_embeddings': {'embedding': *}}, 'encoder': {'layer': {'0': {'attention': {'output': {'LayerNorm': {'bias': *, 'scale': *}, 'dense': {'bias': *, 'kernel': *}}, 'self': {'key': {'bias': *, 'kernel': *}, 'query': {'bias': *, 'kernel': *}, 'value': {'bias': *, 'kernel': *}}}, 'intermediate': {'dense': {'bias': *, 'kernel': *}}, 'output': {'LayerNorm': {'bias': *, 'scale': *}, 'dense': {'bias': *, 'kernel': *}}}, '1': {'attention': {'output': {'LayerNorm': {'bias': *, 'scale': *}, 'dense': {'bias': *, 'kernel': *}}, 'self': {'key': {'bias': *, 'kernel': *}, 'query': {'bias': *, 'kernel': *}, 'value': {'bias': *, 'kernel': *}}}, 'intermediate': {'dense': {'bias': *, 'kernel': *}}, 'output': {'LayerNorm': {'bias': *, 'scale': *}, 'dense': {'bias': *, 'kernel': *}}}, '10': {'attention': {'output': {'LayerNorm': {'bias': *, 'scale': *}, 'dense': {'bias': *, 'kernel': *}}, 'self': {'key': {'bias': *, 'kernel': *}, 'query': {'bias': *, 'kernel': *}, 'value': {'bias': *, 'kernel': *}}}, 'intermediate': {'dense': {'bias': *, 'kernel': *}}, 'output': {'LayerNorm': {'bias': *, 'scale': *}, 'dense': {'bias': *, 'kernel': *}}}, '11': {'attention': {'output': {'LayerNorm': {'bias': *, 'scale': *}, 'dense': {'bias': *, 'kernel': *}}, 'self': {'key': {'bias': *, 'kernel': *}, 'query': {'bias': *, 'kernel': *}, 'value': {'bias': *, 'kernel': *}}}, 'intermediate': {'dense': {'bias': *, 'kernel': *}}, 'output': {'LayerNorm': {'bias': *, 'scale': *}, 'dense': {'bias': *, 'kernel': *}}}, '2': {'attention': {'output': {'LayerNorm': {'bias': *, 'scale': *}, 'dense': {'bias': *, 'kernel': *}}, 'self': {'key': {'bias': *, 'kernel': *}, 'query': {'bias': *, 'kernel': *}, 'value': {'bias': *, 'kernel': *}}}, 'intermediate': {'dense': {'bias': *, 'kernel': *}}, 'output': {'LayerNorm': {'bias': *, 'scale': *}, 'dense': {'bias': *, 'kernel': *}}}, '3': {'attention': {'output': {'LayerNorm': {'bias': *, 'scale': *}, 'dense': {'bias': *, 'kernel': *}}, 'self': {'key': {'bias': *, 'kernel': *}, 'query': {'bias': *, 'kernel': *}, 'value': {'bias': *, 'kernel': *}}}, 'intermediate': {'dense': {'bias': *, 'kernel': *}}, 'output': {'LayerNorm': {'bias': *, 'scale': *}, 'dense': {'bias': *, 'kernel': *}}}, '4': {'attention': {'output': {'LayerNorm': {'bias': *, 'scale': *}, 'dense': {'bias': *, 'kernel': *}}, 'self': {'key': {'bias': *, 'kernel': *}, 'query': {'bias': *, 'kernel': *}, 'value': {'bias': *, 'kernel': *}}}, 'intermediate': {'dense': {'bias': *, 'kernel': *}}, 'output': {'LayerNorm': {'bias': *, 'scale': *}, 'dense': {'bias': *, 'kernel': *}}}, '5': {'attention': {'output': {'LayerNorm': {'bias': *, 'scale': *}, 'dense': {'bias': *, 'kernel': *}}, 'self': {'key': {'bias': *, 'kernel': *}, 'query': {'bias': *, 'kernel': *}, 'value': {'bias': *, 'kernel': *}}}, 'intermediate': {'dense': {'bias': *, 'kernel': *}}, 'output': {'LayerNorm': {'bias': *, 'scale': *}, 'dense': {'bias': *, 'kernel': *}}}, '6': {'attention': {'output': {'LayerNorm': {'bias': *, 'scale': *}, 'dense': {'bias': *, 'kernel': *}}, 'self': {'key': {'bias': *, 'kernel': *}, 'query': {'bias': *, 'kernel': *}, 'value': {'bias': *, 'kernel': *}}}, 'intermediate': {'dense': {'bias': *, 'kernel': *}}, 'output': {'LayerNorm': {'bias': *, 'scale': *}, 'dense': {'bias': *, 'kernel': *}}}, '7': {'attention': {'output': {'LayerNorm': {'bias': *, 'scale': *}, 'dense': {'bias': *, 'kernel': *}}, 'self': {'key': {'bias': *, 'kernel': *}, 'query': {'bias': *, 'kernel': *}, 'value': {'bias': *, 'kernel': *}}}, 'intermediate': {'dense': {'bias': *, 'kernel': *}}, 'output': {'LayerNorm': {'bias': *, 'scale': *}, 'dense': {'bias': *, 'kernel': *}}}, '8': {'attention': {'output': {'LayerNorm': {'bias': *, 'scale': *}, 'dense': {'bias': *, 'kernel': *}}, 'self': {'key': {'bias': *, 'kernel': *}, 'query': {'bias': *, 'kernel': *}, 'value': {'bias': *, 'kernel': *}}}, 'intermediate': {'dense': {'bias': *, 'kernel': *}}, 'output': {'LayerNorm': {'bias': *, 'scale': *}, 'dense': {'bias': *, 'kernel': *}}}, '9': {'attention': {'output': {'LayerNorm': {'bias': *, 'scale': *}, 'dense': {'bias': *, 'kernel': *}}, 'self': {'key': {'bias': *, 'kernel': *}, 'query': {'bias': *, 'kernel': *}, 'value': {'bias': *, 'kernel': *}}}, 'intermediate': {'dense': {'bias': *, 'kernel': *}}, 'output': {'LayerNorm': {'bias': *, 'scale': *}, 'dense': {'bias': *, 'kernel': *}}}}}, 'pooler': {'dense': {'bias': *, 'kernel': *}}}, 'classifier': {'bias': *, 'kernel': *}})"
      ]
     },
     "execution_count": 71,
     "metadata": {},
     "output_type": "execute_result"
    }
   ],
   "source": [
    "jax.tree_util.tree_structure(model.params)"
   ]
  }
 ],
 "metadata": {
  "kernelspec": {
   "display_name": "Python 3",
   "language": "python",
   "name": "python3"
  },
  "language_info": {
   "codemirror_mode": {
    "name": "ipython",
    "version": 3
   },
   "file_extension": ".py",
   "mimetype": "text/x-python",
   "name": "python",
   "nbconvert_exporter": "python",
   "pygments_lexer": "ipython3",
   "version": "3.10.12"
  }
 },
 "nbformat": 4,
 "nbformat_minor": 2
}
